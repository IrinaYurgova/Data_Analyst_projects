{
 "cells": [
  {
   "cell_type": "markdown",
   "metadata": {},
   "source": [
    "# Интернет-магазин компьютерных игр \"Стримчик\""
   ]
  },
  {
   "cell_type": "markdown",
   "metadata": {},
   "source": [
    "**Цель:**\n",
    "- выявить определяющие успешность игры закономерности, потенциально популярные продукты для планирования рекламных компаний."
   ]
  },
  {
   "cell_type": "markdown",
   "metadata": {},
   "source": [
    "**Задачи:**\n",
    "- провести исследовательский анализ данных (изучить выпуск игр и продажи по годам, платформам, жанрам);\n",
    "- изучить портреты пользователей в разных регионах (по топовым платформам, жанрам, влиянию рейтинга ESRB на продажи);\n",
    "- проверить гипотезы;\n",
    "- cформулировать основные выводы."
   ]
  },
  {
   "cell_type": "markdown",
   "metadata": {},
   "source": [
    "**Описание данных:**\n",
    "\n",
    "Исторические данные из открытых источников до 2016 года.\n",
    "- `Name` — название игры,\n",
    "- `Platform` — платформа,\n",
    "- `Year_of_Release` — год выпуска,\n",
    "- `Genre` — жанр игры,\n",
    "- `NA_sales` — продажи в Северной Америке (миллионы проданных копий),\n",
    "- `EU_sales` — продажи в Европе (миллионы проданных копий),\n",
    "- `JP_sales` — продажи в Японии (миллионы проданных копий),\n",
    "- `Other_sales` — продажи в других странах (миллионы проданных копий),\n",
    "- `Critic_Score` — оценка критиков (максимум 100),\n",
    "- `User_Score` — оценка пользователей (максимум 10),\n",
    "- `Rating` — рейтинг от организации ESRB (возрастная категория)."
   ]
  },
  {
   "cell_type": "markdown",
   "metadata": {},
   "source": [
    "## Загрузка данных"
   ]
  },
  {
   "cell_type": "markdown",
   "metadata": {},
   "source": [
    "Импортируем необходимые библиотеки:"
   ]
  },
  {
   "cell_type": "code",
   "execution_count": 1,
   "metadata": {},
   "outputs": [],
   "source": [
    "import pandas as pd\n",
    "import matplotlib.pyplot as plt\n",
    "from scipy import stats as st\n",
    "import numpy as np\n",
    "import warnings\n",
    "warnings.filterwarnings('ignore')"
   ]
  },
  {
   "cell_type": "markdown",
   "metadata": {},
   "source": [
    "Прочитаем файл:"
   ]
  },
  {
   "cell_type": "code",
   "execution_count": 2,
   "metadata": {},
   "outputs": [],
   "source": [
    "df = pd.read_csv('games.csv')"
   ]
  },
  {
   "cell_type": "markdown",
   "metadata": {},
   "source": [
    "## Подготовка данных"
   ]
  },
  {
   "cell_type": "markdown",
   "metadata": {},
   "source": [
    "**Этапы:**\n",
    "- Изучить общую информацию о датасете;\n",
    "- Исправить стиль заголовков;\n",
    "- Обработать пропуски;\n",
    "- Изменить тип данных, где это необходимо;\n",
    "- Проверить данные на наличие дубликатов и обработать их;\n",
    "- Добавить в таблицу столбец с суммарными продажами во всех регионах."
   ]
  },
  {
   "cell_type": "markdown",
   "metadata": {},
   "source": [
    "### Общая информация о датасете"
   ]
  },
  {
   "cell_type": "markdown",
   "metadata": {},
   "source": [
    "Выведем на экран первые 5 строк таблицы:"
   ]
  },
  {
   "cell_type": "code",
   "execution_count": 3,
   "metadata": {},
   "outputs": [
    {
     "data": {
      "text/html": [
       "<div>\n",
       "<style scoped>\n",
       "    .dataframe tbody tr th:only-of-type {\n",
       "        vertical-align: middle;\n",
       "    }\n",
       "\n",
       "    .dataframe tbody tr th {\n",
       "        vertical-align: top;\n",
       "    }\n",
       "\n",
       "    .dataframe thead th {\n",
       "        text-align: right;\n",
       "    }\n",
       "</style>\n",
       "<table border=\"1\" class=\"dataframe\">\n",
       "  <thead>\n",
       "    <tr style=\"text-align: right;\">\n",
       "      <th></th>\n",
       "      <th>Name</th>\n",
       "      <th>Platform</th>\n",
       "      <th>Year_of_Release</th>\n",
       "      <th>Genre</th>\n",
       "      <th>NA_sales</th>\n",
       "      <th>EU_sales</th>\n",
       "      <th>JP_sales</th>\n",
       "      <th>Other_sales</th>\n",
       "      <th>Critic_Score</th>\n",
       "      <th>User_Score</th>\n",
       "      <th>Rating</th>\n",
       "    </tr>\n",
       "  </thead>\n",
       "  <tbody>\n",
       "    <tr>\n",
       "      <th>0</th>\n",
       "      <td>Wii Sports</td>\n",
       "      <td>Wii</td>\n",
       "      <td>2006.0</td>\n",
       "      <td>Sports</td>\n",
       "      <td>41.36</td>\n",
       "      <td>28.96</td>\n",
       "      <td>3.77</td>\n",
       "      <td>8.45</td>\n",
       "      <td>76.0</td>\n",
       "      <td>8</td>\n",
       "      <td>E</td>\n",
       "    </tr>\n",
       "    <tr>\n",
       "      <th>1</th>\n",
       "      <td>Super Mario Bros.</td>\n",
       "      <td>NES</td>\n",
       "      <td>1985.0</td>\n",
       "      <td>Platform</td>\n",
       "      <td>29.08</td>\n",
       "      <td>3.58</td>\n",
       "      <td>6.81</td>\n",
       "      <td>0.77</td>\n",
       "      <td>NaN</td>\n",
       "      <td>NaN</td>\n",
       "      <td>NaN</td>\n",
       "    </tr>\n",
       "    <tr>\n",
       "      <th>2</th>\n",
       "      <td>Mario Kart Wii</td>\n",
       "      <td>Wii</td>\n",
       "      <td>2008.0</td>\n",
       "      <td>Racing</td>\n",
       "      <td>15.68</td>\n",
       "      <td>12.76</td>\n",
       "      <td>3.79</td>\n",
       "      <td>3.29</td>\n",
       "      <td>82.0</td>\n",
       "      <td>8.3</td>\n",
       "      <td>E</td>\n",
       "    </tr>\n",
       "    <tr>\n",
       "      <th>3</th>\n",
       "      <td>Wii Sports Resort</td>\n",
       "      <td>Wii</td>\n",
       "      <td>2009.0</td>\n",
       "      <td>Sports</td>\n",
       "      <td>15.61</td>\n",
       "      <td>10.93</td>\n",
       "      <td>3.28</td>\n",
       "      <td>2.95</td>\n",
       "      <td>80.0</td>\n",
       "      <td>8</td>\n",
       "      <td>E</td>\n",
       "    </tr>\n",
       "    <tr>\n",
       "      <th>4</th>\n",
       "      <td>Pokemon Red/Pokemon Blue</td>\n",
       "      <td>GB</td>\n",
       "      <td>1996.0</td>\n",
       "      <td>Role-Playing</td>\n",
       "      <td>11.27</td>\n",
       "      <td>8.89</td>\n",
       "      <td>10.22</td>\n",
       "      <td>1.00</td>\n",
       "      <td>NaN</td>\n",
       "      <td>NaN</td>\n",
       "      <td>NaN</td>\n",
       "    </tr>\n",
       "  </tbody>\n",
       "</table>\n",
       "</div>"
      ],
      "text/plain": [
       "                       Name Platform  Year_of_Release         Genre  NA_sales  \\\n",
       "0                Wii Sports      Wii           2006.0        Sports     41.36   \n",
       "1         Super Mario Bros.      NES           1985.0      Platform     29.08   \n",
       "2            Mario Kart Wii      Wii           2008.0        Racing     15.68   \n",
       "3         Wii Sports Resort      Wii           2009.0        Sports     15.61   \n",
       "4  Pokemon Red/Pokemon Blue       GB           1996.0  Role-Playing     11.27   \n",
       "\n",
       "   EU_sales  JP_sales  Other_sales  Critic_Score User_Score Rating  \n",
       "0     28.96      3.77         8.45          76.0          8      E  \n",
       "1      3.58      6.81         0.77           NaN        NaN    NaN  \n",
       "2     12.76      3.79         3.29          82.0        8.3      E  \n",
       "3     10.93      3.28         2.95          80.0          8      E  \n",
       "4      8.89     10.22         1.00           NaN        NaN    NaN  "
      ]
     },
     "execution_count": 3,
     "metadata": {},
     "output_type": "execute_result"
    }
   ],
   "source": [
    "df.head()"
   ]
  },
  {
   "cell_type": "markdown",
   "metadata": {},
   "source": [
    "Получим общую информацию о таблице:"
   ]
  },
  {
   "cell_type": "code",
   "execution_count": 4,
   "metadata": {},
   "outputs": [
    {
     "name": "stdout",
     "output_type": "stream",
     "text": [
      "<class 'pandas.core.frame.DataFrame'>\n",
      "RangeIndex: 16715 entries, 0 to 16714\n",
      "Data columns (total 11 columns):\n",
      " #   Column           Non-Null Count  Dtype  \n",
      "---  ------           --------------  -----  \n",
      " 0   Name             16713 non-null  object \n",
      " 1   Platform         16715 non-null  object \n",
      " 2   Year_of_Release  16446 non-null  float64\n",
      " 3   Genre            16713 non-null  object \n",
      " 4   NA_sales         16715 non-null  float64\n",
      " 5   EU_sales         16715 non-null  float64\n",
      " 6   JP_sales         16715 non-null  float64\n",
      " 7   Other_sales      16715 non-null  float64\n",
      " 8   Critic_Score     8137 non-null   float64\n",
      " 9   User_Score       10014 non-null  object \n",
      " 10  Rating           9949 non-null   object \n",
      "dtypes: float64(6), object(5)\n",
      "memory usage: 1.4+ MB\n"
     ]
    }
   ],
   "source": [
    "df.info()"
   ]
  },
  {
   "cell_type": "markdown",
   "metadata": {},
   "source": [
    "- В датафрейме представлены данные об играх. В таблице 16715 строк и 11 столбцов. Данных достаточно для анализа.\n",
    "- В названиях колонок нарушения стиля: строчные буквы сочетаются с прописными.\n",
    "- Типы данных - float64, object. В столбце Year_of_Release данные необходимо привести к целочисленным значениям. В столбце User_Score - к вещественным значениям.\n",
    "- В датасете встречаются пропуски."
   ]
  },
  {
   "cell_type": "markdown",
   "metadata": {},
   "source": [
    "Посмотрим процент пропусков:"
   ]
  },
  {
   "cell_type": "code",
   "execution_count": 5,
   "metadata": {},
   "outputs": [
    {
     "data": {
      "text/plain": [
       "Name                0.0\n",
       "Platform            0.0\n",
       "Year_of_Release     1.6\n",
       "Genre               0.0\n",
       "NA_sales            0.0\n",
       "EU_sales            0.0\n",
       "JP_sales            0.0\n",
       "Other_sales         0.0\n",
       "Critic_Score       51.3\n",
       "User_Score         40.1\n",
       "Rating             40.5\n",
       "dtype: float64"
      ]
     },
     "execution_count": 5,
     "metadata": {},
     "output_type": "execute_result"
    }
   ],
   "source": [
    "(df.isna().mean()*100).round(1)"
   ]
  },
  {
   "cell_type": "markdown",
   "metadata": {},
   "source": [
    "- В столбце `Year_of_Release` пропусков 1,6 %.\n",
    "- В столбцах с названиями игр и жанров - по 2 пропуска.\n",
    "- В столбцах с оценками и возрастным рейтингом пропуски достигают 40-50 % от всех данных."
   ]
  },
  {
   "cell_type": "markdown",
   "metadata": {},
   "source": [
    "- В столбце с оценками пользователей видим аббревиатуру `tbd` - \"подлежит определению\". Заменим в дальнейшем это значение на \"NaN\" и приведем значения к типу данных \"float64\"."
   ]
  },
  {
   "cell_type": "markdown",
   "metadata": {},
   "source": [
    "### Стиль заголовков"
   ]
  },
  {
   "cell_type": "markdown",
   "metadata": {},
   "source": [
    "Приведем названия столбцов к нижнему регистру в соответствии с хорошим стилем. Проверим результат:"
   ]
  },
  {
   "cell_type": "code",
   "execution_count": 6,
   "metadata": {},
   "outputs": [
    {
     "name": "stdout",
     "output_type": "stream",
     "text": [
      "<class 'pandas.core.frame.DataFrame'>\n",
      "RangeIndex: 16715 entries, 0 to 16714\n",
      "Data columns (total 11 columns):\n",
      " #   Column           Non-Null Count  Dtype  \n",
      "---  ------           --------------  -----  \n",
      " 0   name             16713 non-null  object \n",
      " 1   platform         16715 non-null  object \n",
      " 2   year_of_release  16446 non-null  float64\n",
      " 3   genre            16713 non-null  object \n",
      " 4   na_sales         16715 non-null  float64\n",
      " 5   eu_sales         16715 non-null  float64\n",
      " 6   jp_sales         16715 non-null  float64\n",
      " 7   other_sales      16715 non-null  float64\n",
      " 8   critic_score     8137 non-null   float64\n",
      " 9   user_score       10014 non-null  object \n",
      " 10  rating           9949 non-null   object \n",
      "dtypes: float64(6), object(5)\n",
      "memory usage: 1.4+ MB\n"
     ]
    }
   ],
   "source": [
    "df.columns = df.columns.str.lower()\n",
    "df.info()"
   ]
  },
  {
   "cell_type": "markdown",
   "metadata": {},
   "source": [
    "### Обработка пропусков и изменение типов данных"
   ]
  },
  {
   "cell_type": "markdown",
   "metadata": {},
   "source": [
    "Пропуски в столбце `year_of_release` вероятно появились случайно при объединении данных из нескольких источников или копировании. Строки с пропусками в данном столбце удалим, так как они составляют лишь 1,6 % от общего объема данных. Потеря такого объема данных не повлияет на результаты исследования. После приведем значения в столбце к целочисленным."
   ]
  },
  {
   "cell_type": "code",
   "execution_count": 7,
   "metadata": {},
   "outputs": [],
   "source": [
    "# удалим с троки с пропусками в столбце с годами выпуска игр:\n",
    "df = df.dropna(subset = ['year_of_release'])\n",
    "\n",
    "# приведем данные в столбце к типу данных int64:\n",
    "df['year_of_release'] = df['year_of_release'].astype('int')"
   ]
  },
  {
   "cell_type": "markdown",
   "metadata": {},
   "source": [
    "Так как пропусков в названиях игр и жанров по два, проверим: возможно они находятся в одних и тех же строках:"
   ]
  },
  {
   "cell_type": "code",
   "execution_count": 8,
   "metadata": {},
   "outputs": [
    {
     "data": {
      "text/html": [
       "<div>\n",
       "<style scoped>\n",
       "    .dataframe tbody tr th:only-of-type {\n",
       "        vertical-align: middle;\n",
       "    }\n",
       "\n",
       "    .dataframe tbody tr th {\n",
       "        vertical-align: top;\n",
       "    }\n",
       "\n",
       "    .dataframe thead th {\n",
       "        text-align: right;\n",
       "    }\n",
       "</style>\n",
       "<table border=\"1\" class=\"dataframe\">\n",
       "  <thead>\n",
       "    <tr style=\"text-align: right;\">\n",
       "      <th></th>\n",
       "      <th>name</th>\n",
       "      <th>platform</th>\n",
       "      <th>year_of_release</th>\n",
       "      <th>genre</th>\n",
       "      <th>na_sales</th>\n",
       "      <th>eu_sales</th>\n",
       "      <th>jp_sales</th>\n",
       "      <th>other_sales</th>\n",
       "      <th>critic_score</th>\n",
       "      <th>user_score</th>\n",
       "      <th>rating</th>\n",
       "    </tr>\n",
       "  </thead>\n",
       "  <tbody>\n",
       "    <tr>\n",
       "      <th>659</th>\n",
       "      <td>NaN</td>\n",
       "      <td>GEN</td>\n",
       "      <td>1993</td>\n",
       "      <td>NaN</td>\n",
       "      <td>1.78</td>\n",
       "      <td>0.53</td>\n",
       "      <td>0.00</td>\n",
       "      <td>0.08</td>\n",
       "      <td>NaN</td>\n",
       "      <td>NaN</td>\n",
       "      <td>NaN</td>\n",
       "    </tr>\n",
       "    <tr>\n",
       "      <th>14244</th>\n",
       "      <td>NaN</td>\n",
       "      <td>GEN</td>\n",
       "      <td>1993</td>\n",
       "      <td>NaN</td>\n",
       "      <td>0.00</td>\n",
       "      <td>0.00</td>\n",
       "      <td>0.03</td>\n",
       "      <td>0.00</td>\n",
       "      <td>NaN</td>\n",
       "      <td>NaN</td>\n",
       "      <td>NaN</td>\n",
       "    </tr>\n",
       "  </tbody>\n",
       "</table>\n",
       "</div>"
      ],
      "text/plain": [
       "      name platform  year_of_release genre  na_sales  eu_sales  jp_sales  \\\n",
       "659    NaN      GEN             1993   NaN      1.78      0.53      0.00   \n",
       "14244  NaN      GEN             1993   NaN      0.00      0.00      0.03   \n",
       "\n",
       "       other_sales  critic_score user_score rating  \n",
       "659           0.08           NaN        NaN    NaN  \n",
       "14244         0.00           NaN        NaN    NaN  "
      ]
     },
     "execution_count": 8,
     "metadata": {},
     "output_type": "execute_result"
    }
   ],
   "source": [
    "df.loc[df['name'].isna()]"
   ]
  },
  {
   "cell_type": "markdown",
   "metadata": {},
   "source": [
    "Действительно, пропуски в названиях игр и жанров находятся в одних и тех же строках. Причина их появления скорее всего также случайна. В дальнейшем исследовании названия игр не имеют особого значения, а вот без названий жанров нам не обойтись. Поэтому удалим строки с пропусками в названиях жанров:"
   ]
  },
  {
   "cell_type": "code",
   "execution_count": 9,
   "metadata": {},
   "outputs": [],
   "source": [
    "df = df.dropna(subset = ['genre'])"
   ]
  },
  {
   "cell_type": "markdown",
   "metadata": {},
   "source": [
    "Пропуски в столбцах с оценками критиков и пользователей возможно объясняются фактом недавнего выпуска игр. Проверим эту зависимость, построив графики:"
   ]
  },
  {
   "cell_type": "code",
   "execution_count": 10,
   "metadata": {
    "scrolled": true
   },
   "outputs": [
    {
     "data": {
      "image/png": "[encoded data removed]",
      "text/plain": [
       "<Figure size 432x288 with 1 Axes>"
      ]
     },
     "metadata": {
      "needs_background": "light"
     },
     "output_type": "display_data"
    },
    {
     "data": {
      "image/png": "[encoded data removed]",
      "text/plain": [
       "<Figure size 432x288 with 1 Axes>"
      ]
     },
     "metadata": {
      "needs_background": "light"
     },
     "output_type": "display_data"
    }
   ],
   "source": [
    "# добавим столбец, в котором определяем пропущена ли оценка в critic_score или нет:\n",
    "df['critic_score_missing'] = df['critic_score'].isna().astype('int')\n",
    "\n",
    "# посчитаем количество пропусков по данным, сгруппированным по году выпуска игры\n",
    "# и построим график, показывающий количество пропусков в critic_score:\n",
    "df.groupby('year_of_release').agg({'critic_score_missing':'sum'}).plot()\n",
    "plt.title('Распределение игр\\nбез critic_score')\n",
    "plt.xlabel('Год выпуска игры'), plt.ylabel('Количество игр')\n",
    "plt.show()\n",
    "\n",
    "# добавим столбец, в котором определяем пропущена ли оценка в user_score или нет:\n",
    "df['user_score_missing'] = df['user_score'].isna().astype('int')\n",
    "\n",
    "# посчитаем количество пропусков по данным, сгруппированным по году выпуска игры\n",
    "# и построим график, показывающий количество пропусков в user_score:\n",
    "df.groupby('year_of_release').agg({'user_score_missing':'sum'}).plot()\n",
    "plt.title('Распределение игр\\nбез user_score')\n",
    "plt.xlabel('Год выпуска игры'), plt.ylabel('Количество игр')\n",
    "plt.show()"
   ]
  },
  {
   "cell_type": "markdown",
   "metadata": {},
   "source": [
    "У более поздних игр наблюдается тенденция к увеличению пропусков в оценках как критиков, так и пользователей. Это в некоторой степени подтверждает догадку о том, что отсутствие оценок связано с годом релиза игр. Однако зависимость эта не строго прямолинейная, на графике мы видим несколько пиков и провалов. Значимые пики пропусков оценок в том числе наблюдаются в довольно ранних играх. Возможно увеличение пропусков с годами объясняется тем, что игр с каждым годом выпускалось все больше. Целесообразнее пропуски в этих столбцах оставить, как есть."
   ]
  },
  {
   "cell_type": "markdown",
   "metadata": {},
   "source": [
    "Изучим числовое описание данных в столбцах с оценками:"
   ]
  },
  {
   "cell_type": "code",
   "execution_count": 11,
   "metadata": {},
   "outputs": [
    {
     "data": {
      "text/plain": [
       "count    7983.000000\n",
       "mean       68.994363\n",
       "std        13.920060\n",
       "min        13.000000\n",
       "25%        60.000000\n",
       "50%        71.000000\n",
       "75%        79.000000\n",
       "max        98.000000\n",
       "Name: critic_score, dtype: float64"
      ]
     },
     "execution_count": 11,
     "metadata": {},
     "output_type": "execute_result"
    }
   ],
   "source": [
    "df['critic_score'].describe()"
   ]
  },
  {
   "cell_type": "code",
   "execution_count": 12,
   "metadata": {
    "scrolled": true
   },
   "outputs": [
    {
     "data": {
      "text/plain": [
       "count     9839\n",
       "unique      96\n",
       "top        tbd\n",
       "freq      2376\n",
       "Name: user_score, dtype: object"
      ]
     },
     "execution_count": 12,
     "metadata": {},
     "output_type": "execute_result"
    }
   ],
   "source": [
    "df['user_score'].describe()"
   ]
  },
  {
   "cell_type": "markdown",
   "metadata": {},
   "source": [
    "- По оценкам критиков видим, что минимальная оценка равна 13, максимальная - 98. И среднее арифметическое, и медиана находятся в районе 70. Скорее всего выбросов данных в данном столбце нет.\n",
    "- В столбце с оценками пользователей видим аббревиатуру \"tbd\" - \"подлежит определению\". Заменим это значение на \"NaN\" и приведем значения к типу данных \"float64\":"
   ]
  },
  {
   "cell_type": "code",
   "execution_count": 13,
   "metadata": {},
   "outputs": [
    {
     "data": {
      "text/plain": [
       "count    7463.000000\n",
       "mean        7.126330\n",
       "std         1.499447\n",
       "min         0.000000\n",
       "25%         6.400000\n",
       "50%         7.500000\n",
       "75%         8.200000\n",
       "max         9.700000\n",
       "Name: user_score, dtype: float64"
      ]
     },
     "execution_count": 13,
     "metadata": {},
     "output_type": "execute_result"
    }
   ],
   "source": [
    "# заменим пропуски в \"tbd\" на \"NaN\":\n",
    "df.loc[df['user_score'] == 'tbd', 'user_score'] = 'Nan'\n",
    "\n",
    "# приведем данные в столбце с оценками пользователей в тип данных float64:\n",
    "df['user_score'] = df['user_score'].astype('float')\n",
    "\n",
    "# посмотрим числовое описание данных:\n",
    "df['user_score'].describe()"
   ]
  },
  {
   "cell_type": "markdown",
   "metadata": {},
   "source": [
    "Заменим пропуски в столбце `rating` на значение \"нет_рейтинга\":"
   ]
  },
  {
   "cell_type": "code",
   "execution_count": 14,
   "metadata": {},
   "outputs": [],
   "source": [
    "df.loc[df['rating'].isna(), 'rating'] = 'нет_рейтинга'"
   ]
  },
  {
   "cell_type": "markdown",
   "metadata": {},
   "source": [
    "Проверим наличие/отсутствие пропусков и типы данных в датасете:"
   ]
  },
  {
   "cell_type": "code",
   "execution_count": 15,
   "metadata": {},
   "outputs": [
    {
     "name": "stdout",
     "output_type": "stream",
     "text": [
      "<class 'pandas.core.frame.DataFrame'>\n",
      "Int64Index: 16444 entries, 0 to 16714\n",
      "Data columns (total 13 columns):\n",
      " #   Column                Non-Null Count  Dtype  \n",
      "---  ------                --------------  -----  \n",
      " 0   name                  16444 non-null  object \n",
      " 1   platform              16444 non-null  object \n",
      " 2   year_of_release       16444 non-null  int32  \n",
      " 3   genre                 16444 non-null  object \n",
      " 4   na_sales              16444 non-null  float64\n",
      " 5   eu_sales              16444 non-null  float64\n",
      " 6   jp_sales              16444 non-null  float64\n",
      " 7   other_sales           16444 non-null  float64\n",
      " 8   critic_score          7983 non-null   float64\n",
      " 9   user_score            7463 non-null   float64\n",
      " 10  rating                16444 non-null  object \n",
      " 11  critic_score_missing  16444 non-null  int32  \n",
      " 12  user_score_missing    16444 non-null  int32  \n",
      "dtypes: float64(6), int32(3), object(4)\n",
      "memory usage: 1.6+ MB\n"
     ]
    }
   ],
   "source": [
    "df.info()"
   ]
  },
  {
   "cell_type": "markdown",
   "metadata": {},
   "source": [
    "- Пропусков в значимых для нас столбцах нет. Значения находятся в необходимых нам типах данных."
   ]
  },
  {
   "cell_type": "markdown",
   "metadata": {},
   "source": [
    "Проверим наличие явных дубликатов в таблице:"
   ]
  },
  {
   "cell_type": "code",
   "execution_count": 16,
   "metadata": {},
   "outputs": [
    {
     "data": {
      "text/plain": [
       "0"
      ]
     },
     "execution_count": 16,
     "metadata": {},
     "output_type": "execute_result"
    }
   ],
   "source": [
    "df.duplicated().sum()"
   ]
  },
  {
   "cell_type": "markdown",
   "metadata": {},
   "source": [
    "- Явных дубликатов не обнаружено."
   ]
  },
  {
   "cell_type": "markdown",
   "metadata": {},
   "source": [
    "### Расчёты и добавление результатов в таблицу"
   ]
  },
  {
   "cell_type": "markdown",
   "metadata": {},
   "source": [
    "Посчитаем суммарные продажи во всех регионах и запишем их в отдельный столбец:"
   ]
  },
  {
   "cell_type": "code",
   "execution_count": 17,
   "metadata": {},
   "outputs": [
    {
     "data": {
      "text/html": [
       "<div>\n",
       "<style scoped>\n",
       "    .dataframe tbody tr th:only-of-type {\n",
       "        vertical-align: middle;\n",
       "    }\n",
       "\n",
       "    .dataframe tbody tr th {\n",
       "        vertical-align: top;\n",
       "    }\n",
       "\n",
       "    .dataframe thead th {\n",
       "        text-align: right;\n",
       "    }\n",
       "</style>\n",
       "<table border=\"1\" class=\"dataframe\">\n",
       "  <thead>\n",
       "    <tr style=\"text-align: right;\">\n",
       "      <th></th>\n",
       "      <th>name</th>\n",
       "      <th>platform</th>\n",
       "      <th>year_of_release</th>\n",
       "      <th>genre</th>\n",
       "      <th>na_sales</th>\n",
       "      <th>eu_sales</th>\n",
       "      <th>jp_sales</th>\n",
       "      <th>other_sales</th>\n",
       "      <th>critic_score</th>\n",
       "      <th>user_score</th>\n",
       "      <th>rating</th>\n",
       "      <th>critic_score_missing</th>\n",
       "      <th>user_score_missing</th>\n",
       "      <th>total_sales</th>\n",
       "    </tr>\n",
       "  </thead>\n",
       "  <tbody>\n",
       "    <tr>\n",
       "      <th>0</th>\n",
       "      <td>Wii Sports</td>\n",
       "      <td>Wii</td>\n",
       "      <td>2006</td>\n",
       "      <td>Sports</td>\n",
       "      <td>41.36</td>\n",
       "      <td>28.96</td>\n",
       "      <td>3.77</td>\n",
       "      <td>8.45</td>\n",
       "      <td>76.0</td>\n",
       "      <td>8.0</td>\n",
       "      <td>E</td>\n",
       "      <td>0</td>\n",
       "      <td>0</td>\n",
       "      <td>82.54</td>\n",
       "    </tr>\n",
       "    <tr>\n",
       "      <th>1</th>\n",
       "      <td>Super Mario Bros.</td>\n",
       "      <td>NES</td>\n",
       "      <td>1985</td>\n",
       "      <td>Platform</td>\n",
       "      <td>29.08</td>\n",
       "      <td>3.58</td>\n",
       "      <td>6.81</td>\n",
       "      <td>0.77</td>\n",
       "      <td>NaN</td>\n",
       "      <td>NaN</td>\n",
       "      <td>нет_рейтинга</td>\n",
       "      <td>1</td>\n",
       "      <td>1</td>\n",
       "      <td>40.24</td>\n",
       "    </tr>\n",
       "    <tr>\n",
       "      <th>2</th>\n",
       "      <td>Mario Kart Wii</td>\n",
       "      <td>Wii</td>\n",
       "      <td>2008</td>\n",
       "      <td>Racing</td>\n",
       "      <td>15.68</td>\n",
       "      <td>12.76</td>\n",
       "      <td>3.79</td>\n",
       "      <td>3.29</td>\n",
       "      <td>82.0</td>\n",
       "      <td>8.3</td>\n",
       "      <td>E</td>\n",
       "      <td>0</td>\n",
       "      <td>0</td>\n",
       "      <td>35.52</td>\n",
       "    </tr>\n",
       "    <tr>\n",
       "      <th>3</th>\n",
       "      <td>Wii Sports Resort</td>\n",
       "      <td>Wii</td>\n",
       "      <td>2009</td>\n",
       "      <td>Sports</td>\n",
       "      <td>15.61</td>\n",
       "      <td>10.93</td>\n",
       "      <td>3.28</td>\n",
       "      <td>2.95</td>\n",
       "      <td>80.0</td>\n",
       "      <td>8.0</td>\n",
       "      <td>E</td>\n",
       "      <td>0</td>\n",
       "      <td>0</td>\n",
       "      <td>32.77</td>\n",
       "    </tr>\n",
       "    <tr>\n",
       "      <th>4</th>\n",
       "      <td>Pokemon Red/Pokemon Blue</td>\n",
       "      <td>GB</td>\n",
       "      <td>1996</td>\n",
       "      <td>Role-Playing</td>\n",
       "      <td>11.27</td>\n",
       "      <td>8.89</td>\n",
       "      <td>10.22</td>\n",
       "      <td>1.00</td>\n",
       "      <td>NaN</td>\n",
       "      <td>NaN</td>\n",
       "      <td>нет_рейтинга</td>\n",
       "      <td>1</td>\n",
       "      <td>1</td>\n",
       "      <td>31.38</td>\n",
       "    </tr>\n",
       "  </tbody>\n",
       "</table>\n",
       "</div>"
      ],
      "text/plain": [
       "                       name platform  year_of_release         genre  na_sales  \\\n",
       "0                Wii Sports      Wii             2006        Sports     41.36   \n",
       "1         Super Mario Bros.      NES             1985      Platform     29.08   \n",
       "2            Mario Kart Wii      Wii             2008        Racing     15.68   \n",
       "3         Wii Sports Resort      Wii             2009        Sports     15.61   \n",
       "4  Pokemon Red/Pokemon Blue       GB             1996  Role-Playing     11.27   \n",
       "\n",
       "   eu_sales  jp_sales  other_sales  critic_score  user_score        rating  \\\n",
       "0     28.96      3.77         8.45          76.0         8.0             E   \n",
       "1      3.58      6.81         0.77           NaN         NaN  нет_рейтинга   \n",
       "2     12.76      3.79         3.29          82.0         8.3             E   \n",
       "3     10.93      3.28         2.95          80.0         8.0             E   \n",
       "4      8.89     10.22         1.00           NaN         NaN  нет_рейтинга   \n",
       "\n",
       "   critic_score_missing  user_score_missing  total_sales  \n",
       "0                     0                   0        82.54  \n",
       "1                     1                   1        40.24  \n",
       "2                     0                   0        35.52  \n",
       "3                     0                   0        32.77  \n",
       "4                     1                   1        31.38  "
      ]
     },
     "execution_count": 17,
     "metadata": {},
     "output_type": "execute_result"
    }
   ],
   "source": [
    "df['total_sales'] = df['na_sales'] + df['eu_sales'] + df['jp_sales'] + df['other_sales']\n",
    "df.head()"
   ]
  },
  {
   "cell_type": "markdown",
   "metadata": {},
   "source": [
    "- Столбец с суммарными продажами добавлен."
   ]
  },
  {
   "cell_type": "markdown",
   "metadata": {},
   "source": [
    "**Выводы:**\n",
    "\n",
    "На этапе предобработки данных мы исправили обнаруженные в них ошибки и недочеты, сделали дополнительные расчеты.\n",
    "1. Привели названия столбцов к нижнему регистру в соответствии с хорошим стилем.\n",
    "2. Обработали пропуски в данных, а также исправили типы данных в некоторых столбцах.\n",
    "    - Строки с пропусками в столбце year_of_release  (год выпуска игры) удалили без риска исказить результаты исследования, так как пропуски составляли лишь 1,6 % от общего объема данных. Значения в столбце привели к типу данных `int`.\n",
    "    - Убедились, что пропуски в названиях игр и жанров (по два пропуска в каждом столбце) находились в одних и тех же строках. Без названий жанров в дальнейшем исследовании нам не обойтись. Поэтому строки с пропусками в названиях жанров мы удалили.\n",
    "    - Проверив на графиках зависимость количества пропусков в столбцах с оценками критиков и пользователей от года выпуска игры, обнаружили тенденцию к увеличению пропусков в оценках у более поздних игр. Возможно это связано с увеличением количества выпускаемых игр и оценок просто нет, в связи с чем пропуски в этих столбцах оставили без изменений.\n",
    "    - В столбце с оценками пользователей аббревиатуру `tbd` - \"подлежит определению\" (видимо оценок тоже нет) - заменили на \"NaN\" и привели значения к типу данных \"float64\".\n",
    "    - В столбце с возрастными рейтингами пропуски заменили на значение \"нет_рейтинга\".\n",
    "3. Добавили столбец с суммарными продажами во всех регионах."
   ]
  },
  {
   "cell_type": "markdown",
   "metadata": {},
   "source": [
    "## Исследовательский анализ данных"
   ]
  },
  {
   "cell_type": "markdown",
   "metadata": {},
   "source": [
    "**Этапы:**\n",
    "- Изучить, сколько игр выпускалось в разные годы. Определить, важны ли данные за все периоды.\n",
    "- Посмотреть, как менялись продажи по платформам. Выбрать платформы с наибольшими суммарными продажами и построить распределение по годам. Определить, за какой характерный срок появляются новые и исчезают старые платформы.\n",
    "- Взять данные за актуальный период для построения прогноза на 2017 год.\n",
    "- Изучить, какие платформы лидируют по продажам, растут или падают. Выбрать несколько потенциально прибыльных платформ.\n",
    "- Построить график «ящик с усами» по глобальным продажам игр в разбивке по платформам. Описать результат.\n",
    "- Посмотреть, как влияют на продажи внутри одной популярной платформы отзывы пользователей и критиков. Построить диаграмму рассеяния и посчитать корреляцию между отзывами и продажами. \n",
    "- Посмотреть на общее распределение игр по жанрам. Выделить самые прибыльные жанры."
   ]
  },
  {
   "cell_type": "markdown",
   "metadata": {},
   "source": [
    "### Количество игр по годам"
   ]
  },
  {
   "cell_type": "markdown",
   "metadata": {},
   "source": [
    "Изучим, за какие года представлены данные в датасете. Это пригодится нам для определения количества корзин в гистограмме."
   ]
  },
  {
   "cell_type": "code",
   "execution_count": 18,
   "metadata": {},
   "outputs": [
    {
     "data": {
      "text/plain": [
       "array([1980, 1981, 1982, 1983, 1984, 1985, 1986, 1987, 1988, 1989, 1990,\n",
       "       1991, 1992, 1993, 1994, 1995, 1996, 1997, 1998, 1999, 2000, 2001,\n",
       "       2002, 2003, 2004, 2005, 2006, 2007, 2008, 2009, 2010, 2011, 2012,\n",
       "       2013, 2014, 2015, 2016])"
      ]
     },
     "execution_count": 18,
     "metadata": {},
     "output_type": "execute_result"
    }
   ],
   "source": [
    "df['year_of_release'].sort_values().unique()"
   ]
  },
  {
   "cell_type": "markdown",
   "metadata": {},
   "source": [
    "Данные представлены с 1980 по 2016 годы. Построим барплот, отображающий распределение количества игр в зависимости от года выпуска."
   ]
  },
  {
   "cell_type": "code",
   "execution_count": 19,
   "metadata": {},
   "outputs": [
    {
     "data": {
      "image/png": "[encoded data removed]",
      "text/plain": [
       "<Figure size 864x360 with 1 Axes>"
      ]
     },
     "metadata": {
      "needs_background": "light"
     },
     "output_type": "display_data"
    }
   ],
   "source": [
    "# сгруппируем данные по годам выпуска игр и построим график распределения количества игр по годам:\n",
    "(\n",
    "    df.pivot_table(index='year_of_release', values='name', aggfunc='count')\n",
    "    .plot(kind='bar', grid=True, figsize=(12,5), legend=False)\n",
    ")\n",
    "plt.title('Распределение игр по годам выпуска')\n",
    "plt.xlabel('Годы выпуска игр'), plt.ylabel('Количество игр')\n",
    "plt.show()"
   ]
  },
  {
   "cell_type": "markdown",
   "metadata": {},
   "source": [
    "- На графике видим, что вплоть до 1995 года игр выпускалось очень мало, их количество не достигало 100 в год. С 1995 года наблюдается рост производства игр, после 2000 года довольно интенсивный, с максимумом более 1400 игр в 2008-2009 годах. Затем отмечается снижение показателя, и к 2016 году количество выпущенных игр достигает отметки около 500.\n",
    "- Данные до 1995 года не важны для дальнейшего исследования."
   ]
  },
  {
   "cell_type": "markdown",
   "metadata": {},
   "source": [
    "### Продажи по платформам"
   ]
  },
  {
   "cell_type": "markdown",
   "metadata": {},
   "source": [
    "Посмотрим, как менялись продажи по платформам с течением времени. Для этого построим график."
   ]
  },
  {
   "cell_type": "code",
   "execution_count": 20,
   "metadata": {},
   "outputs": [
    {
     "data": {
      "image/png": "[encoded data removed]",
      "text/plain": [
       "<Figure size 864x720 with 1 Axes>"
      ]
     },
     "metadata": {
      "needs_background": "light"
     },
     "output_type": "display_data"
    }
   ],
   "source": [
    "df.pivot_table(index='year_of_release', columns = 'platform', values='total_sales', aggfunc='sum').plot(grid=True, figsize=(12, 10))\n",
    "plt.title('Продажи игр по платформам')\n",
    "plt.xlabel('Год выпуска игры'), plt.ylabel('Продажи игр, млн копий')\n",
    "plt.show()"
   ]
  },
  {
   "cell_type": "markdown",
   "metadata": {},
   "source": [
    "- По графику видим, что продажи по платформам до 1995 года были сравнительно небольшие. С 1995 года наблюдаем на некоторых платформах резкий скачок продаж, в то время как на других платформах продажи остаются сравнительно небольшими.\n",
    "- По графику также отметим, что все платформы имеют определенный \"срок жизни\": они появляются, достигают своего максимума по продажам и со временем исчезают с рынка."
   ]
  },
  {
   "cell_type": "markdown",
   "metadata": {},
   "source": [
    "Выберем платформы с наибольшими суммарными продажами:"
   ]
  },
  {
   "cell_type": "code",
   "execution_count": 21,
   "metadata": {},
   "outputs": [
    {
     "data": {
      "text/html": [
       "<div>\n",
       "<style scoped>\n",
       "    .dataframe tbody tr th:only-of-type {\n",
       "        vertical-align: middle;\n",
       "    }\n",
       "\n",
       "    .dataframe tbody tr th {\n",
       "        vertical-align: top;\n",
       "    }\n",
       "\n",
       "    .dataframe thead th {\n",
       "        text-align: right;\n",
       "    }\n",
       "</style>\n",
       "<table border=\"1\" class=\"dataframe\">\n",
       "  <thead>\n",
       "    <tr style=\"text-align: right;\">\n",
       "      <th></th>\n",
       "      <th>total_sales</th>\n",
       "    </tr>\n",
       "    <tr>\n",
       "      <th>platform</th>\n",
       "      <th></th>\n",
       "    </tr>\n",
       "  </thead>\n",
       "  <tbody>\n",
       "    <tr>\n",
       "      <th>PS2</th>\n",
       "      <td>1233.56</td>\n",
       "    </tr>\n",
       "    <tr>\n",
       "      <th>X360</th>\n",
       "      <td>961.24</td>\n",
       "    </tr>\n",
       "    <tr>\n",
       "      <th>PS3</th>\n",
       "      <td>931.34</td>\n",
       "    </tr>\n",
       "    <tr>\n",
       "      <th>Wii</th>\n",
       "      <td>891.18</td>\n",
       "    </tr>\n",
       "    <tr>\n",
       "      <th>DS</th>\n",
       "      <td>802.78</td>\n",
       "    </tr>\n",
       "    <tr>\n",
       "      <th>PS</th>\n",
       "      <td>727.58</td>\n",
       "    </tr>\n",
       "  </tbody>\n",
       "</table>\n",
       "</div>"
      ],
      "text/plain": [
       "          total_sales\n",
       "platform             \n",
       "PS2           1233.56\n",
       "X360           961.24\n",
       "PS3            931.34\n",
       "Wii            891.18\n",
       "DS             802.78\n",
       "PS             727.58"
      ]
     },
     "execution_count": 21,
     "metadata": {},
     "output_type": "execute_result"
    }
   ],
   "source": [
    "top_6_sales = (\n",
    "    df.pivot_table(index='platform', values='total_sales', aggfunc='sum')\n",
    "    .sort_values(by='total_sales', ascending=False)\n",
    "    .head(6)\n",
    ")\n",
    "top_6_sales"
   ]
  },
  {
   "cell_type": "markdown",
   "metadata": {},
   "source": [
    "Построим распределение самых продаваемых платформ по годам:"
   ]
  },
  {
   "cell_type": "code",
   "execution_count": 22,
   "metadata": {},
   "outputs": [
    {
     "data": {
      "image/png": "[encoded data removed]",
      "text/plain": [
       "<Figure size 864x360 with 1 Axes>"
      ]
     },
     "metadata": {
      "needs_background": "light"
     },
     "output_type": "display_data"
    }
   ],
   "source": [
    "df.query('platform in @ top_6_sales.index').pivot_table(index='year_of_release', columns = 'platform', values='total_sales', aggfunc='sum').plot(grid=True, figsize=(12, 5))\n",
    "plt.title('Продажи игр по платформам')\n",
    "plt.xlabel('Год выпуска игры'), plt.ylabel('Продажи игр, млн копий')\n",
    "plt.show()"
   ]
  },
  {
   "cell_type": "markdown",
   "metadata": {},
   "source": [
    "- У самых продаваемых платформ \"срок жизни\" составляет около 10 лет. Проверим это расчетами."
   ]
  },
  {
   "cell_type": "code",
   "execution_count": 23,
   "metadata": {},
   "outputs": [
    {
     "data": {
      "text/plain": [
       "year_of_release    9.666667\n",
       "dtype: float64"
      ]
     },
     "execution_count": 23,
     "metadata": {},
     "output_type": "execute_result"
    }
   ],
   "source": [
    "# минимально значимые продажи в миллионах:\n",
    "min_sales = 5\n",
    "# суммарные продажи в год по платформам выше порога:\n",
    "res = df.groupby(['platform', 'year_of_release']).agg({'total_sales':'sum'}).query('total_sales > @min_sales')\n",
    "# среднее число лет выше порога\n",
    "res.reset_index().query('platform in @ top_6_sales.index').groupby('platform').agg({'year_of_release':'nunique'}).mean()"
   ]
  },
  {
   "cell_type": "markdown",
   "metadata": {},
   "source": [
    "- Как видим \"срок жизни\" у топовых платформ в среднем составляет 9,7 лет.\n",
    "\n",
    "Сравним этот показатель со средним сроком существования всех платформ:"
   ]
  },
  {
   "cell_type": "code",
   "execution_count": 24,
   "metadata": {},
   "outputs": [
    {
     "data": {
      "text/plain": [
       "year_of_release    6.916667\n",
       "dtype: float64"
      ]
     },
     "execution_count": 24,
     "metadata": {},
     "output_type": "execute_result"
    }
   ],
   "source": [
    "# минимально значимые продажи в миллионах:\n",
    "min_sales = 5\n",
    "# суммарные продажи в год по платформам выше порога:\n",
    "res = df.groupby(['platform', 'year_of_release']).agg({'total_sales':'sum'}).query('total_sales > @min_sales')\n",
    "# среднее число лет выше порога\n",
    "res.reset_index().groupby('platform').agg({'year_of_release':'nunique'}).mean()"
   ]
  },
  {
   "cell_type": "markdown",
   "metadata": {},
   "source": [
    "- Срок жизни у топовых платформ в среднем почти на 3 года больше."
   ]
  },
  {
   "cell_type": "markdown",
   "metadata": {},
   "source": [
    "### Актуальный период"
   ]
  },
  {
   "cell_type": "markdown",
   "metadata": {},
   "source": [
    "В результате исследования первых двух вопросов можно сделать вывод, что актуальным для построения прогноза является период 3-4 года (с 2013 года по 2016 год) - в этот период укладывается половина среднего срока жизни платформ, а значит низка вероятность захватить уже отжившие тренды.\n",
    "\n",
    "Для дальнейшего исследования возьмем данные только за этот период."
   ]
  },
  {
   "cell_type": "code",
   "execution_count": 25,
   "metadata": {},
   "outputs": [
    {
     "data": {
      "text/plain": [
       "array([2013, 2014, 2015, 2016])"
      ]
     },
     "execution_count": 25,
     "metadata": {},
     "output_type": "execute_result"
    }
   ],
   "source": [
    "# сделаем срез исходного датафрейма по году выпуска игр за период с 2007 по 2016 годы:\n",
    "df_actual = df.query('2013 <= year_of_release <= 2016')\n",
    "# проверим, правильные ли года включены в новый датафрейм:\n",
    "df_actual['year_of_release'].sort_values().unique()"
   ]
  },
  {
   "cell_type": "markdown",
   "metadata": {},
   "source": [
    "### Потенциально прибыльные платформы"
   ]
  },
  {
   "cell_type": "markdown",
   "metadata": {},
   "source": [
    "Чтобы выбрать потенциально прибыльные платформы, изучим, какие платформы лидируют по продажам, растут они или падают."
   ]
  },
  {
   "cell_type": "markdown",
   "metadata": {},
   "source": [
    "Посмотрим, какие платформы лидируют по продажам. Для этого сгруппируем данные по названию платформы и посчитаем суммарные продажи. Выведем данные в порядке убывания."
   ]
  },
  {
   "cell_type": "code",
   "execution_count": 26,
   "metadata": {},
   "outputs": [
    {
     "data": {
      "text/html": [
       "<div>\n",
       "<style scoped>\n",
       "    .dataframe tbody tr th:only-of-type {\n",
       "        vertical-align: middle;\n",
       "    }\n",
       "\n",
       "    .dataframe tbody tr th {\n",
       "        vertical-align: top;\n",
       "    }\n",
       "\n",
       "    .dataframe thead th {\n",
       "        text-align: right;\n",
       "    }\n",
       "</style>\n",
       "<table border=\"1\" class=\"dataframe\">\n",
       "  <thead>\n",
       "    <tr style=\"text-align: right;\">\n",
       "      <th></th>\n",
       "      <th>total_sales</th>\n",
       "    </tr>\n",
       "    <tr>\n",
       "      <th>platform</th>\n",
       "      <th></th>\n",
       "    </tr>\n",
       "  </thead>\n",
       "  <tbody>\n",
       "    <tr>\n",
       "      <th>PS4</th>\n",
       "      <td>314.14</td>\n",
       "    </tr>\n",
       "    <tr>\n",
       "      <th>PS3</th>\n",
       "      <td>181.43</td>\n",
       "    </tr>\n",
       "    <tr>\n",
       "      <th>XOne</th>\n",
       "      <td>159.32</td>\n",
       "    </tr>\n",
       "    <tr>\n",
       "      <th>3DS</th>\n",
       "      <td>143.25</td>\n",
       "    </tr>\n",
       "    <tr>\n",
       "      <th>X360</th>\n",
       "      <td>136.80</td>\n",
       "    </tr>\n",
       "    <tr>\n",
       "      <th>WiiU</th>\n",
       "      <td>64.63</td>\n",
       "    </tr>\n",
       "    <tr>\n",
       "      <th>PC</th>\n",
       "      <td>39.43</td>\n",
       "    </tr>\n",
       "    <tr>\n",
       "      <th>PSV</th>\n",
       "      <td>32.99</td>\n",
       "    </tr>\n",
       "    <tr>\n",
       "      <th>Wii</th>\n",
       "      <td>13.66</td>\n",
       "    </tr>\n",
       "    <tr>\n",
       "      <th>PSP</th>\n",
       "      <td>3.50</td>\n",
       "    </tr>\n",
       "    <tr>\n",
       "      <th>DS</th>\n",
       "      <td>1.54</td>\n",
       "    </tr>\n",
       "  </tbody>\n",
       "</table>\n",
       "</div>"
      ],
      "text/plain": [
       "          total_sales\n",
       "platform             \n",
       "PS4            314.14\n",
       "PS3            181.43\n",
       "XOne           159.32\n",
       "3DS            143.25\n",
       "X360           136.80\n",
       "WiiU            64.63\n",
       "PC              39.43\n",
       "PSV             32.99\n",
       "Wii             13.66\n",
       "PSP              3.50\n",
       "DS               1.54"
      ]
     },
     "execution_count": 26,
     "metadata": {},
     "output_type": "execute_result"
    }
   ],
   "source": [
    "(\n",
    "    df_actual.pivot_table(index='platform', values='total_sales', aggfunc='sum')\n",
    "    .sort_values(by='total_sales', ascending=False)\n",
    ")"
   ]
  },
  {
   "cell_type": "markdown",
   "metadata": {},
   "source": [
    "- По суммарным продажам лидируют платформы: PS4, PS3, XOne.\n",
    "\n",
    "Посмотрим, как обстоят дела с продажами в 2016 году:"
   ]
  },
  {
   "cell_type": "code",
   "execution_count": 27,
   "metadata": {},
   "outputs": [
    {
     "data": {
      "text/html": [
       "<div>\n",
       "<style scoped>\n",
       "    .dataframe tbody tr th:only-of-type {\n",
       "        vertical-align: middle;\n",
       "    }\n",
       "\n",
       "    .dataframe tbody tr th {\n",
       "        vertical-align: top;\n",
       "    }\n",
       "\n",
       "    .dataframe thead th {\n",
       "        text-align: right;\n",
       "    }\n",
       "</style>\n",
       "<table border=\"1\" class=\"dataframe\">\n",
       "  <thead>\n",
       "    <tr style=\"text-align: right;\">\n",
       "      <th></th>\n",
       "      <th>total_sales</th>\n",
       "    </tr>\n",
       "    <tr>\n",
       "      <th>platform</th>\n",
       "      <th></th>\n",
       "    </tr>\n",
       "  </thead>\n",
       "  <tbody>\n",
       "    <tr>\n",
       "      <th>PS4</th>\n",
       "      <td>69.25</td>\n",
       "    </tr>\n",
       "    <tr>\n",
       "      <th>XOne</th>\n",
       "      <td>26.15</td>\n",
       "    </tr>\n",
       "    <tr>\n",
       "      <th>3DS</th>\n",
       "      <td>15.14</td>\n",
       "    </tr>\n",
       "    <tr>\n",
       "      <th>PC</th>\n",
       "      <td>5.25</td>\n",
       "    </tr>\n",
       "    <tr>\n",
       "      <th>WiiU</th>\n",
       "      <td>4.60</td>\n",
       "    </tr>\n",
       "    <tr>\n",
       "      <th>PSV</th>\n",
       "      <td>4.25</td>\n",
       "    </tr>\n",
       "    <tr>\n",
       "      <th>PS3</th>\n",
       "      <td>3.60</td>\n",
       "    </tr>\n",
       "    <tr>\n",
       "      <th>X360</th>\n",
       "      <td>1.52</td>\n",
       "    </tr>\n",
       "    <tr>\n",
       "      <th>Wii</th>\n",
       "      <td>0.18</td>\n",
       "    </tr>\n",
       "  </tbody>\n",
       "</table>\n",
       "</div>"
      ],
      "text/plain": [
       "          total_sales\n",
       "platform             \n",
       "PS4             69.25\n",
       "XOne            26.15\n",
       "3DS             15.14\n",
       "PC               5.25\n",
       "WiiU             4.60\n",
       "PSV              4.25\n",
       "PS3              3.60\n",
       "X360             1.52\n",
       "Wii              0.18"
      ]
     },
     "execution_count": 27,
     "metadata": {},
     "output_type": "execute_result"
    }
   ],
   "source": [
    "(\n",
    "    df_actual.query('year_of_release == 2016')\n",
    "    .pivot_table(index='platform', values='total_sales', aggfunc='sum')\n",
    "    .sort_values(by='total_sales', ascending=False)\n",
    ")"
   ]
  },
  {
   "cell_type": "markdown",
   "metadata": {},
   "source": [
    "- Здесь ситуация несколько другая. PS3 находилась в лидерах по суммарным продажам за 4 года. В 2016 году эта платформа находятся в хвосте списка по продажам. Возможно она уже отжила свое время.\n",
    "\n",
    "Проверим это на графике."
   ]
  },
  {
   "cell_type": "code",
   "execution_count": 28,
   "metadata": {},
   "outputs": [
    {
     "data": {
      "image/png": "[encoded data removed]",
      "text/plain": [
       "<Figure size 864x576 with 1 Axes>"
      ]
     },
     "metadata": {
      "needs_background": "light"
     },
     "output_type": "display_data"
    }
   ],
   "source": [
    "df_actual.pivot_table(index='year_of_release', columns = 'platform', values='total_sales', aggfunc='sum').plot(grid=True, figsize=(12, 8))\n",
    "plt.title('Продажи игр по платформам')\n",
    "plt.xlabel('Год выпуска игры'), plt.ylabel('Продажи игр, млн копий')\n",
    "plt.show()"
   ]
  },
  {
   "cell_type": "markdown",
   "metadata": {},
   "source": [
    "- По графику видим, что у платформы PS3 действительно наблюдается падение продаж на протяжении последних 4-х лет, и в 2016 году продажи не достигают 5 миллионов копий. Можно считать, что данная платформа уже заканчивает свой срок существования.\n",
    "- Платформы PS4 и XOne находятся на рынке сравнительно недавно - около 4-х лет. Они же находятся в лидерах по продажам в 2016 году. Отметим, что продажи этих платформ за последний год упали, но падение продаж отмечается и у всех остальных платформ. Возможно, что в датафрейме представлены продажи не за весь 2016 год.\n",
    "- Из тройки лидеров по продажам в 2016 году можно обратить внимание на платформу 3DS. На графике видим, что продажи этой платформы тоже падают последние 4 года. Скорее всего платформа 3DS уйдет с рынка в течение ближайшего года.\n",
    "- Таким образом, потенциально прибыльными  платформами на 2017 год можно признать платформы PS4 и XOne. \n",
    "- Не стоит сбрасывать со счетов PC. Игры на компьютеры будут выходить всегда, хоть и пользуются меньшей популярностью, чем приставка. Ранее на графиках, начиная с 1993-1994 годов, мы видели постоянные продажи игр на PC, хотя и в меньших количествах, чем на других платформах."
   ]
  },
  {
   "cell_type": "markdown",
   "metadata": {},
   "source": [
    "### График \"ящик с усами\" по продажам в разбивке по платформам"
   ]
  },
  {
   "cell_type": "markdown",
   "metadata": {},
   "source": [
    "Посроим график \"ящик с усами\" по глобальным продажам игр в разбивке по платформам."
   ]
  },
  {
   "cell_type": "code",
   "execution_count": 29,
   "metadata": {},
   "outputs": [
    {
     "data": {
      "image/png": "[encoded data removed]",
      "text/plain": [
       "<Figure size 1080x720 with 1 Axes>"
      ]
     },
     "metadata": {
      "needs_background": "light"
     },
     "output_type": "display_data"
    }
   ],
   "source": [
    "df_actual.boxplot(column='total_sales', by='platform', figsize=(15, 10))\n",
    "plt.ylim(0, 1.75)\n",
    "plt.title('Продажи игр по платформам')\n",
    "plt.xlabel('Платформа'), plt.ylabel('Продажи игр, млн копий')\n",
    "plt.show()"
   ]
  },
  {
   "cell_type": "markdown",
   "metadata": {},
   "source": [
    "- По графику «ящик с усами» практически на всех платформах видим, что медиана смещена в меньшую сторону от среднего. Это говорит о том, что на рынке присутствуют популярные  игры с довольно крупными продажами, которые тянут за собой среднее значение.\n",
    "- Обратим внимание на медианные продажи. Самые высокие продажи у игр на платформе X360. Это вполне закономерно, так как длительное время эта платформа находилась в топе. Но как мы помним, период существования этой платформы подходит к концу.\n",
    "- Если посмотреть на потенциально прибыльные платформы PS4, XOne и 3DS, медианы на платформах XOne и PS4 выше, а значит они более прибыльны. У платформы 3DS медиана значительно ниже и межквартильный размах меньше. Платформу 3DS вряд ли можно отнести к перспективным."
   ]
  },
  {
   "cell_type": "markdown",
   "metadata": {},
   "source": [
    "### Корреляция между отзывами и продажами"
   ]
  },
  {
   "cell_type": "markdown",
   "metadata": {},
   "source": [
    "Изучим, как влияют на продажи перспективных платформ отзывы пользователей и критиков.\n",
    "\n",
    "Для этого построим диагараммы рассеяния и посчитаем корреляцию между отзывами и продажами."
   ]
  },
  {
   "cell_type": "code",
   "execution_count": 30,
   "metadata": {
    "scrolled": true
   },
   "outputs": [
    {
     "data": {
      "image/png": "[encoded data removed]",
      "text/plain": [
       "<Figure size 432x288 with 1 Axes>"
      ]
     },
     "metadata": {
      "needs_background": "light"
     },
     "output_type": "display_data"
    },
    {
     "data": {
      "image/png": "[encoded data removed]",
      "text/plain": [
       "<Figure size 432x288 with 1 Axes>"
      ]
     },
     "metadata": {
      "needs_background": "light"
     },
     "output_type": "display_data"
    },
    {
     "data": {
      "text/html": [
       "<div>\n",
       "<style scoped>\n",
       "    .dataframe tbody tr th:only-of-type {\n",
       "        vertical-align: middle;\n",
       "    }\n",
       "\n",
       "    .dataframe tbody tr th {\n",
       "        vertical-align: top;\n",
       "    }\n",
       "\n",
       "    .dataframe thead th {\n",
       "        text-align: right;\n",
       "    }\n",
       "</style>\n",
       "<table border=\"1\" class=\"dataframe\">\n",
       "  <thead>\n",
       "    <tr style=\"text-align: right;\">\n",
       "      <th></th>\n",
       "      <th>total_sales</th>\n",
       "      <th>critic_score</th>\n",
       "      <th>user_score</th>\n",
       "    </tr>\n",
       "  </thead>\n",
       "  <tbody>\n",
       "    <tr>\n",
       "      <th>total_sales</th>\n",
       "      <td>1.000000</td>\n",
       "      <td>0.406568</td>\n",
       "      <td>-0.031957</td>\n",
       "    </tr>\n",
       "    <tr>\n",
       "      <th>critic_score</th>\n",
       "      <td>0.406568</td>\n",
       "      <td>1.000000</td>\n",
       "      <td>0.557654</td>\n",
       "    </tr>\n",
       "    <tr>\n",
       "      <th>user_score</th>\n",
       "      <td>-0.031957</td>\n",
       "      <td>0.557654</td>\n",
       "      <td>1.000000</td>\n",
       "    </tr>\n",
       "  </tbody>\n",
       "</table>\n",
       "</div>"
      ],
      "text/plain": [
       "              total_sales  critic_score  user_score\n",
       "total_sales      1.000000      0.406568   -0.031957\n",
       "critic_score     0.406568      1.000000    0.557654\n",
       "user_score      -0.031957      0.557654    1.000000"
      ]
     },
     "metadata": {},
     "output_type": "display_data"
    },
    {
     "data": {
      "image/png": "[encoded data removed]",
      "text/plain": [
       "<Figure size 432x288 with 1 Axes>"
      ]
     },
     "metadata": {
      "needs_background": "light"
     },
     "output_type": "display_data"
    },
    {
     "data": {
      "image/png": "[encoded data removed]",
      "text/plain": [
       "<Figure size 432x288 with 1 Axes>"
      ]
     },
     "metadata": {
      "needs_background": "light"
     },
     "output_type": "display_data"
    },
    {
     "data": {
      "text/html": [
       "<div>\n",
       "<style scoped>\n",
       "    .dataframe tbody tr th:only-of-type {\n",
       "        vertical-align: middle;\n",
       "    }\n",
       "\n",
       "    .dataframe tbody tr th {\n",
       "        vertical-align: top;\n",
       "    }\n",
       "\n",
       "    .dataframe thead th {\n",
       "        text-align: right;\n",
       "    }\n",
       "</style>\n",
       "<table border=\"1\" class=\"dataframe\">\n",
       "  <thead>\n",
       "    <tr style=\"text-align: right;\">\n",
       "      <th></th>\n",
       "      <th>total_sales</th>\n",
       "      <th>critic_score</th>\n",
       "      <th>user_score</th>\n",
       "    </tr>\n",
       "  </thead>\n",
       "  <tbody>\n",
       "    <tr>\n",
       "      <th>total_sales</th>\n",
       "      <td>1.000000</td>\n",
       "      <td>0.416998</td>\n",
       "      <td>-0.068925</td>\n",
       "    </tr>\n",
       "    <tr>\n",
       "      <th>critic_score</th>\n",
       "      <td>0.416998</td>\n",
       "      <td>1.000000</td>\n",
       "      <td>0.472462</td>\n",
       "    </tr>\n",
       "    <tr>\n",
       "      <th>user_score</th>\n",
       "      <td>-0.068925</td>\n",
       "      <td>0.472462</td>\n",
       "      <td>1.000000</td>\n",
       "    </tr>\n",
       "  </tbody>\n",
       "</table>\n",
       "</div>"
      ],
      "text/plain": [
       "              total_sales  critic_score  user_score\n",
       "total_sales      1.000000      0.416998   -0.068925\n",
       "critic_score     0.416998      1.000000    0.472462\n",
       "user_score      -0.068925      0.472462    1.000000"
      ]
     },
     "metadata": {},
     "output_type": "display_data"
    },
    {
     "data": {
      "image/png": "[encoded data removed]",
      "text/plain": [
       "<Figure size 432x288 with 1 Axes>"
      ]
     },
     "metadata": {
      "needs_background": "light"
     },
     "output_type": "display_data"
    },
    {
     "data": {
      "image/png": "[encoded data removed]",
      "text/plain": [
       "<Figure size 432x288 with 1 Axes>"
      ]
     },
     "metadata": {
      "needs_background": "light"
     },
     "output_type": "display_data"
    },
    {
     "data": {
      "text/html": [
       "<div>\n",
       "<style scoped>\n",
       "    .dataframe tbody tr th:only-of-type {\n",
       "        vertical-align: middle;\n",
       "    }\n",
       "\n",
       "    .dataframe tbody tr th {\n",
       "        vertical-align: top;\n",
       "    }\n",
       "\n",
       "    .dataframe thead th {\n",
       "        text-align: right;\n",
       "    }\n",
       "</style>\n",
       "<table border=\"1\" class=\"dataframe\">\n",
       "  <thead>\n",
       "    <tr style=\"text-align: right;\">\n",
       "      <th></th>\n",
       "      <th>total_sales</th>\n",
       "      <th>critic_score</th>\n",
       "      <th>user_score</th>\n",
       "    </tr>\n",
       "  </thead>\n",
       "  <tbody>\n",
       "    <tr>\n",
       "      <th>total_sales</th>\n",
       "      <td>1.000000</td>\n",
       "      <td>0.357057</td>\n",
       "      <td>0.241504</td>\n",
       "    </tr>\n",
       "    <tr>\n",
       "      <th>critic_score</th>\n",
       "      <td>0.357057</td>\n",
       "      <td>1.000000</td>\n",
       "      <td>0.769536</td>\n",
       "    </tr>\n",
       "    <tr>\n",
       "      <th>user_score</th>\n",
       "      <td>0.241504</td>\n",
       "      <td>0.769536</td>\n",
       "      <td>1.000000</td>\n",
       "    </tr>\n",
       "  </tbody>\n",
       "</table>\n",
       "</div>"
      ],
      "text/plain": [
       "              total_sales  critic_score  user_score\n",
       "total_sales      1.000000      0.357057    0.241504\n",
       "critic_score     0.357057      1.000000    0.769536\n",
       "user_score       0.241504      0.769536    1.000000"
      ]
     },
     "metadata": {},
     "output_type": "display_data"
    }
   ],
   "source": [
    "# создадим список потенциально прибыльных платформ:\n",
    "promising_platform = ['PS4', 'XOne', '3DS']\n",
    "# построим диаграммы рассеяния и посчитаем корреляцию:\n",
    "for value in promising_platform:\n",
    "    df_actual.query('platform == @value').plot(x='critic_score', y='total_sales', kind='scatter')\n",
    "    plt.title(f'Платформа {value}')\n",
    "    plt.show()\n",
    "    df_actual.query('platform == @value').plot(x='user_score', y='total_sales', kind='scatter')\n",
    "    plt.title(f'Платформа {value}')\n",
    "    plt.show()\n",
    "    display(df_actual.query('platform == @value')[['total_sales', 'critic_score', 'user_score']].corr())"
   ]
  },
  {
   "cell_type": "markdown",
   "metadata": {},
   "source": [
    "- На рассмотренных нами платформах наблюдается умеренная связь между оценками критиков и продажами. Между оценками пользователей и продажами связь практически слабая или практически отсутствует."
   ]
  },
  {
   "cell_type": "markdown",
   "metadata": {},
   "source": [
    "### Распределение игр по жанрам"
   ]
  },
  {
   "cell_type": "markdown",
   "metadata": {},
   "source": [
    "Посмотрим на общее распределение игр по жанрам."
   ]
  },
  {
   "cell_type": "code",
   "execution_count": 31,
   "metadata": {},
   "outputs": [
    {
     "data": {
      "text/plain": [
       "Action          766\n",
       "Role-Playing    292\n",
       "Adventure       245\n",
       "Sports          214\n",
       "Shooter         187\n",
       "Misc            155\n",
       "Racing           85\n",
       "Fighting         80\n",
       "Platform         74\n",
       "Simulation       62\n",
       "Strategy         56\n",
       "Puzzle           17\n",
       "Name: genre, dtype: int64"
      ]
     },
     "execution_count": 31,
     "metadata": {},
     "output_type": "execute_result"
    }
   ],
   "source": [
    "df_actual['genre'].value_counts()"
   ]
  },
  {
   "cell_type": "markdown",
   "metadata": {},
   "source": [
    "- По количеству игр лидируют жанры: Action (с большим отрывом от других жанров), Role-Playing, Adventure.\n",
    "\n",
    "Изучим распределение жанров по прибыльности:"
   ]
  },
  {
   "cell_type": "markdown",
   "metadata": {},
   "source": [
    "Общие продажи - плохая метрика для поиска наиболее прибыльного жанра. За высокими показателями общих продаж может скрываться множество мелких игр с низкими продажами. Или 2-3 звезды и куча провалов. Лучше найти жанр, где игры стабильно приносят высокий доход - для этого стоит рассмотреть средние или медианные продажи."
   ]
  },
  {
   "cell_type": "code",
   "execution_count": 32,
   "metadata": {},
   "outputs": [
    {
     "data": {
      "text/html": [
       "<div>\n",
       "<style scoped>\n",
       "    .dataframe tbody tr th:only-of-type {\n",
       "        vertical-align: middle;\n",
       "    }\n",
       "\n",
       "    .dataframe tbody tr th {\n",
       "        vertical-align: top;\n",
       "    }\n",
       "\n",
       "    .dataframe thead th {\n",
       "        text-align: right;\n",
       "    }\n",
       "</style>\n",
       "<table border=\"1\" class=\"dataframe\">\n",
       "  <thead>\n",
       "    <tr style=\"text-align: right;\">\n",
       "      <th></th>\n",
       "      <th>total_sales</th>\n",
       "    </tr>\n",
       "    <tr>\n",
       "      <th>genre</th>\n",
       "      <th></th>\n",
       "    </tr>\n",
       "  </thead>\n",
       "  <tbody>\n",
       "    <tr>\n",
       "      <th>Shooter</th>\n",
       "      <td>0.450</td>\n",
       "    </tr>\n",
       "    <tr>\n",
       "      <th>Sports</th>\n",
       "      <td>0.240</td>\n",
       "    </tr>\n",
       "    <tr>\n",
       "      <th>Platform</th>\n",
       "      <td>0.225</td>\n",
       "    </tr>\n",
       "    <tr>\n",
       "      <th>Role-Playing</th>\n",
       "      <td>0.125</td>\n",
       "    </tr>\n",
       "    <tr>\n",
       "      <th>Fighting</th>\n",
       "      <td>0.125</td>\n",
       "    </tr>\n",
       "    <tr>\n",
       "      <th>Racing</th>\n",
       "      <td>0.120</td>\n",
       "    </tr>\n",
       "    <tr>\n",
       "      <th>Action</th>\n",
       "      <td>0.110</td>\n",
       "    </tr>\n",
       "    <tr>\n",
       "      <th>Simulation</th>\n",
       "      <td>0.100</td>\n",
       "    </tr>\n",
       "    <tr>\n",
       "      <th>Misc</th>\n",
       "      <td>0.100</td>\n",
       "    </tr>\n",
       "    <tr>\n",
       "      <th>Strategy</th>\n",
       "      <td>0.080</td>\n",
       "    </tr>\n",
       "    <tr>\n",
       "      <th>Puzzle</th>\n",
       "      <td>0.060</td>\n",
       "    </tr>\n",
       "    <tr>\n",
       "      <th>Adventure</th>\n",
       "      <td>0.030</td>\n",
       "    </tr>\n",
       "  </tbody>\n",
       "</table>\n",
       "</div>"
      ],
      "text/plain": [
       "              total_sales\n",
       "genre                    \n",
       "Shooter             0.450\n",
       "Sports              0.240\n",
       "Platform            0.225\n",
       "Role-Playing        0.125\n",
       "Fighting            0.125\n",
       "Racing              0.120\n",
       "Action              0.110\n",
       "Simulation          0.100\n",
       "Misc                0.100\n",
       "Strategy            0.080\n",
       "Puzzle              0.060\n",
       "Adventure           0.030"
      ]
     },
     "execution_count": 32,
     "metadata": {},
     "output_type": "execute_result"
    }
   ],
   "source": [
    "(\n",
    "    df_actual.pivot_table(index='genre', values='total_sales', aggfunc='median')\n",
    "    .sort_values('total_sales', ascending=False)\n",
    ")"
   ]
  },
  {
   "cell_type": "markdown",
   "metadata": {},
   "source": [
    "- Тройка лидеров по количеству игр не являются самыми прибыльными жанрами.\n",
    "- Наиболее прибыльные жанры - Shooter, Sports, Misc. Наименее - Adventure, Puzzle, Simulation."
   ]
  },
  {
   "cell_type": "markdown",
   "metadata": {},
   "source": [
    "**Выводы:**\n",
    "- До 1995 года игр выпускалось очень мало, их количество не достигало 100 в год. С 1995 года наблюдается рост производства игр, после 2000 года довольно интенсивный, с максимумом более 1400 игр в 2008-2009 годах. Затем отмечается снижение показателя, и к 2016 году количество выпущенных игр достигает отметки около 500.\n",
    "- Продажи до 1995 года были также невелики. С 1995 года на некоторых платформах наблюдается резкий скачок продаж, в то время как на других платформах продажи остаются сравнительно небольшими.\n",
    "- Все платформы имеют определенный \"срок жизни\": они появляются, достигают своего максимума по продажам и со временем исчезают с рынка. Топовые платформы живут в среднем 9,7 лет, что почти на 3 года дольше по сравнению с остальными платформами. На основе этого выделили актуальный для исследования период в 4 года (с 2013 по 2016 годы). Для дальнейшего исследования использовали данные только за актуальный период.\n",
    "- По суммарным продажам лидируют платформы: PS4, PS3, XOne. Кроме того и медианный показатель у платформ PS4 и XOne выше, чем у прочих платформ, что подтверждает, что платформы показали себя очень хорошо за выбранный период. Если смотреть продажи PS3 только за 2016 год, то эта платформа находятся в хвосте списка, а на графике видим, что продажи ее постоянно падают на протяжении последниех 4-х лет. Можно считать, что платформа PS3 уже заканчивает свой срок существования.\n",
    "- Платформы PS4 и XOne находятся на рынке сравнительно недавно - около 4-х лет. Они же находятся в лидерах по продажам в 2016 году. Продажи этих платформ за последний год упали, но падение продаж отмечается и у всех остальных платформ, что связано вероятно с неполными данными за 2016 год.\n",
    "- В тройку лидеров по продажам в 2016 году входит также платформа 3DS. Но период существования этой платформы на данный момент составляет уже 6 лет. А так как срок жизни нетоповых платформ находится в районе 6,8 лет, скорее всего она уйдет с рынка в течение ближайшего года. Кроме того, медиана у данной платформы находится весьма ниже и межквартильный размах меньше, а значит и прибыльность скромнее, чем у PS4 и XOne.\n",
    "- Наблюдается умеренная связь между оценками критиков и продажами. Между оценками пользователей и продажами связь практически отсутствует.\n",
    "- По количеству игр лидируют жанры: Action (с большим отрывом от других жанров), Role-Playing, Adventure. Наиболее прибыльные жанры - Shooter, Sports, Misc. Топовые жанры по количеству игр и по прибыльности не совпадают."
   ]
  },
  {
   "cell_type": "markdown",
   "metadata": {},
   "source": [
    "## Портрет пользователя по регионам"
   ]
  },
  {
   "cell_type": "markdown",
   "metadata": {},
   "source": [
    "**Этапы:**\n",
    "\n",
    "Определим для пользователя каждого региона (NA, EU, JP):\n",
    "- Самые популярные платформы (топ-5).\n",
    "- Самые популярные жанры (топ-5).\n",
    "- Выясним, влияет ли рейтинг ESRB на продажи в отдельном регионе."
   ]
  },
  {
   "cell_type": "markdown",
   "metadata": {},
   "source": [
    "### Популярные платформы"
   ]
  },
  {
   "cell_type": "markdown",
   "metadata": {},
   "source": [
    "Сравним самые популярные платформы в трех регионах: Северной Америке, Европе и Японии."
   ]
  },
  {
   "cell_type": "code",
   "execution_count": 33,
   "metadata": {},
   "outputs": [
    {
     "data": {
      "text/html": [
       "<div>\n",
       "<style scoped>\n",
       "    .dataframe tbody tr th:only-of-type {\n",
       "        vertical-align: middle;\n",
       "    }\n",
       "\n",
       "    .dataframe tbody tr th {\n",
       "        vertical-align: top;\n",
       "    }\n",
       "\n",
       "    .dataframe thead th {\n",
       "        text-align: right;\n",
       "    }\n",
       "</style>\n",
       "<table border=\"1\" class=\"dataframe\">\n",
       "  <thead>\n",
       "    <tr style=\"text-align: right;\">\n",
       "      <th></th>\n",
       "      <th>na_sales</th>\n",
       "    </tr>\n",
       "    <tr>\n",
       "      <th>platform</th>\n",
       "      <th></th>\n",
       "    </tr>\n",
       "  </thead>\n",
       "  <tbody>\n",
       "    <tr>\n",
       "      <th>PS4</th>\n",
       "      <td>108.74</td>\n",
       "    </tr>\n",
       "    <tr>\n",
       "      <th>XOne</th>\n",
       "      <td>93.12</td>\n",
       "    </tr>\n",
       "    <tr>\n",
       "      <th>X360</th>\n",
       "      <td>81.66</td>\n",
       "    </tr>\n",
       "    <tr>\n",
       "      <th>PS3</th>\n",
       "      <td>63.50</td>\n",
       "    </tr>\n",
       "    <tr>\n",
       "      <th>3DS</th>\n",
       "      <td>38.20</td>\n",
       "    </tr>\n",
       "  </tbody>\n",
       "</table>\n",
       "</div>"
      ],
      "text/plain": [
       "          na_sales\n",
       "platform          \n",
       "PS4         108.74\n",
       "XOne         93.12\n",
       "X360         81.66\n",
       "PS3          63.50\n",
       "3DS          38.20"
      ]
     },
     "metadata": {},
     "output_type": "display_data"
    },
    {
     "data": {
      "text/html": [
       "<div>\n",
       "<style scoped>\n",
       "    .dataframe tbody tr th:only-of-type {\n",
       "        vertical-align: middle;\n",
       "    }\n",
       "\n",
       "    .dataframe tbody tr th {\n",
       "        vertical-align: top;\n",
       "    }\n",
       "\n",
       "    .dataframe thead th {\n",
       "        text-align: right;\n",
       "    }\n",
       "</style>\n",
       "<table border=\"1\" class=\"dataframe\">\n",
       "  <thead>\n",
       "    <tr style=\"text-align: right;\">\n",
       "      <th></th>\n",
       "      <th>eu_sales</th>\n",
       "    </tr>\n",
       "    <tr>\n",
       "      <th>platform</th>\n",
       "      <th></th>\n",
       "    </tr>\n",
       "  </thead>\n",
       "  <tbody>\n",
       "    <tr>\n",
       "      <th>PS4</th>\n",
       "      <td>141.09</td>\n",
       "    </tr>\n",
       "    <tr>\n",
       "      <th>PS3</th>\n",
       "      <td>67.81</td>\n",
       "    </tr>\n",
       "    <tr>\n",
       "      <th>XOne</th>\n",
       "      <td>51.59</td>\n",
       "    </tr>\n",
       "    <tr>\n",
       "      <th>X360</th>\n",
       "      <td>42.52</td>\n",
       "    </tr>\n",
       "    <tr>\n",
       "      <th>3DS</th>\n",
       "      <td>30.96</td>\n",
       "    </tr>\n",
       "  </tbody>\n",
       "</table>\n",
       "</div>"
      ],
      "text/plain": [
       "          eu_sales\n",
       "platform          \n",
       "PS4         141.09\n",
       "PS3          67.81\n",
       "XOne         51.59\n",
       "X360         42.52\n",
       "3DS          30.96"
      ]
     },
     "metadata": {},
     "output_type": "display_data"
    },
    {
     "data": {
      "text/html": [
       "<div>\n",
       "<style scoped>\n",
       "    .dataframe tbody tr th:only-of-type {\n",
       "        vertical-align: middle;\n",
       "    }\n",
       "\n",
       "    .dataframe tbody tr th {\n",
       "        vertical-align: top;\n",
       "    }\n",
       "\n",
       "    .dataframe thead th {\n",
       "        text-align: right;\n",
       "    }\n",
       "</style>\n",
       "<table border=\"1\" class=\"dataframe\">\n",
       "  <thead>\n",
       "    <tr style=\"text-align: right;\">\n",
       "      <th></th>\n",
       "      <th>jp_sales</th>\n",
       "    </tr>\n",
       "    <tr>\n",
       "      <th>platform</th>\n",
       "      <th></th>\n",
       "    </tr>\n",
       "  </thead>\n",
       "  <tbody>\n",
       "    <tr>\n",
       "      <th>3DS</th>\n",
       "      <td>67.81</td>\n",
       "    </tr>\n",
       "    <tr>\n",
       "      <th>PS3</th>\n",
       "      <td>23.35</td>\n",
       "    </tr>\n",
       "    <tr>\n",
       "      <th>PSV</th>\n",
       "      <td>18.59</td>\n",
       "    </tr>\n",
       "    <tr>\n",
       "      <th>PS4</th>\n",
       "      <td>15.96</td>\n",
       "    </tr>\n",
       "    <tr>\n",
       "      <th>WiiU</th>\n",
       "      <td>10.88</td>\n",
       "    </tr>\n",
       "  </tbody>\n",
       "</table>\n",
       "</div>"
      ],
      "text/plain": [
       "          jp_sales\n",
       "platform          \n",
       "3DS          67.81\n",
       "PS3          23.35\n",
       "PSV          18.59\n",
       "PS4          15.96\n",
       "WiiU         10.88"
      ]
     },
     "metadata": {},
     "output_type": "display_data"
    }
   ],
   "source": [
    "# создадим список с продажами по регионам:\n",
    "regions = ['na_sales', 'eu_sales','jp_sales']\n",
    "# выведем 5 самых популярных платформ по регионам:\n",
    "for value in regions:\n",
    "   (\n",
    "        display(df_actual.pivot_table(index='platform', values=value, aggfunc='sum')\n",
    "        .sort_values(by=value, ascending=False)\n",
    "        .head(5))\n",
    "    )"
   ]
  },
  {
   "cell_type": "markdown",
   "metadata": {},
   "source": [
    "- Набор топовых платформ в Северной Америке и Европе одинаков. В топе присутствуют платформы XOne и X360, отсутствующие в топе Японии.\n",
    "- В Японии самой популярной платформой оказалась 3DS, а также в топ попали платформы PSV и WiiU, котрых нет в топах Европы и Северной Америки.\n",
    "- PS4, 3DS и PS3 - присутствуют в топовом рейтинге во всех трех регионах."
   ]
  },
  {
   "cell_type": "markdown",
   "metadata": {},
   "source": [
    "### Популярные жанры"
   ]
  },
  {
   "cell_type": "markdown",
   "metadata": {},
   "source": [
    "Сравним самые популярные жанры игр в тех же регионах:"
   ]
  },
  {
   "cell_type": "code",
   "execution_count": 34,
   "metadata": {},
   "outputs": [
    {
     "data": {
      "text/html": [
       "<div>\n",
       "<style scoped>\n",
       "    .dataframe tbody tr th:only-of-type {\n",
       "        vertical-align: middle;\n",
       "    }\n",
       "\n",
       "    .dataframe tbody tr th {\n",
       "        vertical-align: top;\n",
       "    }\n",
       "\n",
       "    .dataframe thead th {\n",
       "        text-align: right;\n",
       "    }\n",
       "</style>\n",
       "<table border=\"1\" class=\"dataframe\">\n",
       "  <thead>\n",
       "    <tr style=\"text-align: right;\">\n",
       "      <th></th>\n",
       "      <th>na_sales</th>\n",
       "    </tr>\n",
       "    <tr>\n",
       "      <th>genre</th>\n",
       "      <th></th>\n",
       "    </tr>\n",
       "  </thead>\n",
       "  <tbody>\n",
       "    <tr>\n",
       "      <th>Action</th>\n",
       "      <td>126.05</td>\n",
       "    </tr>\n",
       "    <tr>\n",
       "      <th>Shooter</th>\n",
       "      <td>109.74</td>\n",
       "    </tr>\n",
       "    <tr>\n",
       "      <th>Sports</th>\n",
       "      <td>65.27</td>\n",
       "    </tr>\n",
       "    <tr>\n",
       "      <th>Role-Playing</th>\n",
       "      <td>46.40</td>\n",
       "    </tr>\n",
       "    <tr>\n",
       "      <th>Misc</th>\n",
       "      <td>27.49</td>\n",
       "    </tr>\n",
       "  </tbody>\n",
       "</table>\n",
       "</div>"
      ],
      "text/plain": [
       "              na_sales\n",
       "genre                 \n",
       "Action          126.05\n",
       "Shooter         109.74\n",
       "Sports           65.27\n",
       "Role-Playing     46.40\n",
       "Misc             27.49"
      ]
     },
     "metadata": {},
     "output_type": "display_data"
    },
    {
     "data": {
      "text/html": [
       "<div>\n",
       "<style scoped>\n",
       "    .dataframe tbody tr th:only-of-type {\n",
       "        vertical-align: middle;\n",
       "    }\n",
       "\n",
       "    .dataframe tbody tr th {\n",
       "        vertical-align: top;\n",
       "    }\n",
       "\n",
       "    .dataframe thead th {\n",
       "        text-align: right;\n",
       "    }\n",
       "</style>\n",
       "<table border=\"1\" class=\"dataframe\">\n",
       "  <thead>\n",
       "    <tr style=\"text-align: right;\">\n",
       "      <th></th>\n",
       "      <th>eu_sales</th>\n",
       "    </tr>\n",
       "    <tr>\n",
       "      <th>genre</th>\n",
       "      <th></th>\n",
       "    </tr>\n",
       "  </thead>\n",
       "  <tbody>\n",
       "    <tr>\n",
       "      <th>Action</th>\n",
       "      <td>118.13</td>\n",
       "    </tr>\n",
       "    <tr>\n",
       "      <th>Shooter</th>\n",
       "      <td>87.86</td>\n",
       "    </tr>\n",
       "    <tr>\n",
       "      <th>Sports</th>\n",
       "      <td>60.52</td>\n",
       "    </tr>\n",
       "    <tr>\n",
       "      <th>Role-Playing</th>\n",
       "      <td>36.97</td>\n",
       "    </tr>\n",
       "    <tr>\n",
       "      <th>Racing</th>\n",
       "      <td>20.19</td>\n",
       "    </tr>\n",
       "  </tbody>\n",
       "</table>\n",
       "</div>"
      ],
      "text/plain": [
       "              eu_sales\n",
       "genre                 \n",
       "Action          118.13\n",
       "Shooter          87.86\n",
       "Sports           60.52\n",
       "Role-Playing     36.97\n",
       "Racing           20.19"
      ]
     },
     "metadata": {},
     "output_type": "display_data"
    },
    {
     "data": {
      "text/html": [
       "<div>\n",
       "<style scoped>\n",
       "    .dataframe tbody tr th:only-of-type {\n",
       "        vertical-align: middle;\n",
       "    }\n",
       "\n",
       "    .dataframe tbody tr th {\n",
       "        vertical-align: top;\n",
       "    }\n",
       "\n",
       "    .dataframe thead th {\n",
       "        text-align: right;\n",
       "    }\n",
       "</style>\n",
       "<table border=\"1\" class=\"dataframe\">\n",
       "  <thead>\n",
       "    <tr style=\"text-align: right;\">\n",
       "      <th></th>\n",
       "      <th>jp_sales</th>\n",
       "    </tr>\n",
       "    <tr>\n",
       "      <th>genre</th>\n",
       "      <th></th>\n",
       "    </tr>\n",
       "  </thead>\n",
       "  <tbody>\n",
       "    <tr>\n",
       "      <th>Role-Playing</th>\n",
       "      <td>51.04</td>\n",
       "    </tr>\n",
       "    <tr>\n",
       "      <th>Action</th>\n",
       "      <td>40.49</td>\n",
       "    </tr>\n",
       "    <tr>\n",
       "      <th>Misc</th>\n",
       "      <td>9.20</td>\n",
       "    </tr>\n",
       "    <tr>\n",
       "      <th>Fighting</th>\n",
       "      <td>7.65</td>\n",
       "    </tr>\n",
       "    <tr>\n",
       "      <th>Shooter</th>\n",
       "      <td>6.61</td>\n",
       "    </tr>\n",
       "  </tbody>\n",
       "</table>\n",
       "</div>"
      ],
      "text/plain": [
       "              jp_sales\n",
       "genre                 \n",
       "Role-Playing     51.04\n",
       "Action           40.49\n",
       "Misc              9.20\n",
       "Fighting          7.65\n",
       "Shooter           6.61"
      ]
     },
     "metadata": {},
     "output_type": "display_data"
    }
   ],
   "source": [
    "# выведем 5 самых популярных жанров по регионам:\n",
    "for value in regions:\n",
    "   (\n",
    "        display(df_actual.pivot_table(index='genre', values=value, aggfunc='sum')\n",
    "        .sort_values(by=value, ascending=False)\n",
    "        .head(5))\n",
    "    )"
   ]
  },
  {
   "cell_type": "markdown",
   "metadata": {},
   "source": [
    "- Как видим, по популярным жанрам Япония тоже отличается от Северной Америки и Европы. Японцы предпочитают несколько другой набор игр.\n",
    "\n",
    "Изучим топы игр по прибыльности."
   ]
  },
  {
   "cell_type": "code",
   "execution_count": 35,
   "metadata": {},
   "outputs": [
    {
     "data": {
      "text/html": [
       "<div>\n",
       "<style scoped>\n",
       "    .dataframe tbody tr th:only-of-type {\n",
       "        vertical-align: middle;\n",
       "    }\n",
       "\n",
       "    .dataframe tbody tr th {\n",
       "        vertical-align: top;\n",
       "    }\n",
       "\n",
       "    .dataframe thead th {\n",
       "        text-align: right;\n",
       "    }\n",
       "</style>\n",
       "<table border=\"1\" class=\"dataframe\">\n",
       "  <thead>\n",
       "    <tr style=\"text-align: right;\">\n",
       "      <th></th>\n",
       "      <th>na_sales</th>\n",
       "    </tr>\n",
       "    <tr>\n",
       "      <th>genre</th>\n",
       "      <th></th>\n",
       "    </tr>\n",
       "  </thead>\n",
       "  <tbody>\n",
       "    <tr>\n",
       "      <th>Shooter</th>\n",
       "      <td>0.200</td>\n",
       "    </tr>\n",
       "    <tr>\n",
       "      <th>Platform</th>\n",
       "      <td>0.090</td>\n",
       "    </tr>\n",
       "    <tr>\n",
       "      <th>Sports</th>\n",
       "      <td>0.080</td>\n",
       "    </tr>\n",
       "    <tr>\n",
       "      <th>Fighting</th>\n",
       "      <td>0.045</td>\n",
       "    </tr>\n",
       "    <tr>\n",
       "      <th>Racing</th>\n",
       "      <td>0.030</td>\n",
       "    </tr>\n",
       "  </tbody>\n",
       "</table>\n",
       "</div>"
      ],
      "text/plain": [
       "          na_sales\n",
       "genre             \n",
       "Shooter      0.200\n",
       "Platform     0.090\n",
       "Sports       0.080\n",
       "Fighting     0.045\n",
       "Racing       0.030"
      ]
     },
     "metadata": {},
     "output_type": "display_data"
    },
    {
     "data": {
      "text/html": [
       "<div>\n",
       "<style scoped>\n",
       "    .dataframe tbody tr th:only-of-type {\n",
       "        vertical-align: middle;\n",
       "    }\n",
       "\n",
       "    .dataframe tbody tr th {\n",
       "        vertical-align: top;\n",
       "    }\n",
       "\n",
       "    .dataframe thead th {\n",
       "        text-align: right;\n",
       "    }\n",
       "</style>\n",
       "<table border=\"1\" class=\"dataframe\">\n",
       "  <thead>\n",
       "    <tr style=\"text-align: right;\">\n",
       "      <th></th>\n",
       "      <th>eu_sales</th>\n",
       "    </tr>\n",
       "    <tr>\n",
       "      <th>genre</th>\n",
       "      <th></th>\n",
       "    </tr>\n",
       "  </thead>\n",
       "  <tbody>\n",
       "    <tr>\n",
       "      <th>Shooter</th>\n",
       "      <td>0.190</td>\n",
       "    </tr>\n",
       "    <tr>\n",
       "      <th>Platform</th>\n",
       "      <td>0.080</td>\n",
       "    </tr>\n",
       "    <tr>\n",
       "      <th>Racing</th>\n",
       "      <td>0.060</td>\n",
       "    </tr>\n",
       "    <tr>\n",
       "      <th>Sports</th>\n",
       "      <td>0.050</td>\n",
       "    </tr>\n",
       "    <tr>\n",
       "      <th>Simulation</th>\n",
       "      <td>0.035</td>\n",
       "    </tr>\n",
       "  </tbody>\n",
       "</table>\n",
       "</div>"
      ],
      "text/plain": [
       "            eu_sales\n",
       "genre               \n",
       "Shooter        0.190\n",
       "Platform       0.080\n",
       "Racing         0.060\n",
       "Sports         0.050\n",
       "Simulation     0.035"
      ]
     },
     "metadata": {},
     "output_type": "display_data"
    },
    {
     "data": {
      "text/html": [
       "<div>\n",
       "<style scoped>\n",
       "    .dataframe tbody tr th:only-of-type {\n",
       "        vertical-align: middle;\n",
       "    }\n",
       "\n",
       "    .dataframe tbody tr th {\n",
       "        vertical-align: top;\n",
       "    }\n",
       "\n",
       "    .dataframe thead th {\n",
       "        text-align: right;\n",
       "    }\n",
       "</style>\n",
       "<table border=\"1\" class=\"dataframe\">\n",
       "  <thead>\n",
       "    <tr style=\"text-align: right;\">\n",
       "      <th></th>\n",
       "      <th>jp_sales</th>\n",
       "    </tr>\n",
       "    <tr>\n",
       "      <th>genre</th>\n",
       "      <th></th>\n",
       "    </tr>\n",
       "  </thead>\n",
       "  <tbody>\n",
       "    <tr>\n",
       "      <th>Role-Playing</th>\n",
       "      <td>0.05</td>\n",
       "    </tr>\n",
       "    <tr>\n",
       "      <th>Fighting</th>\n",
       "      <td>0.03</td>\n",
       "    </tr>\n",
       "    <tr>\n",
       "      <th>Misc</th>\n",
       "      <td>0.02</td>\n",
       "    </tr>\n",
       "    <tr>\n",
       "      <th>Puzzle</th>\n",
       "      <td>0.02</td>\n",
       "    </tr>\n",
       "    <tr>\n",
       "      <th>Action</th>\n",
       "      <td>0.01</td>\n",
       "    </tr>\n",
       "  </tbody>\n",
       "</table>\n",
       "</div>"
      ],
      "text/plain": [
       "              jp_sales\n",
       "genre                 \n",
       "Role-Playing      0.05\n",
       "Fighting          0.03\n",
       "Misc              0.02\n",
       "Puzzle            0.02\n",
       "Action            0.01"
      ]
     },
     "metadata": {},
     "output_type": "display_data"
    }
   ],
   "source": [
    "# выведем 5 самых прибыльных жанров по регионам:\n",
    "for value in regions:\n",
    "   (\n",
    "        display(df_actual.pivot_table(index='genre', values=value, aggfunc='median')\n",
    "        .sort_values(by=value, ascending=False)\n",
    "        .head(5))\n",
    "    )"
   ]
  },
  {
   "cell_type": "markdown",
   "metadata": {},
   "source": [
    "- В топе жанров по прибыльности у Японии также набор, отличный от других регионов."
   ]
  },
  {
   "cell_type": "markdown",
   "metadata": {},
   "source": [
    "### Влияние рейтинга ESRB на продажи"
   ]
  },
  {
   "cell_type": "markdown",
   "metadata": {},
   "source": [
    "Изучим влияние рейтинга ESRB на продажи в отдельном регионе.\n",
    "\n",
    "Для начала посмотрим игры с какими рейтингами являются самыми продаваемыми по регионам:"
   ]
  },
  {
   "cell_type": "code",
   "execution_count": 36,
   "metadata": {},
   "outputs": [
    {
     "data": {
      "text/html": [
       "<div>\n",
       "<style scoped>\n",
       "    .dataframe tbody tr th:only-of-type {\n",
       "        vertical-align: middle;\n",
       "    }\n",
       "\n",
       "    .dataframe tbody tr th {\n",
       "        vertical-align: top;\n",
       "    }\n",
       "\n",
       "    .dataframe thead th {\n",
       "        text-align: right;\n",
       "    }\n",
       "</style>\n",
       "<table border=\"1\" class=\"dataframe\">\n",
       "  <thead>\n",
       "    <tr style=\"text-align: right;\">\n",
       "      <th></th>\n",
       "      <th>na_sales</th>\n",
       "    </tr>\n",
       "    <tr>\n",
       "      <th>rating</th>\n",
       "      <th></th>\n",
       "    </tr>\n",
       "  </thead>\n",
       "  <tbody>\n",
       "    <tr>\n",
       "      <th>M</th>\n",
       "      <td>165.21</td>\n",
       "    </tr>\n",
       "    <tr>\n",
       "      <th>нет_рейтинга</th>\n",
       "      <td>89.42</td>\n",
       "    </tr>\n",
       "    <tr>\n",
       "      <th>E</th>\n",
       "      <td>79.05</td>\n",
       "    </tr>\n",
       "    <tr>\n",
       "      <th>E10+</th>\n",
       "      <td>54.24</td>\n",
       "    </tr>\n",
       "    <tr>\n",
       "      <th>T</th>\n",
       "      <td>49.79</td>\n",
       "    </tr>\n",
       "  </tbody>\n",
       "</table>\n",
       "</div>"
      ],
      "text/plain": [
       "              na_sales\n",
       "rating                \n",
       "M               165.21\n",
       "нет_рейтинга     89.42\n",
       "E                79.05\n",
       "E10+             54.24\n",
       "T                49.79"
      ]
     },
     "metadata": {},
     "output_type": "display_data"
    },
    {
     "data": {
      "text/html": [
       "<div>\n",
       "<style scoped>\n",
       "    .dataframe tbody tr th:only-of-type {\n",
       "        vertical-align: middle;\n",
       "    }\n",
       "\n",
       "    .dataframe tbody tr th {\n",
       "        vertical-align: top;\n",
       "    }\n",
       "\n",
       "    .dataframe thead th {\n",
       "        text-align: right;\n",
       "    }\n",
       "</style>\n",
       "<table border=\"1\" class=\"dataframe\">\n",
       "  <thead>\n",
       "    <tr style=\"text-align: right;\">\n",
       "      <th></th>\n",
       "      <th>eu_sales</th>\n",
       "    </tr>\n",
       "    <tr>\n",
       "      <th>rating</th>\n",
       "      <th></th>\n",
       "    </tr>\n",
       "  </thead>\n",
       "  <tbody>\n",
       "    <tr>\n",
       "      <th>M</th>\n",
       "      <td>145.32</td>\n",
       "    </tr>\n",
       "    <tr>\n",
       "      <th>E</th>\n",
       "      <td>83.36</td>\n",
       "    </tr>\n",
       "    <tr>\n",
       "      <th>нет_рейтинга</th>\n",
       "      <td>78.91</td>\n",
       "    </tr>\n",
       "    <tr>\n",
       "      <th>E10+</th>\n",
       "      <td>42.69</td>\n",
       "    </tr>\n",
       "    <tr>\n",
       "      <th>T</th>\n",
       "      <td>41.95</td>\n",
       "    </tr>\n",
       "  </tbody>\n",
       "</table>\n",
       "</div>"
      ],
      "text/plain": [
       "              eu_sales\n",
       "rating                \n",
       "M               145.32\n",
       "E                83.36\n",
       "нет_рейтинга     78.91\n",
       "E10+             42.69\n",
       "T                41.95"
      ]
     },
     "metadata": {},
     "output_type": "display_data"
    },
    {
     "data": {
      "text/html": [
       "<div>\n",
       "<style scoped>\n",
       "    .dataframe tbody tr th:only-of-type {\n",
       "        vertical-align: middle;\n",
       "    }\n",
       "\n",
       "    .dataframe tbody tr th {\n",
       "        vertical-align: top;\n",
       "    }\n",
       "\n",
       "    .dataframe thead th {\n",
       "        text-align: right;\n",
       "    }\n",
       "</style>\n",
       "<table border=\"1\" class=\"dataframe\">\n",
       "  <thead>\n",
       "    <tr style=\"text-align: right;\">\n",
       "      <th></th>\n",
       "      <th>jp_sales</th>\n",
       "    </tr>\n",
       "    <tr>\n",
       "      <th>rating</th>\n",
       "      <th></th>\n",
       "    </tr>\n",
       "  </thead>\n",
       "  <tbody>\n",
       "    <tr>\n",
       "      <th>нет_рейтинга</th>\n",
       "      <td>85.05</td>\n",
       "    </tr>\n",
       "    <tr>\n",
       "      <th>T</th>\n",
       "      <td>20.59</td>\n",
       "    </tr>\n",
       "    <tr>\n",
       "      <th>E</th>\n",
       "      <td>15.14</td>\n",
       "    </tr>\n",
       "    <tr>\n",
       "      <th>M</th>\n",
       "      <td>14.11</td>\n",
       "    </tr>\n",
       "    <tr>\n",
       "      <th>E10+</th>\n",
       "      <td>5.89</td>\n",
       "    </tr>\n",
       "  </tbody>\n",
       "</table>\n",
       "</div>"
      ],
      "text/plain": [
       "              jp_sales\n",
       "rating                \n",
       "нет_рейтинга     85.05\n",
       "T                20.59\n",
       "E                15.14\n",
       "M                14.11\n",
       "E10+              5.89"
      ]
     },
     "metadata": {},
     "output_type": "display_data"
    }
   ],
   "source": [
    "for value in regions:\n",
    "   (\n",
    "        display(df_actual.pivot_table(index='rating', values=value, aggfunc='sum')\n",
    "        .sort_values(by=value, ascending=False))\n",
    "    )"
   ]
  },
  {
   "cell_type": "markdown",
   "metadata": {},
   "source": [
    "- Наиболее продаваемые в Северной Америке и Европе - игры с рейтингом М (\"для взрослых\").\n",
    "- В Японии игры для подростков находятся на втором месте по продажам после игр без рейтинга.\n",
    "\n",
    "Чтобы изучить изучить влияние рейтинга на продажи, построим \"ящик с усами\" и оценим медианы у каждого рейтинга в разных регионах."
   ]
  },
  {
   "cell_type": "code",
   "execution_count": 37,
   "metadata": {},
   "outputs": [
    {
     "data": {
      "image/png": "[encoded data removed]",
      "text/plain": [
       "<Figure size 1080x360 with 1 Axes>"
      ]
     },
     "metadata": {
      "needs_background": "light"
     },
     "output_type": "display_data"
    },
    {
     "data": {
      "image/png": "[encoded data removed]",
      "text/plain": [
       "<Figure size 1080x360 with 1 Axes>"
      ]
     },
     "metadata": {
      "needs_background": "light"
     },
     "output_type": "display_data"
    },
    {
     "data": {
      "image/png": "[encoded data removed]",
      "text/plain": [
       "<Figure size 1080x360 with 1 Axes>"
      ]
     },
     "metadata": {
      "needs_background": "light"
     },
     "output_type": "display_data"
    }
   ],
   "source": [
    "for value in regions:\n",
    "    df_actual.boxplot(column=value, by='rating', figsize=(15, 5))\n",
    "    plt.ylim(-0.1, 0.6)\n",
    "    plt.title(f'Влияние рейтинга на {value}')\n",
    "    plt.xlabel('Рейтинг'), plt.ylabel('Продажи игр, млн копий')\n",
    "    plt.show()"
   ]
  },
  {
   "cell_type": "markdown",
   "metadata": {},
   "source": [
    "- В Севеной Америке и Европе игры с отсутствием возрастного рейтинга продаются значительно хуже игр с определенным рейтингом.\n",
    "- В Японии отсутствие рейтинга не влияет на продажи."
   ]
  },
  {
   "cell_type": "markdown",
   "metadata": {},
   "source": [
    "**Выводы:**\n",
    "\n",
    "В ходе исследования мы составили портрет пользователя следующих регионов: Северной Америки, Европы и Японии.\n",
    "\n",
    "- Набор топовых платформ в Северной Америке и Европе одинаков - это PS4, XOne, X360, PS3 и 3DS. А вот в Японии самой популярной платформой оказалась 3DS, а также в топ попали платформы PSV и WiiU, котрых нет в топах Европы и Северной Америки. PS4, 3DS и PS3 - присутствуют в топовом рейтинге во всех трех регионах.\n",
    "- В топах всех регионов присутствуют жанры Action, Shooter, Role-Playing. В предпочтения японцев попал жанр Fighting, который отсутствует в топе других регионов.\n",
    "- Самые прибыльныеи жанры в Северной Америке и Европе - Shooter, Platform, Racing, Sports. В Японии набор отличается - Role-Playing, Fighting, Misc.\t\n",
    "- Наиболее продаваемые в Северной Америке и Европе - игры с рейтингом М (\"для взрослых\"). В Японии игры для подростков находятся на втором месте по продажам после игр без рейтинга.\n",
    "- Наибольшее влияние рейтинга на продажи наблюдается в Северной Америке. В Японии отсутствие рейтинга не влияет на продажи."
   ]
  },
  {
   "cell_type": "markdown",
   "metadata": {},
   "source": [
    "## Проверка гипотез"
   ]
  },
  {
   "cell_type": "markdown",
   "metadata": {},
   "source": [
    "Сфрмулируем исследовательские гипотезы:\n",
    "- Средние пользовательские рейтинги платформ XOne и РС одинаковые;\n",
    "- Средние пользовательские рейтинги жанров Action и Sports разные."
   ]
  },
  {
   "cell_type": "markdown",
   "metadata": {},
   "source": [
    "Для исследования гипотез избавимся от пропусков в столбце с рейтингами пользователей:"
   ]
  },
  {
   "cell_type": "code",
   "execution_count": 38,
   "metadata": {},
   "outputs": [],
   "source": [
    "df_actual = df_actual.dropna(subset=['user_score'])"
   ]
  },
  {
   "cell_type": "markdown",
   "metadata": {},
   "source": [
    "### Сравнение рейтингов платформ"
   ]
  },
  {
   "cell_type": "markdown",
   "metadata": {},
   "source": [
    "Посчитаем среднее, медиану, дисперсию рейтингов по платформам:"
   ]
  },
  {
   "cell_type": "code",
   "execution_count": 39,
   "metadata": {},
   "outputs": [
    {
     "data": {
      "text/html": [
       "<style type=\"text/css\">\n",
       "</style>\n",
       "<table id=\"T_d4774_\">\n",
       "  <thead>\n",
       "    <tr>\n",
       "      <th class=\"blank level0\" >&nbsp;</th>\n",
       "      <th class=\"col_heading level0 col0\" >min</th>\n",
       "      <th class=\"col_heading level0 col1\" >max</th>\n",
       "      <th class=\"col_heading level0 col2\" >mean</th>\n",
       "      <th class=\"col_heading level0 col3\" >median</th>\n",
       "      <th class=\"col_heading level0 col4\" >var</th>\n",
       "      <th class=\"col_heading level0 col5\" >std</th>\n",
       "    </tr>\n",
       "    <tr>\n",
       "      <th class=\"blank level1\" >&nbsp;</th>\n",
       "      <th class=\"col_heading level1 col0\" >user_score</th>\n",
       "      <th class=\"col_heading level1 col1\" >user_score</th>\n",
       "      <th class=\"col_heading level1 col2\" >user_score</th>\n",
       "      <th class=\"col_heading level1 col3\" >user_score</th>\n",
       "      <th class=\"col_heading level1 col4\" >user_score</th>\n",
       "      <th class=\"col_heading level1 col5\" >user_score</th>\n",
       "    </tr>\n",
       "    <tr>\n",
       "      <th class=\"index_name level0\" >platform</th>\n",
       "      <th class=\"blank col0\" >&nbsp;</th>\n",
       "      <th class=\"blank col1\" >&nbsp;</th>\n",
       "      <th class=\"blank col2\" >&nbsp;</th>\n",
       "      <th class=\"blank col3\" >&nbsp;</th>\n",
       "      <th class=\"blank col4\" >&nbsp;</th>\n",
       "      <th class=\"blank col5\" >&nbsp;</th>\n",
       "    </tr>\n",
       "  </thead>\n",
       "  <tbody>\n",
       "    <tr>\n",
       "      <th id=\"T_d4774_level0_row0\" class=\"row_heading level0 row0\" >3DS</th>\n",
       "      <td id=\"T_d4774_row0_col0\" class=\"data row0 col0\" >2.40</td>\n",
       "      <td id=\"T_d4774_row0_col1\" class=\"data row0 col1\" >9.00</td>\n",
       "      <td id=\"T_d4774_row0_col2\" class=\"data row0 col2\" >6.98</td>\n",
       "      <td id=\"T_d4774_row0_col3\" class=\"data row0 col3\" >7.30</td>\n",
       "      <td id=\"T_d4774_row0_col4\" class=\"data row0 col4\" >2.37</td>\n",
       "      <td id=\"T_d4774_row0_col5\" class=\"data row0 col5\" >1.54</td>\n",
       "    </tr>\n",
       "    <tr>\n",
       "      <th id=\"T_d4774_level0_row1\" class=\"row_heading level0 row1\" >DS</th>\n",
       "      <td id=\"T_d4774_row1_col0\" class=\"data row1 col0\" >4.80</td>\n",
       "      <td id=\"T_d4774_row1_col1\" class=\"data row1 col1\" >4.80</td>\n",
       "      <td id=\"T_d4774_row1_col2\" class=\"data row1 col2\" >4.80</td>\n",
       "      <td id=\"T_d4774_row1_col3\" class=\"data row1 col3\" >4.80</td>\n",
       "      <td id=\"T_d4774_row1_col4\" class=\"data row1 col4\" >nan</td>\n",
       "      <td id=\"T_d4774_row1_col5\" class=\"data row1 col5\" >nan</td>\n",
       "    </tr>\n",
       "    <tr>\n",
       "      <th id=\"T_d4774_level0_row2\" class=\"row_heading level0 row2\" >PC</th>\n",
       "      <td id=\"T_d4774_row2_col0\" class=\"data row2 col0\" >1.40</td>\n",
       "      <td id=\"T_d4774_row2_col1\" class=\"data row2 col1\" >9.30</td>\n",
       "      <td id=\"T_d4774_row2_col2\" class=\"data row2 col2\" >6.27</td>\n",
       "      <td id=\"T_d4774_row2_col3\" class=\"data row2 col3\" >6.80</td>\n",
       "      <td id=\"T_d4774_row2_col4\" class=\"data row2 col4\" >3.04</td>\n",
       "      <td id=\"T_d4774_row2_col5\" class=\"data row2 col5\" >1.74</td>\n",
       "    </tr>\n",
       "    <tr>\n",
       "      <th id=\"T_d4774_level0_row3\" class=\"row_heading level0 row3\" >PS3</th>\n",
       "      <td id=\"T_d4774_row3_col0\" class=\"data row3 col0\" >0.20</td>\n",
       "      <td id=\"T_d4774_row3_col1\" class=\"data row3 col1\" >9.10</td>\n",
       "      <td id=\"T_d4774_row3_col2\" class=\"data row3 col2\" >6.35</td>\n",
       "      <td id=\"T_d4774_row3_col3\" class=\"data row3 col3\" >6.90</td>\n",
       "      <td id=\"T_d4774_row3_col4\" class=\"data row3 col4\" >3.23</td>\n",
       "      <td id=\"T_d4774_row3_col5\" class=\"data row3 col5\" >1.80</td>\n",
       "    </tr>\n",
       "    <tr>\n",
       "      <th id=\"T_d4774_level0_row4\" class=\"row_heading level0 row4\" >PS4</th>\n",
       "      <td id=\"T_d4774_row4_col0\" class=\"data row4 col0\" >1.50</td>\n",
       "      <td id=\"T_d4774_row4_col1\" class=\"data row4 col1\" >9.20</td>\n",
       "      <td id=\"T_d4774_row4_col2\" class=\"data row4 col2\" >6.75</td>\n",
       "      <td id=\"T_d4774_row4_col3\" class=\"data row4 col3\" >7.00</td>\n",
       "      <td id=\"T_d4774_row4_col4\" class=\"data row4 col4\" >2.13</td>\n",
       "      <td id=\"T_d4774_row4_col5\" class=\"data row4 col5\" >1.46</td>\n",
       "    </tr>\n",
       "    <tr>\n",
       "      <th id=\"T_d4774_level0_row5\" class=\"row_heading level0 row5\" >PSP</th>\n",
       "      <td id=\"T_d4774_row5_col0\" class=\"data row5 col0\" >3.40</td>\n",
       "      <td id=\"T_d4774_row5_col1\" class=\"data row5 col1\" >8.30</td>\n",
       "      <td id=\"T_d4774_row5_col2\" class=\"data row5 col2\" >5.85</td>\n",
       "      <td id=\"T_d4774_row5_col3\" class=\"data row5 col3\" >5.85</td>\n",
       "      <td id=\"T_d4774_row5_col4\" class=\"data row5 col4\" >12.01</td>\n",
       "      <td id=\"T_d4774_row5_col5\" class=\"data row5 col5\" >3.46</td>\n",
       "    </tr>\n",
       "    <tr>\n",
       "      <th id=\"T_d4774_level0_row6\" class=\"row_heading level0 row6\" >PSV</th>\n",
       "      <td id=\"T_d4774_row6_col0\" class=\"data row6 col0\" >1.80</td>\n",
       "      <td id=\"T_d4774_row6_col1\" class=\"data row6 col1\" >9.30</td>\n",
       "      <td id=\"T_d4774_row6_col2\" class=\"data row6 col2\" >7.53</td>\n",
       "      <td id=\"T_d4774_row6_col3\" class=\"data row6 col3\" >7.80</td>\n",
       "      <td id=\"T_d4774_row6_col4\" class=\"data row6 col4\" >1.75</td>\n",
       "      <td id=\"T_d4774_row6_col5\" class=\"data row6 col5\" >1.32</td>\n",
       "    </tr>\n",
       "    <tr>\n",
       "      <th id=\"T_d4774_level0_row7\" class=\"row_heading level0 row7\" >Wii</th>\n",
       "      <td id=\"T_d4774_row7_col0\" class=\"data row7 col0\" >2.80</td>\n",
       "      <td id=\"T_d4774_row7_col1\" class=\"data row7 col1\" >8.40</td>\n",
       "      <td id=\"T_d4774_row7_col2\" class=\"data row7 col2\" >5.26</td>\n",
       "      <td id=\"T_d4774_row7_col3\" class=\"data row7 col3\" >4.30</td>\n",
       "      <td id=\"T_d4774_row7_col4\" class=\"data row7 col4\" >3.59</td>\n",
       "      <td id=\"T_d4774_row7_col5\" class=\"data row7 col5\" >1.90</td>\n",
       "    </tr>\n",
       "    <tr>\n",
       "      <th id=\"T_d4774_level0_row8\" class=\"row_heading level0 row8\" >WiiU</th>\n",
       "      <td id=\"T_d4774_row8_col0\" class=\"data row8 col0\" >2.80</td>\n",
       "      <td id=\"T_d4774_row8_col1\" class=\"data row8 col1\" >9.10</td>\n",
       "      <td id=\"T_d4774_row8_col2\" class=\"data row8 col2\" >7.02</td>\n",
       "      <td id=\"T_d4774_row8_col3\" class=\"data row8 col3\" >7.30</td>\n",
       "      <td id=\"T_d4774_row8_col4\" class=\"data row8 col4\" >1.98</td>\n",
       "      <td id=\"T_d4774_row8_col5\" class=\"data row8 col5\" >1.41</td>\n",
       "    </tr>\n",
       "    <tr>\n",
       "      <th id=\"T_d4774_level0_row9\" class=\"row_heading level0 row9\" >X360</th>\n",
       "      <td id=\"T_d4774_row9_col0\" class=\"data row9 col0\" >0.70</td>\n",
       "      <td id=\"T_d4774_row9_col1\" class=\"data row9 col1\" >8.70</td>\n",
       "      <td id=\"T_d4774_row9_col2\" class=\"data row9 col2\" >5.99</td>\n",
       "      <td id=\"T_d4774_row9_col3\" class=\"data row9 col3\" >6.20</td>\n",
       "      <td id=\"T_d4774_row9_col4\" class=\"data row9 col4\" >2.60</td>\n",
       "      <td id=\"T_d4774_row9_col5\" class=\"data row9 col5\" >1.61</td>\n",
       "    </tr>\n",
       "    <tr>\n",
       "      <th id=\"T_d4774_level0_row10\" class=\"row_heading level0 row10\" >XOne</th>\n",
       "      <td id=\"T_d4774_row10_col0\" class=\"data row10 col0\" >1.60</td>\n",
       "      <td id=\"T_d4774_row10_col1\" class=\"data row10 col1\" >9.20</td>\n",
       "      <td id=\"T_d4774_row10_col2\" class=\"data row10 col2\" >6.52</td>\n",
       "      <td id=\"T_d4774_row10_col3\" class=\"data row10 col3\" >6.80</td>\n",
       "      <td id=\"T_d4774_row10_col4\" class=\"data row10 col4\" >1.91</td>\n",
       "      <td id=\"T_d4774_row10_col5\" class=\"data row10 col5\" >1.38</td>\n",
       "    </tr>\n",
       "  </tbody>\n",
       "</table>\n"
      ],
      "text/plain": [
       "<pandas.io.formats.style.Styler at 0x148c9e8bd90>"
      ]
     },
     "execution_count": 39,
     "metadata": {},
     "output_type": "execute_result"
    }
   ],
   "source": [
    "df_actual.pivot_table(\n",
    "    index = 'platform', \n",
    "    values='user_score',\n",
    "    aggfunc=['min', 'max', 'mean', 'median', np.var, np.std]\n",
    ").style.format('{:.2f}')"
   ]
  },
  {
   "cell_type": "markdown",
   "metadata": {},
   "source": [
    "- Сравним показатели по платформам XOne и РС. Средние оценки PC меньше. Дисперсии отличаются."
   ]
  },
  {
   "cell_type": "markdown",
   "metadata": {},
   "source": [
    "Сформулируем статистические гипотезы:\n",
    "\n",
    "- Н0: средние пользовательские рейтинги платформ XOne и РС равны;\n",
    "- Н1: средние пользовательские рейтинги платформ XOne и РС не равны (двусторонняя гипотеза)."
   ]
  },
  {
   "cell_type": "markdown",
   "metadata": {},
   "source": [
    "Для проверки гипотезы о равенстве средних пользовательских рейтингов платформ XOne и РС используем метод .ttest_ind. Зададим критический уровень статистической значимости равный 5 %."
   ]
  },
  {
   "cell_type": "code",
   "execution_count": 40,
   "metadata": {},
   "outputs": [
    {
     "name": "stdout",
     "output_type": "stream",
     "text": [
      "p-значение: 0.14759594013430463\n",
      "Не получилось отвергнуть нулевую гипотезу.\n"
     ]
    }
   ],
   "source": [
    "# зададим пороговое значение alpha, равное 5 %:\n",
    "alpha = .05\n",
    "\n",
    "# проведем t-тест на равенство средних двух выборок:\n",
    "score_mean_compare_platform = st.ttest_ind(df_actual.query('platform == \"XOne\"')['user_score'], df_actual.query('platform == \"PC\"')['user_score'], equal_var=False)\n",
    "\n",
    "# рассчитаем p-value - вероятность получить наблюдаемый или еще более далекий от предполагаемого\n",
    "# результат при условии, что Н0 верна:\n",
    "p_value_score_mean_compare_platform = score_mean_compare_platform.pvalue\n",
    "\n",
    "# выведем на экран значение p-value:\n",
    "print('p-значение:', score_mean_compare_platform.pvalue)\n",
    "\n",
    "# сравним p-value с пороговым значением alpha:\n",
    "if p_value_score_mean_compare_platform < alpha:\n",
    "    print('Отвергаем нулевую гипотезу.')\n",
    "else:\n",
    "    print('Не получилось отвергнуть нулевую гипотезу.')"
   ]
  },
  {
   "cell_type": "markdown",
   "metadata": {},
   "source": [
    "- Значение p-value равно 14,8 %. Это значит, что вероятность равенства средних пользовательских рейтингов платформ XOne и РС присутствует. Отвергнуть нулевую гипотезу не получилось."
   ]
  },
  {
   "cell_type": "markdown",
   "metadata": {},
   "source": [
    "### Сравнение рейтингов жанров"
   ]
  },
  {
   "cell_type": "markdown",
   "metadata": {},
   "source": [
    "Посчитаем среднее, медиану, дисперсию рейтингов по жанрам:"
   ]
  },
  {
   "cell_type": "code",
   "execution_count": 41,
   "metadata": {},
   "outputs": [
    {
     "data": {
      "text/html": [
       "<style type=\"text/css\">\n",
       "</style>\n",
       "<table id=\"T_78b99_\">\n",
       "  <thead>\n",
       "    <tr>\n",
       "      <th class=\"blank level0\" >&nbsp;</th>\n",
       "      <th class=\"col_heading level0 col0\" >min</th>\n",
       "      <th class=\"col_heading level0 col1\" >max</th>\n",
       "      <th class=\"col_heading level0 col2\" >mean</th>\n",
       "      <th class=\"col_heading level0 col3\" >median</th>\n",
       "      <th class=\"col_heading level0 col4\" >var</th>\n",
       "      <th class=\"col_heading level0 col5\" >std</th>\n",
       "    </tr>\n",
       "    <tr>\n",
       "      <th class=\"blank level1\" >&nbsp;</th>\n",
       "      <th class=\"col_heading level1 col0\" >user_score</th>\n",
       "      <th class=\"col_heading level1 col1\" >user_score</th>\n",
       "      <th class=\"col_heading level1 col2\" >user_score</th>\n",
       "      <th class=\"col_heading level1 col3\" >user_score</th>\n",
       "      <th class=\"col_heading level1 col4\" >user_score</th>\n",
       "      <th class=\"col_heading level1 col5\" >user_score</th>\n",
       "    </tr>\n",
       "    <tr>\n",
       "      <th class=\"index_name level0\" >genre</th>\n",
       "      <th class=\"blank col0\" >&nbsp;</th>\n",
       "      <th class=\"blank col1\" >&nbsp;</th>\n",
       "      <th class=\"blank col2\" >&nbsp;</th>\n",
       "      <th class=\"blank col3\" >&nbsp;</th>\n",
       "      <th class=\"blank col4\" >&nbsp;</th>\n",
       "      <th class=\"blank col5\" >&nbsp;</th>\n",
       "    </tr>\n",
       "  </thead>\n",
       "  <tbody>\n",
       "    <tr>\n",
       "      <th id=\"T_78b99_level0_row0\" class=\"row_heading level0 row0\" >Action</th>\n",
       "      <td id=\"T_78b99_row0_col0\" class=\"data row0 col0\" >2.00</td>\n",
       "      <td id=\"T_78b99_row0_col1\" class=\"data row0 col1\" >9.10</td>\n",
       "      <td id=\"T_78b99_row0_col2\" class=\"data row0 col2\" >6.84</td>\n",
       "      <td id=\"T_78b99_row0_col3\" class=\"data row0 col3\" >7.10</td>\n",
       "      <td id=\"T_78b99_row0_col4\" class=\"data row0 col4\" >1.77</td>\n",
       "      <td id=\"T_78b99_row0_col5\" class=\"data row0 col5\" >1.33</td>\n",
       "    </tr>\n",
       "    <tr>\n",
       "      <th id=\"T_78b99_level0_row1\" class=\"row_heading level0 row1\" >Adventure</th>\n",
       "      <td id=\"T_78b99_row1_col0\" class=\"data row1 col0\" >2.90</td>\n",
       "      <td id=\"T_78b99_row1_col1\" class=\"data row1 col1\" >9.30</td>\n",
       "      <td id=\"T_78b99_row1_col2\" class=\"data row1 col2\" >7.46</td>\n",
       "      <td id=\"T_78b99_row1_col3\" class=\"data row1 col3\" >7.50</td>\n",
       "      <td id=\"T_78b99_row1_col4\" class=\"data row1 col4\" >1.69</td>\n",
       "      <td id=\"T_78b99_row1_col5\" class=\"data row1 col5\" >1.30</td>\n",
       "    </tr>\n",
       "    <tr>\n",
       "      <th id=\"T_78b99_level0_row2\" class=\"row_heading level0 row2\" >Fighting</th>\n",
       "      <td id=\"T_78b99_row2_col0\" class=\"data row2 col0\" >2.90</td>\n",
       "      <td id=\"T_78b99_row2_col1\" class=\"data row2 col1\" >8.70</td>\n",
       "      <td id=\"T_78b99_row2_col2\" class=\"data row2 col2\" >7.04</td>\n",
       "      <td id=\"T_78b99_row2_col3\" class=\"data row2 col3\" >7.50</td>\n",
       "      <td id=\"T_78b99_row2_col4\" class=\"data row2 col4\" >1.92</td>\n",
       "      <td id=\"T_78b99_row2_col5\" class=\"data row2 col5\" >1.39</td>\n",
       "    </tr>\n",
       "    <tr>\n",
       "      <th id=\"T_78b99_level0_row3\" class=\"row_heading level0 row3\" >Misc</th>\n",
       "      <td id=\"T_78b99_row3_col0\" class=\"data row3 col0\" >4.10</td>\n",
       "      <td id=\"T_78b99_row3_col1\" class=\"data row3 col1\" >8.70</td>\n",
       "      <td id=\"T_78b99_row3_col2\" class=\"data row3 col2\" >6.97</td>\n",
       "      <td id=\"T_78b99_row3_col3\" class=\"data row3 col3\" >7.00</td>\n",
       "      <td id=\"T_78b99_row3_col4\" class=\"data row3 col4\" >1.41</td>\n",
       "      <td id=\"T_78b99_row3_col5\" class=\"data row3 col5\" >1.19</td>\n",
       "    </tr>\n",
       "    <tr>\n",
       "      <th id=\"T_78b99_level0_row4\" class=\"row_heading level0 row4\" >Platform</th>\n",
       "      <td id=\"T_78b99_row4_col0\" class=\"data row4 col0\" >2.90</td>\n",
       "      <td id=\"T_78b99_row4_col1\" class=\"data row4 col1\" >9.00</td>\n",
       "      <td id=\"T_78b99_row4_col2\" class=\"data row4 col2\" >6.71</td>\n",
       "      <td id=\"T_78b99_row4_col3\" class=\"data row4 col3\" >7.10</td>\n",
       "      <td id=\"T_78b99_row4_col4\" class=\"data row4 col4\" >2.89</td>\n",
       "      <td id=\"T_78b99_row4_col5\" class=\"data row4 col5\" >1.70</td>\n",
       "    </tr>\n",
       "    <tr>\n",
       "      <th id=\"T_78b99_level0_row5\" class=\"row_heading level0 row5\" >Puzzle</th>\n",
       "      <td id=\"T_78b99_row5_col0\" class=\"data row5 col0\" >6.20</td>\n",
       "      <td id=\"T_78b99_row5_col1\" class=\"data row5 col1\" >8.60</td>\n",
       "      <td id=\"T_78b99_row5_col2\" class=\"data row5 col2\" >7.47</td>\n",
       "      <td id=\"T_78b99_row5_col3\" class=\"data row5 col3\" >7.50</td>\n",
       "      <td id=\"T_78b99_row5_col4\" class=\"data row5 col4\" >0.89</td>\n",
       "      <td id=\"T_78b99_row5_col5\" class=\"data row5 col5\" >0.94</td>\n",
       "    </tr>\n",
       "    <tr>\n",
       "      <th id=\"T_78b99_level0_row6\" class=\"row_heading level0 row6\" >Racing</th>\n",
       "      <td id=\"T_78b99_row6_col0\" class=\"data row6 col0\" >1.00</td>\n",
       "      <td id=\"T_78b99_row6_col1\" class=\"data row6 col1\" >9.10</td>\n",
       "      <td id=\"T_78b99_row6_col2\" class=\"data row6 col2\" >6.08</td>\n",
       "      <td id=\"T_78b99_row6_col3\" class=\"data row6 col3\" >6.20</td>\n",
       "      <td id=\"T_78b99_row6_col4\" class=\"data row6 col4\" >2.99</td>\n",
       "      <td id=\"T_78b99_row6_col5\" class=\"data row6 col5\" >1.73</td>\n",
       "    </tr>\n",
       "    <tr>\n",
       "      <th id=\"T_78b99_level0_row7\" class=\"row_heading level0 row7\" >Role-Playing</th>\n",
       "      <td id=\"T_78b99_row7_col0\" class=\"data row7 col0\" >1.40</td>\n",
       "      <td id=\"T_78b99_row7_col1\" class=\"data row7 col1\" >9.30</td>\n",
       "      <td id=\"T_78b99_row7_col2\" class=\"data row7 col2\" >7.38</td>\n",
       "      <td id=\"T_78b99_row7_col3\" class=\"data row7 col3\" >7.60</td>\n",
       "      <td id=\"T_78b99_row7_col4\" class=\"data row7 col4\" >1.49</td>\n",
       "      <td id=\"T_78b99_row7_col5\" class=\"data row7 col5\" >1.22</td>\n",
       "    </tr>\n",
       "    <tr>\n",
       "      <th id=\"T_78b99_level0_row8\" class=\"row_heading level0 row8\" >Shooter</th>\n",
       "      <td id=\"T_78b99_row8_col0\" class=\"data row8 col0\" >2.60</td>\n",
       "      <td id=\"T_78b99_row8_col1\" class=\"data row8 col1\" >8.90</td>\n",
       "      <td id=\"T_78b99_row8_col2\" class=\"data row8 col2\" >6.34</td>\n",
       "      <td id=\"T_78b99_row8_col3\" class=\"data row8 col3\" >6.55</td>\n",
       "      <td id=\"T_78b99_row8_col4\" class=\"data row8 col4\" >2.17</td>\n",
       "      <td id=\"T_78b99_row8_col5\" class=\"data row8 col5\" >1.47</td>\n",
       "    </tr>\n",
       "    <tr>\n",
       "      <th id=\"T_78b99_level0_row9\" class=\"row_heading level0 row9\" >Simulation</th>\n",
       "      <td id=\"T_78b99_row9_col0\" class=\"data row9 col0\" >2.20</td>\n",
       "      <td id=\"T_78b99_row9_col1\" class=\"data row9 col1\" >8.90</td>\n",
       "      <td id=\"T_78b99_row9_col2\" class=\"data row9 col2\" >6.05</td>\n",
       "      <td id=\"T_78b99_row9_col3\" class=\"data row9 col3\" >6.80</td>\n",
       "      <td id=\"T_78b99_row9_col4\" class=\"data row9 col4\" >3.35</td>\n",
       "      <td id=\"T_78b99_row9_col5\" class=\"data row9 col5\" >1.83</td>\n",
       "    </tr>\n",
       "    <tr>\n",
       "      <th id=\"T_78b99_level0_row10\" class=\"row_heading level0 row10\" >Sports</th>\n",
       "      <td id=\"T_78b99_row10_col0\" class=\"data row10 col0\" >0.20</td>\n",
       "      <td id=\"T_78b99_row10_col1\" class=\"data row10 col1\" >8.80</td>\n",
       "      <td id=\"T_78b99_row10_col2\" class=\"data row10 col2\" >5.24</td>\n",
       "      <td id=\"T_78b99_row10_col3\" class=\"data row10 col3\" >5.50</td>\n",
       "      <td id=\"T_78b99_row10_col4\" class=\"data row10 col4\" >3.18</td>\n",
       "      <td id=\"T_78b99_row10_col5\" class=\"data row10 col5\" >1.78</td>\n",
       "    </tr>\n",
       "    <tr>\n",
       "      <th id=\"T_78b99_level0_row11\" class=\"row_heading level0 row11\" >Strategy</th>\n",
       "      <td id=\"T_78b99_row11_col0\" class=\"data row11 col0\" >2.00</td>\n",
       "      <td id=\"T_78b99_row11_col1\" class=\"data row11 col1\" >8.70</td>\n",
       "      <td id=\"T_78b99_row11_col2\" class=\"data row11 col2\" >6.18</td>\n",
       "      <td id=\"T_78b99_row11_col3\" class=\"data row11 col3\" >7.10</td>\n",
       "      <td id=\"T_78b99_row11_col4\" class=\"data row11 col4\" >4.35</td>\n",
       "      <td id=\"T_78b99_row11_col5\" class=\"data row11 col5\" >2.09</td>\n",
       "    </tr>\n",
       "  </tbody>\n",
       "</table>\n"
      ],
      "text/plain": [
       "<pandas.io.formats.style.Styler at 0x148c9f3d730>"
      ]
     },
     "execution_count": 41,
     "metadata": {},
     "output_type": "execute_result"
    }
   ],
   "source": [
    "df_actual.pivot_table(\n",
    "    index = 'genre', \n",
    "    values='user_score',\n",
    "    aggfunc=['min', 'max', 'mean', 'median', np.var, np.std]\n",
    ").style.format('{:.2f}')"
   ]
  },
  {
   "cell_type": "markdown",
   "metadata": {},
   "source": [
    "Сравним показатели по жанрам Action и Sports. Средние оценки и медиана у жанра Sports меньше. Дисперсии у этих жанров отличаются."
   ]
  },
  {
   "cell_type": "markdown",
   "metadata": {},
   "source": [
    "Сформулируем статистические гипотезы:\n",
    "\n",
    "- Н0: средние пользовательские рейтинги жанров Action и Sports равны;\n",
    "- Н1: средние пользовательские рейтинги жанров Action и Sports не равны; (двусторонняя гипотеза)."
   ]
  },
  {
   "cell_type": "markdown",
   "metadata": {},
   "source": [
    "Для проверки гипотезы о равенстве средних пользовательских рейтингов жанров Action и Sports используем метод .ttest_ind. Зададим критический уровень статистической значимости равный 5 %."
   ]
  },
  {
   "cell_type": "code",
   "execution_count": 42,
   "metadata": {},
   "outputs": [
    {
     "name": "stdout",
     "output_type": "stream",
     "text": [
      "p-значение: 0.00000000000000000001\n",
      "Отвергаем нулевую гипотезу.\n"
     ]
    }
   ],
   "source": [
    "# зададим пороговое значение alpha, равное 5 %:\n",
    "alpha = .05\n",
    "\n",
    "# проведем t-тест на равенство средних двух выборок:\n",
    "score_mean_compare_genre = st.ttest_ind(df_actual.query('genre == \"Action\"')['user_score'], df_actual.query('genre == \"Sports\"')['user_score'], equal_var=False)\n",
    "\n",
    "# рассчитаем p-value - вероятность получить наблюдаемый или еще более далекий от предполагаемого\n",
    "# результат при условии, что Н0 верна:\n",
    "p_value_score_mean_compare_genre = score_mean_compare_genre.pvalue\n",
    "\n",
    "# выведем на экран значение p-value:\n",
    "print('p-значение:', '{:.20f}'.format(float(p_value_score_mean_compare_genre)))\n",
    "\n",
    "# сравним p-value с пороговым значением alpha:\n",
    "if p_value_score_mean_compare_genre < alpha:\n",
    "    print('Отвергаем нулевую гипотезу.')\n",
    "else:\n",
    "    print('Не получилось отвергнуть нулевую гипотезу.')"
   ]
  },
  {
   "cell_type": "markdown",
   "metadata": {},
   "source": [
    "- По значению p-value видим, что вероятность равенства средних пользовательских рейтингов жанров Action и Sports критически мала. Нулевую гипотезу отвергаем и принимаем альтернативную гипотезу, а именно: \"cредние пользовательские рейтинги жанров Action и Sports не равны\"."
   ]
  },
  {
   "cell_type": "markdown",
   "metadata": {},
   "source": [
    "**Выводы:**\n",
    "\n",
    "На данном этапе мы исследовали две гипотезы:\n",
    "\n",
    "- средние пользовательские рейтинги платформ XOne и РС одинаковые;\n",
    "- средние пользовательские рейтинги жанров Action и Sports разные.\n",
    "Для каждой исследовательской гипотезы мы сформулировали по две статистические гипотезы: нулевую и альтернативную.\n",
    "\n",
    "Для проверки гипотез мы использовали метод .ttest_ind. Так как дисперсии у выборок разные, в параметрах указали equal_var=False. Задали критический уровень статистической значимости (alpha) равный 5 %. Рассчитали p-value - вероятность получить наблюдаемый или еще более далекий от предполагаемого результат при условии, что Н0 верна. Сравнили p-value со значением alpha.\n",
    "\n",
    "Сделали следующие выводы:\n",
    "\n",
    "- гипотезу о равенстве средних пользовательских рейтингов платформ XOne и РС отвергнуть не получилось, так как значение p-value равно 14,8%;\n",
    "- гипотезу о равенстве средних пользовательских рейтингов жанров Action и Sports мы отвергли, так как значение p-value близко к 0."
   ]
  },
  {
   "cell_type": "markdown",
   "metadata": {},
   "source": [
    "## Общий вывод"
   ]
  },
  {
   "cell_type": "markdown",
   "metadata": {},
   "source": [
    "В процессе работы перед нами стояла задача изучить данные о продажах игр и выявить определяющие успешность игры закономерности, что позволило бы сделать ставку на потенциально популярный продукт и спланировать рекламные компании.\n",
    "\n",
    "На этапе подготовки данных мы исправили обнаруженные в них ошибки и недочеты, сделали дополнительные расчеты.\n",
    "1. Привели названия столбцов к нижнему регистру в соответствии с хорошим стилем;\n",
    "2. Обработали пропуски в данных, а также исправили типы данных в некоторых столбцах.\n",
    "- Строки с пропусками в столбце year_of_release  (год выпуска игры) удалили без риска исказить результаты исследования, так как пропуски составляли лишь 1,6 % от общего объема данных. Значения в столбце привели к типу данных \"int\".\n",
    "- Удалили строки с пропусками в названиях жанров (их всего два).\n",
    "- Пропуски в оценках критиков и пользователей оставили без изменений, так как скорее всего оценки просто отсутствуют.\n",
    "- В столбце с оценками пользователей аббревиатуру \"tbd\" - \"подлежит определению\" - заменили на \"NaN\" и привели значения к типу данных \"float64\".\n",
    "- В столбце с возрастными рейтингами пропуски заменили на значение \"нет_рейтинга\".\n",
    "3. Добавили столбец с суммарными продажами во всех регионах.\n",
    "\n",
    "\n",
    "В ходе исследовательского анализа данных мы изучили данные о продажах игр с 1980 по 2016 годы.\n",
    "\n",
    "Отметили следующие моменты:\n",
    "- до 1995 года игр выпускалось очень мало и продажи были невелики. С 1995 года наблюдается рост производства игр и рост продаж. Последние годы наблюдается тенденция к снижению количества выпускаемых игр и объема продаж, соответственно;\n",
    "- все платформы имеют определенный \"срок жизни\": они появляются, достигают своего максимума по продажам и со временем исчезают с рынка;\n",
    "- топовые платформы живут в среднем 9,7 лет, что почти на 3 года дольше по сравнению с остальными платформами. На основе этого выделили актуальный для исследования период в 4 года лет (с 2013 по 2016 годы), который и использовали для дальнейшего анализа.\n",
    "\n",
    "\n",
    "Чтобы выбрать потенциально прибыльные платформы, изучили, какие платформы лидируют по продажам, растут они или падают. Исследовали распределение игр по жанрам. Составили портрет пользователей по регионам.\n",
    "\n",
    "Сделали следующие выводы:\n",
    "- по суммарным продажам лидируют платформы: PS4, PS3, XOne. Однако у платформы PS3 действительно наблюдается падение продаж на протяжении последних 4-х лет, и в 2016 году продажи не достигают 5 миллионов копий. Можно считать, что данная платформа уже заканчивает свой срок существования.\n",
    "- платформы PS4 и XOne находятся на рынке сравнительно недавно - около 4-х лет. Они же находятся в лидерах по продажам в 2016 году. Именно эти платформы можно оценить потенциально прибыльными на 2017 год;\n",
    "- игры на компьютеры имеют постоянные, хоть и сравнительно не очень большие продажи, начиная с 1994 года. На них тоже следует обратить внимание;\n",
    "- изучив влияние отзывов на продажи выбранных нами перспективных платформ, мы отметили умеренную связь между оценками критиков и продажами. Между оценками пользователей и продажами связь практически отсутствует;\n",
    "- по количеству выпущенных игр лидируют жанры: Action (с большим отрывом от других жанров), Role-Playing, Adventure. Наиболее прибыльные жанры - Shooter, Sports, Misc. Наименее - Adventure, Puzzle, Simulation.\n",
    "- предпочтения пользователей Японии по платформам отличаются от пользователей Северной Америки и Европы. Тем не менее, платформы PS4, 3DS и PS3 присутствуют в топовом рейтинге во всех трех регионах;\n",
    "- самые прибыльные жанры в Северной Америке и Европе - Shooter, Platform, Racing, Sports. В Японии набор отличается - Role-Playing, Fighting, Misc;\n",
    "- наиболее продаваемые в Северной Америке и Европе - игры с рейтингом М (\"для взрослых\"). В Японии игры для подростков находятся на втором месте по продажам после игр без рейтинга.\n",
    "\n",
    "Исследовали две гипотезы:\n",
    "- средние пользовательские рейтинги платформ XOne и РС одинаковые;\n",
    "- средние пользовательские рейтинги жанров Action и Sports разные.\n",
    "\n",
    "Для каждой исследовательской гипотезы мы сформулировали по две статистические гипотезы: нулевую и альтернативную.\n",
    "\n",
    "В результате исследования гипотез:\n",
    "- гипотезу о равенстве средних пользовательских рейтингов платформ XOne и РС отвергнуть не получилось, так как значение p-value равно 14,8%;\n",
    "- гипотезу о равенстве средних пользовательских рейтингов жанров Action и Sports мы отвергли, так как значение p-value близко к 0."
   ]
  }
 ],
 "metadata": {
  "ExecuteTimeLog": [
   {
    "duration": 767,
    "start_time": "2022-01-17T16:53:30.602Z"
   },
   {
    "duration": 100,
    "start_time": "2022-01-17T16:54:46.181Z"
   },
   {
    "duration": 62,
    "start_time": "2022-01-17T16:59:06.685Z"
   },
   {
    "duration": 14,
    "start_time": "2022-01-17T16:59:25.694Z"
   },
   {
    "duration": 18,
    "start_time": "2022-01-17T17:06:49.129Z"
   },
   {
    "duration": 20,
    "start_time": "2022-01-17T17:21:12.016Z"
   },
   {
    "duration": 15,
    "start_time": "2022-01-17T17:21:19.269Z"
   },
   {
    "duration": 407,
    "start_time": "2022-01-17T17:27:58.294Z"
   },
   {
    "duration": 19,
    "start_time": "2022-01-17T17:46:06.411Z"
   },
   {
    "duration": 325,
    "start_time": "2022-01-17T17:51:32.177Z"
   },
   {
    "duration": 28,
    "start_time": "2022-01-17T17:51:50.822Z"
   },
   {
    "duration": 18,
    "start_time": "2022-01-17T17:52:56.152Z"
   },
   {
    "duration": 16,
    "start_time": "2022-01-17T17:59:41.226Z"
   },
   {
    "duration": 732,
    "start_time": "2022-01-17T18:11:06.057Z"
   },
   {
    "duration": 4,
    "start_time": "2022-01-17T18:11:27.703Z"
   },
   {
    "duration": 334,
    "start_time": "2022-01-17T18:11:34.240Z"
   },
   {
    "duration": 308,
    "start_time": "2022-01-17T19:07:02.588Z"
   },
   {
    "duration": 691,
    "start_time": "2022-01-17T19:09:38.224Z"
   },
   {
    "duration": 937,
    "start_time": "2022-01-17T19:15:16.505Z"
   },
   {
    "duration": 11,
    "start_time": "2022-01-17T19:27:16.975Z"
   },
   {
    "duration": 11,
    "start_time": "2022-01-17T19:27:21.420Z"
   },
   {
    "duration": 9,
    "start_time": "2022-01-17T19:27:25.222Z"
   },
   {
    "duration": 10,
    "start_time": "2022-01-17T19:27:31.221Z"
   },
   {
    "duration": 13,
    "start_time": "2022-01-17T19:27:37.983Z"
   },
   {
    "duration": 10,
    "start_time": "2022-01-17T19:27:40.701Z"
   },
   {
    "duration": 11,
    "start_time": "2022-01-17T19:27:43.798Z"
   },
   {
    "duration": 509,
    "start_time": "2022-01-17T19:28:24.752Z"
   },
   {
    "duration": 23,
    "start_time": "2022-01-17T19:31:26.490Z"
   },
   {
    "duration": 14,
    "start_time": "2022-01-17T19:32:50.440Z"
   },
   {
    "duration": 4,
    "start_time": "2022-01-17T19:33:01.054Z"
   },
   {
    "duration": 80,
    "start_time": "2022-01-17T19:33:01.060Z"
   },
   {
    "duration": 14,
    "start_time": "2022-01-17T19:33:01.144Z"
   },
   {
    "duration": 22,
    "start_time": "2022-01-17T19:33:01.161Z"
   },
   {
    "duration": 17,
    "start_time": "2022-01-17T19:33:01.185Z"
   },
   {
    "duration": 29,
    "start_time": "2022-01-17T19:33:01.205Z"
   },
   {
    "duration": 26,
    "start_time": "2022-01-17T19:33:08.836Z"
   },
   {
    "duration": 19,
    "start_time": "2022-01-17T19:39:27.284Z"
   },
   {
    "duration": 376,
    "start_time": "2022-01-17T19:41:55.660Z"
   },
   {
    "duration": 4,
    "start_time": "2022-01-17T19:42:08.913Z"
   },
   {
    "duration": 61,
    "start_time": "2022-01-17T19:42:08.919Z"
   },
   {
    "duration": 14,
    "start_time": "2022-01-17T19:42:08.982Z"
   },
   {
    "duration": 12,
    "start_time": "2022-01-17T19:42:08.999Z"
   },
   {
    "duration": 14,
    "start_time": "2022-01-17T19:42:09.014Z"
   },
   {
    "duration": 19,
    "start_time": "2022-01-17T19:42:09.070Z"
   },
   {
    "duration": 18,
    "start_time": "2022-01-17T19:42:09.092Z"
   },
   {
    "duration": 56,
    "start_time": "2022-01-17T19:42:09.113Z"
   },
   {
    "duration": 654,
    "start_time": "2022-01-17T19:42:09.172Z"
   },
   {
    "duration": 344,
    "start_time": "2022-01-17T19:42:12.696Z"
   },
   {
    "duration": 20,
    "start_time": "2022-01-17T19:43:26.090Z"
   },
   {
    "duration": 323,
    "start_time": "2022-01-17T19:44:08.387Z"
   },
   {
    "duration": 5,
    "start_time": "2022-01-17T19:46:32.952Z"
   },
   {
    "duration": 16,
    "start_time": "2022-01-17T19:46:44.109Z"
   },
   {
    "duration": 4,
    "start_time": "2022-01-17T19:46:55.415Z"
   },
   {
    "duration": 78,
    "start_time": "2022-01-17T19:46:55.422Z"
   },
   {
    "duration": 19,
    "start_time": "2022-01-17T19:46:55.504Z"
   },
   {
    "duration": 16,
    "start_time": "2022-01-17T19:46:55.527Z"
   },
   {
    "duration": 16,
    "start_time": "2022-01-17T19:46:55.570Z"
   },
   {
    "duration": 352,
    "start_time": "2022-01-17T19:46:58.969Z"
   },
   {
    "duration": 1249,
    "start_time": "2022-01-17T19:48:52.574Z"
   },
   {
    "duration": 406,
    "start_time": "2022-01-17T19:51:31.210Z"
   },
   {
    "duration": 333,
    "start_time": "2022-01-17T19:52:01.214Z"
   },
   {
    "duration": 34,
    "start_time": "2022-01-17T19:52:55.692Z"
   },
   {
    "duration": 4,
    "start_time": "2022-01-17T19:53:03.486Z"
   },
   {
    "duration": 92,
    "start_time": "2022-01-17T19:53:03.493Z"
   },
   {
    "duration": 13,
    "start_time": "2022-01-17T19:53:03.589Z"
   },
   {
    "duration": 15,
    "start_time": "2022-01-17T19:53:03.605Z"
   },
   {
    "duration": 14,
    "start_time": "2022-01-17T19:53:03.623Z"
   },
   {
    "duration": 1473,
    "start_time": "2022-01-17T19:53:03.670Z"
   },
   {
    "duration": 19,
    "start_time": "2022-01-17T19:53:05.127Z"
   },
   {
    "duration": 16,
    "start_time": "2022-01-17T19:53:05.131Z"
   },
   {
    "duration": 16,
    "start_time": "2022-01-17T19:53:05.133Z"
   },
   {
    "duration": 15,
    "start_time": "2022-01-17T19:53:05.135Z"
   },
   {
    "duration": 15,
    "start_time": "2022-01-17T19:53:05.137Z"
   },
   {
    "duration": 4,
    "start_time": "2022-01-17T19:53:25.013Z"
   },
   {
    "duration": 65,
    "start_time": "2022-01-17T19:53:25.020Z"
   },
   {
    "duration": 14,
    "start_time": "2022-01-17T19:53:25.088Z"
   },
   {
    "duration": 18,
    "start_time": "2022-01-17T19:53:25.106Z"
   },
   {
    "duration": 45,
    "start_time": "2022-01-17T19:53:25.127Z"
   },
   {
    "duration": 1326,
    "start_time": "2022-01-17T19:53:25.175Z"
   },
   {
    "duration": 11,
    "start_time": "2022-01-17T19:53:26.493Z"
   },
   {
    "duration": 10,
    "start_time": "2022-01-17T19:53:26.495Z"
   },
   {
    "duration": 8,
    "start_time": "2022-01-17T19:53:26.498Z"
   },
   {
    "duration": 7,
    "start_time": "2022-01-17T19:53:26.501Z"
   },
   {
    "duration": 5,
    "start_time": "2022-01-17T19:53:26.504Z"
   },
   {
    "duration": 3,
    "start_time": "2022-01-17T19:53:34.565Z"
   },
   {
    "duration": 60,
    "start_time": "2022-01-17T19:53:34.571Z"
   },
   {
    "duration": 36,
    "start_time": "2022-01-17T19:53:34.635Z"
   },
   {
    "duration": 19,
    "start_time": "2022-01-17T19:53:34.674Z"
   },
   {
    "duration": 20,
    "start_time": "2022-01-17T19:53:34.696Z"
   },
   {
    "duration": 1536,
    "start_time": "2022-01-17T19:53:34.719Z"
   },
   {
    "duration": 17,
    "start_time": "2022-01-17T19:53:36.241Z"
   },
   {
    "duration": 17,
    "start_time": "2022-01-17T19:53:36.243Z"
   },
   {
    "duration": 16,
    "start_time": "2022-01-17T19:53:36.245Z"
   },
   {
    "duration": 16,
    "start_time": "2022-01-17T19:53:36.247Z"
   },
   {
    "duration": 15,
    "start_time": "2022-01-17T19:53:36.250Z"
   },
   {
    "duration": 23,
    "start_time": "2022-01-17T19:53:42.004Z"
   },
   {
    "duration": 4,
    "start_time": "2022-01-17T19:54:02.937Z"
   },
   {
    "duration": 65,
    "start_time": "2022-01-17T19:54:02.944Z"
   },
   {
    "duration": 14,
    "start_time": "2022-01-17T19:54:03.011Z"
   },
   {
    "duration": 13,
    "start_time": "2022-01-17T19:54:03.028Z"
   },
   {
    "duration": 45,
    "start_time": "2022-01-17T19:54:03.044Z"
   },
   {
    "duration": 20,
    "start_time": "2022-01-17T19:54:03.091Z"
   },
   {
    "duration": 18,
    "start_time": "2022-01-17T19:54:03.113Z"
   },
   {
    "duration": 20,
    "start_time": "2022-01-17T19:54:03.170Z"
   },
   {
    "duration": 647,
    "start_time": "2022-01-17T19:54:03.193Z"
   },
   {
    "duration": 32,
    "start_time": "2022-01-17T19:54:03.843Z"
   },
   {
    "duration": 12,
    "start_time": "2022-01-17T19:55:06.421Z"
   },
   {
    "duration": 12,
    "start_time": "2022-01-17T19:55:52.330Z"
   },
   {
    "duration": 18,
    "start_time": "2022-01-17T19:56:27.797Z"
   },
   {
    "duration": 32,
    "start_time": "2022-01-17T19:57:14.058Z"
   },
   {
    "duration": 34,
    "start_time": "2022-01-17T19:57:34.843Z"
   },
   {
    "duration": 12,
    "start_time": "2022-01-17T20:07:39.666Z"
   },
   {
    "duration": 11,
    "start_time": "2022-01-17T20:07:55.907Z"
   },
   {
    "duration": 1287,
    "start_time": "2022-01-17T20:17:26.594Z"
   },
   {
    "duration": 1519,
    "start_time": "2022-01-17T20:18:35.409Z"
   },
   {
    "duration": 4,
    "start_time": "2022-01-17T20:18:41.368Z"
   },
   {
    "duration": 69,
    "start_time": "2022-01-17T20:18:41.375Z"
   },
   {
    "duration": 23,
    "start_time": "2022-01-17T20:18:41.448Z"
   },
   {
    "duration": 14,
    "start_time": "2022-01-17T20:18:41.475Z"
   },
   {
    "duration": 16,
    "start_time": "2022-01-17T20:18:41.492Z"
   },
   {
    "duration": 64,
    "start_time": "2022-01-17T20:18:41.511Z"
   },
   {
    "duration": 27,
    "start_time": "2022-01-17T20:18:41.578Z"
   },
   {
    "duration": 21,
    "start_time": "2022-01-17T20:18:41.608Z"
   },
   {
    "duration": 686,
    "start_time": "2022-01-17T20:18:41.632Z"
   },
   {
    "duration": 12,
    "start_time": "2022-01-17T20:18:42.321Z"
   },
   {
    "duration": 40,
    "start_time": "2022-01-17T20:18:42.336Z"
   },
   {
    "duration": 401,
    "start_time": "2022-01-17T20:18:44.743Z"
   },
   {
    "duration": 319,
    "start_time": "2022-01-17T20:19:05.748Z"
   },
   {
    "duration": 299,
    "start_time": "2022-01-17T20:19:46.524Z"
   },
   {
    "duration": 12,
    "start_time": "2022-01-17T20:33:48.291Z"
   },
   {
    "duration": 25,
    "start_time": "2022-01-17T20:33:57.304Z"
   },
   {
    "duration": 5,
    "start_time": "2022-01-17T20:34:48.963Z"
   },
   {
    "duration": 22,
    "start_time": "2022-01-17T20:34:54.491Z"
   },
   {
    "duration": 29,
    "start_time": "2022-01-17T20:35:09.907Z"
   },
   {
    "duration": 4,
    "start_time": "2022-01-17T20:35:24.780Z"
   },
   {
    "duration": 62,
    "start_time": "2022-01-17T20:35:24.787Z"
   },
   {
    "duration": 18,
    "start_time": "2022-01-17T20:35:24.852Z"
   },
   {
    "duration": 12,
    "start_time": "2022-01-17T20:35:24.872Z"
   },
   {
    "duration": 13,
    "start_time": "2022-01-17T20:35:24.887Z"
   },
   {
    "duration": 19,
    "start_time": "2022-01-17T20:35:24.902Z"
   },
   {
    "duration": 61,
    "start_time": "2022-01-17T20:35:24.924Z"
   },
   {
    "duration": 22,
    "start_time": "2022-01-17T20:35:24.989Z"
   },
   {
    "duration": 730,
    "start_time": "2022-01-17T20:35:25.014Z"
   },
   {
    "duration": 25,
    "start_time": "2022-01-17T20:35:25.747Z"
   },
   {
    "duration": 14,
    "start_time": "2022-01-17T20:35:25.775Z"
   },
   {
    "duration": 20,
    "start_time": "2022-01-17T20:35:25.792Z"
   },
   {
    "duration": 20,
    "start_time": "2022-01-17T20:37:42.134Z"
   },
   {
    "duration": 24,
    "start_time": "2022-01-17T20:42:00.982Z"
   },
   {
    "duration": 13,
    "start_time": "2022-01-17T20:42:46.991Z"
   },
   {
    "duration": 12,
    "start_time": "2022-01-17T20:43:09.697Z"
   },
   {
    "duration": 10,
    "start_time": "2022-01-17T20:43:23.225Z"
   },
   {
    "duration": 229,
    "start_time": "2022-01-18T17:11:40.441Z"
   },
   {
    "duration": 629,
    "start_time": "2022-01-18T17:11:52.699Z"
   },
   {
    "duration": 51,
    "start_time": "2022-01-18T17:11:53.330Z"
   },
   {
    "duration": 11,
    "start_time": "2022-01-18T17:11:53.384Z"
   },
   {
    "duration": 11,
    "start_time": "2022-01-18T17:11:53.397Z"
   },
   {
    "duration": 31,
    "start_time": "2022-01-18T17:11:53.410Z"
   },
   {
    "duration": 16,
    "start_time": "2022-01-18T17:11:56.504Z"
   },
   {
    "duration": 5058,
    "start_time": "2022-01-18T17:12:57.396Z"
   },
   {
    "duration": 13,
    "start_time": "2022-01-18T17:13:08.460Z"
   },
   {
    "duration": 10,
    "start_time": "2022-01-18T17:13:42.493Z"
   },
   {
    "duration": 3,
    "start_time": "2022-01-18T17:13:58.759Z"
   },
   {
    "duration": 49,
    "start_time": "2022-01-18T17:13:58.764Z"
   },
   {
    "duration": 10,
    "start_time": "2022-01-18T17:13:58.816Z"
   },
   {
    "duration": 9,
    "start_time": "2022-01-18T17:13:58.829Z"
   },
   {
    "duration": 10,
    "start_time": "2022-01-18T17:13:58.840Z"
   },
   {
    "duration": 7,
    "start_time": "2022-01-18T17:13:58.852Z"
   },
   {
    "duration": 11,
    "start_time": "2022-01-18T17:13:58.861Z"
   },
   {
    "duration": 7,
    "start_time": "2022-01-18T17:13:58.875Z"
   },
   {
    "duration": 393,
    "start_time": "2022-01-18T17:13:58.884Z"
   },
   {
    "duration": 8,
    "start_time": "2022-01-18T17:13:59.279Z"
   },
   {
    "duration": 11,
    "start_time": "2022-01-18T17:13:59.288Z"
   },
   {
    "duration": 23,
    "start_time": "2022-01-18T17:13:59.300Z"
   },
   {
    "duration": 22,
    "start_time": "2022-01-18T17:13:59.325Z"
   },
   {
    "duration": 14,
    "start_time": "2022-01-18T17:16:43.291Z"
   },
   {
    "duration": 64,
    "start_time": "2022-01-18T17:53:05.633Z"
   },
   {
    "duration": 7,
    "start_time": "2022-01-18T17:56:57.431Z"
   },
   {
    "duration": 633,
    "start_time": "2022-01-19T17:32:55.209Z"
   },
   {
    "duration": 46,
    "start_time": "2022-01-19T17:32:55.844Z"
   },
   {
    "duration": 8,
    "start_time": "2022-01-19T17:32:55.892Z"
   },
   {
    "duration": 14,
    "start_time": "2022-01-19T17:32:55.902Z"
   },
   {
    "duration": 25,
    "start_time": "2022-01-19T17:32:55.917Z"
   },
   {
    "duration": 17,
    "start_time": "2022-01-19T17:32:55.943Z"
   },
   {
    "duration": 32,
    "start_time": "2022-01-19T17:32:55.962Z"
   },
   {
    "duration": 9,
    "start_time": "2022-01-19T17:32:55.997Z"
   },
   {
    "duration": 390,
    "start_time": "2022-01-19T17:32:56.008Z"
   },
   {
    "duration": 7,
    "start_time": "2022-01-19T17:32:56.400Z"
   },
   {
    "duration": 20,
    "start_time": "2022-01-19T17:32:56.409Z"
   },
   {
    "duration": 11,
    "start_time": "2022-01-19T17:32:56.431Z"
   },
   {
    "duration": 9,
    "start_time": "2022-01-19T17:32:56.444Z"
   },
   {
    "duration": 17,
    "start_time": "2022-01-19T17:32:56.455Z"
   },
   {
    "duration": 8872,
    "start_time": "2022-01-19T17:33:02.294Z"
   },
   {
    "duration": 6,
    "start_time": "2022-01-19T17:34:56.401Z"
   },
   {
    "duration": 213,
    "start_time": "2022-01-19T17:35:25.277Z"
   },
   {
    "duration": 216,
    "start_time": "2022-01-19T17:36:30.069Z"
   },
   {
    "duration": 209,
    "start_time": "2022-01-19T17:36:38.509Z"
   },
   {
    "duration": 5,
    "start_time": "2022-01-19T17:41:12.669Z"
   },
   {
    "duration": 5,
    "start_time": "2022-01-19T17:41:38.741Z"
   },
   {
    "duration": 5,
    "start_time": "2022-01-19T17:46:41.137Z"
   },
   {
    "duration": 17,
    "start_time": "2022-01-19T17:57:16.398Z"
   },
   {
    "duration": 20,
    "start_time": "2022-01-19T17:57:41.223Z"
   },
   {
    "duration": 15,
    "start_time": "2022-01-19T17:58:42.638Z"
   },
   {
    "duration": 294,
    "start_time": "2022-01-19T18:02:31.078Z"
   },
   {
    "duration": 284,
    "start_time": "2022-01-19T18:03:30.378Z"
   },
   {
    "duration": 15,
    "start_time": "2022-01-19T18:14:13.020Z"
   },
   {
    "duration": 276,
    "start_time": "2022-01-19T18:14:34.543Z"
   },
   {
    "duration": 408,
    "start_time": "2022-01-19T18:14:47.790Z"
   },
   {
    "duration": 466,
    "start_time": "2022-01-19T18:15:11.054Z"
   },
   {
    "duration": 484,
    "start_time": "2022-01-19T18:27:32.194Z"
   },
   {
    "duration": 558,
    "start_time": "2022-01-19T18:27:53.706Z"
   },
   {
    "duration": 13,
    "start_time": "2022-01-19T19:16:41.263Z"
   },
   {
    "duration": 291,
    "start_time": "2022-01-19T19:16:57.809Z"
   },
   {
    "duration": 13,
    "start_time": "2022-01-19T19:17:18.216Z"
   },
   {
    "duration": 14,
    "start_time": "2022-01-19T19:17:28.631Z"
   },
   {
    "duration": 13,
    "start_time": "2022-01-19T19:18:06.274Z"
   },
   {
    "duration": 13,
    "start_time": "2022-01-19T19:18:15.165Z"
   },
   {
    "duration": 13,
    "start_time": "2022-01-19T19:18:53.196Z"
   },
   {
    "duration": 13,
    "start_time": "2022-01-19T19:19:43.365Z"
   },
   {
    "duration": 13,
    "start_time": "2022-01-19T19:20:33.510Z"
   },
   {
    "duration": 14,
    "start_time": "2022-01-19T19:22:00.727Z"
   },
   {
    "duration": 276,
    "start_time": "2022-01-19T19:27:04.151Z"
   },
   {
    "duration": 10,
    "start_time": "2022-01-19T19:28:47.812Z"
   },
   {
    "duration": 13,
    "start_time": "2022-01-19T19:28:57.916Z"
   },
   {
    "duration": 12,
    "start_time": "2022-01-19T19:31:39.360Z"
   },
   {
    "duration": 424,
    "start_time": "2022-01-19T19:34:24.989Z"
   },
   {
    "duration": 315,
    "start_time": "2022-01-19T19:35:55.119Z"
   },
   {
    "duration": 249,
    "start_time": "2022-01-19T19:36:29.257Z"
   },
   {
    "duration": 122,
    "start_time": "2022-01-19T19:37:33.875Z"
   },
   {
    "duration": 110,
    "start_time": "2022-01-19T19:38:16.947Z"
   },
   {
    "duration": 101,
    "start_time": "2022-01-19T19:39:11.110Z"
   },
   {
    "duration": 253,
    "start_time": "2022-01-19T19:39:28.157Z"
   },
   {
    "duration": 14,
    "start_time": "2022-01-19T19:40:16.759Z"
   },
   {
    "duration": 281,
    "start_time": "2022-01-19T19:40:19.046Z"
   },
   {
    "duration": 13,
    "start_time": "2022-01-19T19:40:29.592Z"
   },
   {
    "duration": 255,
    "start_time": "2022-01-19T19:40:34.024Z"
   },
   {
    "duration": 13,
    "start_time": "2022-01-19T19:40:43.344Z"
   },
   {
    "duration": 258,
    "start_time": "2022-01-19T19:40:50.664Z"
   },
   {
    "duration": -141,
    "start_time": "2022-01-19T19:53:00.409Z"
   },
   {
    "duration": 11,
    "start_time": "2022-01-19T19:53:41.750Z"
   },
   {
    "duration": 8,
    "start_time": "2022-01-19T19:55:28.882Z"
   },
   {
    "duration": 307,
    "start_time": "2022-01-19T20:21:31.039Z"
   },
   {
    "duration": 6925,
    "start_time": "2022-01-19T20:22:05.154Z"
   },
   {
    "duration": 3,
    "start_time": "2022-01-19T20:22:17.485Z"
   },
   {
    "duration": 45,
    "start_time": "2022-01-19T20:22:17.489Z"
   },
   {
    "duration": 8,
    "start_time": "2022-01-19T20:22:17.536Z"
   },
   {
    "duration": 9,
    "start_time": "2022-01-19T20:22:17.546Z"
   },
   {
    "duration": 8,
    "start_time": "2022-01-19T20:22:17.556Z"
   },
   {
    "duration": 8,
    "start_time": "2022-01-19T20:22:17.566Z"
   },
   {
    "duration": 10,
    "start_time": "2022-01-19T20:22:17.576Z"
   },
   {
    "duration": 6,
    "start_time": "2022-01-19T20:22:17.588Z"
   },
   {
    "duration": 383,
    "start_time": "2022-01-19T20:22:17.596Z"
   },
   {
    "duration": 8,
    "start_time": "2022-01-19T20:22:17.980Z"
   },
   {
    "duration": 7,
    "start_time": "2022-01-19T20:22:17.989Z"
   },
   {
    "duration": 32,
    "start_time": "2022-01-19T20:22:17.998Z"
   },
   {
    "duration": 8,
    "start_time": "2022-01-19T20:22:18.032Z"
   },
   {
    "duration": 12,
    "start_time": "2022-01-19T20:22:18.042Z"
   },
   {
    "duration": 13,
    "start_time": "2022-01-19T20:22:18.056Z"
   },
   {
    "duration": 5,
    "start_time": "2022-01-19T20:22:18.070Z"
   },
   {
    "duration": 239,
    "start_time": "2022-01-19T20:22:18.077Z"
   },
   {
    "duration": 570,
    "start_time": "2022-01-19T20:22:18.317Z"
   },
   {
    "duration": 15,
    "start_time": "2022-01-19T20:22:18.890Z"
   },
   {
    "duration": 325,
    "start_time": "2022-01-19T20:22:18.907Z"
   },
   {
    "duration": 7289,
    "start_time": "2022-01-19T20:22:23.928Z"
   },
   {
    "duration": 15,
    "start_time": "2022-01-19T20:25:03.126Z"
   },
   {
    "duration": 15,
    "start_time": "2022-01-19T20:30:07.828Z"
   },
   {
    "duration": 9,
    "start_time": "2022-01-19T20:36:57.371Z"
   },
   {
    "duration": 259,
    "start_time": "2022-01-20T19:34:42.112Z"
   },
   {
    "duration": 901,
    "start_time": "2022-01-20T19:35:03.005Z"
   },
   {
    "duration": 50,
    "start_time": "2022-01-20T19:35:03.908Z"
   },
   {
    "duration": 11,
    "start_time": "2022-01-20T19:35:03.960Z"
   },
   {
    "duration": 10,
    "start_time": "2022-01-20T19:35:03.973Z"
   },
   {
    "duration": 19,
    "start_time": "2022-01-20T19:35:03.985Z"
   },
   {
    "duration": 8,
    "start_time": "2022-01-20T19:35:04.006Z"
   },
   {
    "duration": 14,
    "start_time": "2022-01-20T19:35:04.016Z"
   },
   {
    "duration": 9,
    "start_time": "2022-01-20T19:35:04.033Z"
   },
   {
    "duration": 467,
    "start_time": "2022-01-20T19:35:04.045Z"
   },
   {
    "duration": 10,
    "start_time": "2022-01-20T19:35:04.514Z"
   },
   {
    "duration": 10,
    "start_time": "2022-01-20T19:35:04.527Z"
   },
   {
    "duration": 16,
    "start_time": "2022-01-20T19:35:04.539Z"
   },
   {
    "duration": 41,
    "start_time": "2022-01-20T19:35:04.557Z"
   },
   {
    "duration": 17,
    "start_time": "2022-01-20T19:35:04.600Z"
   },
   {
    "duration": 17,
    "start_time": "2022-01-20T19:35:04.619Z"
   },
   {
    "duration": 8,
    "start_time": "2022-01-20T19:35:04.637Z"
   },
   {
    "duration": 304,
    "start_time": "2022-01-20T19:35:04.647Z"
   },
   {
    "duration": 673,
    "start_time": "2022-01-20T19:35:04.953Z"
   },
   {
    "duration": 15,
    "start_time": "2022-01-20T19:35:05.628Z"
   },
   {
    "duration": 335,
    "start_time": "2022-01-20T19:35:05.645Z"
   },
   {
    "duration": 26,
    "start_time": "2022-01-20T19:35:05.982Z"
   },
   {
    "duration": 10,
    "start_time": "2022-01-20T19:35:06.009Z"
   },
   {
    "duration": 15,
    "start_time": "2022-01-20T19:35:06.021Z"
   },
   {
    "duration": 454,
    "start_time": "2022-01-20T19:36:15.650Z"
   },
   {
    "duration": 12,
    "start_time": "2022-01-20T19:41:52.341Z"
   },
   {
    "duration": 12,
    "start_time": "2022-01-20T19:42:05.740Z"
   },
   {
    "duration": 11,
    "start_time": "2022-01-20T19:42:23.446Z"
   },
   {
    "duration": 69,
    "start_time": "2022-01-20T19:48:01.256Z"
   },
   {
    "duration": 15,
    "start_time": "2022-01-20T19:49:04.067Z"
   },
   {
    "duration": 406,
    "start_time": "2022-01-20T19:52:04.680Z"
   },
   {
    "duration": 439,
    "start_time": "2022-01-20T19:52:39.268Z"
   },
   {
    "duration": 10,
    "start_time": "2022-01-20T19:53:19.210Z"
   },
   {
    "duration": 11,
    "start_time": "2022-01-20T19:53:31.058Z"
   },
   {
    "duration": 10,
    "start_time": "2022-01-20T19:53:41.610Z"
   },
   {
    "duration": 11,
    "start_time": "2022-01-20T20:05:10.136Z"
   },
   {
    "duration": 11,
    "start_time": "2022-01-20T20:05:35.694Z"
   },
   {
    "duration": 10,
    "start_time": "2022-01-20T20:05:53.671Z"
   },
   {
    "duration": 14,
    "start_time": "2022-01-20T20:07:43.467Z"
   },
   {
    "duration": 17,
    "start_time": "2022-01-20T20:08:03.715Z"
   },
   {
    "duration": 16,
    "start_time": "2022-01-20T20:08:13.890Z"
   },
   {
    "duration": 585,
    "start_time": "2022-01-23T09:21:10.738Z"
   },
   {
    "duration": 46,
    "start_time": "2022-01-23T09:21:11.325Z"
   },
   {
    "duration": 9,
    "start_time": "2022-01-23T09:21:11.373Z"
   },
   {
    "duration": 17,
    "start_time": "2022-01-23T09:21:11.384Z"
   },
   {
    "duration": 10,
    "start_time": "2022-01-23T09:21:11.402Z"
   },
   {
    "duration": 8,
    "start_time": "2022-01-23T09:21:11.414Z"
   },
   {
    "duration": 12,
    "start_time": "2022-01-23T09:21:11.424Z"
   },
   {
    "duration": 10,
    "start_time": "2022-01-23T09:21:11.438Z"
   },
   {
    "duration": 440,
    "start_time": "2022-01-23T09:21:11.450Z"
   },
   {
    "duration": 12,
    "start_time": "2022-01-23T09:21:11.891Z"
   },
   {
    "duration": 16,
    "start_time": "2022-01-23T09:21:11.904Z"
   },
   {
    "duration": 27,
    "start_time": "2022-01-23T09:21:11.922Z"
   },
   {
    "duration": 13,
    "start_time": "2022-01-23T09:21:11.950Z"
   },
   {
    "duration": 16,
    "start_time": "2022-01-23T09:21:11.965Z"
   },
   {
    "duration": 28,
    "start_time": "2022-01-23T09:21:11.982Z"
   },
   {
    "duration": 6,
    "start_time": "2022-01-23T09:21:12.011Z"
   },
   {
    "duration": 260,
    "start_time": "2022-01-23T09:21:12.019Z"
   },
   {
    "duration": 594,
    "start_time": "2022-01-23T09:21:12.281Z"
   },
   {
    "duration": 26,
    "start_time": "2022-01-23T09:21:12.876Z"
   },
   {
    "duration": 292,
    "start_time": "2022-01-23T09:21:12.904Z"
   },
   {
    "duration": 16,
    "start_time": "2022-01-23T09:21:13.198Z"
   },
   {
    "duration": 13,
    "start_time": "2022-01-23T09:21:13.216Z"
   },
   {
    "duration": 9,
    "start_time": "2022-01-23T09:21:13.232Z"
   },
   {
    "duration": 15,
    "start_time": "2022-01-23T09:21:13.243Z"
   },
   {
    "duration": 45,
    "start_time": "2022-01-23T09:21:13.259Z"
   },
   {
    "duration": 415,
    "start_time": "2022-01-23T09:21:13.305Z"
   },
   {
    "duration": 2024,
    "start_time": "2022-01-23T09:25:31.417Z"
   },
   {
    "duration": 473,
    "start_time": "2022-01-23T09:25:46.401Z"
   },
   {
    "duration": 422,
    "start_time": "2022-01-23T09:26:48.996Z"
   },
   {
    "duration": 422,
    "start_time": "2022-01-23T09:27:04.155Z"
   },
   {
    "duration": 426,
    "start_time": "2022-01-23T09:27:20.163Z"
   },
   {
    "duration": 467,
    "start_time": "2022-01-23T09:27:43.308Z"
   },
   {
    "duration": 560,
    "start_time": "2022-01-23T09:29:17.050Z"
   },
   {
    "duration": 461,
    "start_time": "2022-01-23T09:30:55.154Z"
   },
   {
    "duration": 572,
    "start_time": "2022-01-23T09:51:15.072Z"
   },
   {
    "duration": 14,
    "start_time": "2022-01-23T09:55:21.292Z"
   },
   {
    "duration": 14,
    "start_time": "2022-01-23T09:56:24.503Z"
   },
   {
    "duration": 15,
    "start_time": "2022-01-23T09:56:43.951Z"
   },
   {
    "duration": 303,
    "start_time": "2022-01-23T09:56:47.807Z"
   },
   {
    "duration": 3,
    "start_time": "2022-01-23T09:57:24.988Z"
   },
   {
    "duration": 57,
    "start_time": "2022-01-23T09:57:24.993Z"
   },
   {
    "duration": 10,
    "start_time": "2022-01-23T09:57:25.052Z"
   },
   {
    "duration": 15,
    "start_time": "2022-01-23T09:57:25.064Z"
   },
   {
    "duration": 17,
    "start_time": "2022-01-23T09:57:25.080Z"
   },
   {
    "duration": 9,
    "start_time": "2022-01-23T09:57:25.098Z"
   },
   {
    "duration": 16,
    "start_time": "2022-01-23T09:57:25.109Z"
   },
   {
    "duration": 9,
    "start_time": "2022-01-23T09:57:25.127Z"
   },
   {
    "duration": 409,
    "start_time": "2022-01-23T09:57:25.138Z"
   },
   {
    "duration": 8,
    "start_time": "2022-01-23T09:57:25.549Z"
   },
   {
    "duration": 7,
    "start_time": "2022-01-23T09:57:25.559Z"
   },
   {
    "duration": 31,
    "start_time": "2022-01-23T09:57:25.568Z"
   },
   {
    "duration": 9,
    "start_time": "2022-01-23T09:57:25.601Z"
   },
   {
    "duration": 14,
    "start_time": "2022-01-23T09:57:25.612Z"
   },
   {
    "duration": 14,
    "start_time": "2022-01-23T09:57:25.627Z"
   },
   {
    "duration": 5,
    "start_time": "2022-01-23T09:57:25.642Z"
   },
   {
    "duration": 277,
    "start_time": "2022-01-23T09:57:25.649Z"
   },
   {
    "duration": 550,
    "start_time": "2022-01-23T09:57:25.928Z"
   },
   {
    "duration": 21,
    "start_time": "2022-01-23T09:57:26.480Z"
   },
   {
    "duration": 411,
    "start_time": "2022-01-23T09:57:26.503Z"
   },
   {
    "duration": 15,
    "start_time": "2022-01-23T09:57:26.916Z"
   },
   {
    "duration": 27,
    "start_time": "2022-01-23T09:57:26.933Z"
   },
   {
    "duration": 13,
    "start_time": "2022-01-23T09:57:26.962Z"
   },
   {
    "duration": 24,
    "start_time": "2022-01-23T09:57:26.977Z"
   },
   {
    "duration": 36,
    "start_time": "2022-01-23T09:57:27.003Z"
   },
   {
    "duration": 401,
    "start_time": "2022-01-23T09:57:27.040Z"
   },
   {
    "duration": 539,
    "start_time": "2022-01-23T09:57:27.442Z"
   },
   {
    "duration": 16,
    "start_time": "2022-01-23T09:58:35.459Z"
   },
   {
    "duration": 19,
    "start_time": "2022-01-23T09:59:14.860Z"
   },
   {
    "duration": 293,
    "start_time": "2022-01-23T09:59:23.142Z"
   },
   {
    "duration": 17,
    "start_time": "2022-01-23T09:59:34.932Z"
   },
   {
    "duration": 4,
    "start_time": "2022-01-23T09:59:52.264Z"
   },
   {
    "duration": 58,
    "start_time": "2022-01-23T09:59:52.270Z"
   },
   {
    "duration": 10,
    "start_time": "2022-01-23T09:59:52.330Z"
   },
   {
    "duration": 32,
    "start_time": "2022-01-23T09:59:52.342Z"
   },
   {
    "duration": 28,
    "start_time": "2022-01-23T09:59:52.376Z"
   },
   {
    "duration": 28,
    "start_time": "2022-01-23T09:59:52.406Z"
   },
   {
    "duration": 26,
    "start_time": "2022-01-23T09:59:52.436Z"
   },
   {
    "duration": 30,
    "start_time": "2022-01-23T09:59:52.464Z"
   },
   {
    "duration": 403,
    "start_time": "2022-01-23T09:59:52.495Z"
   },
   {
    "duration": 9,
    "start_time": "2022-01-23T09:59:52.901Z"
   },
   {
    "duration": 19,
    "start_time": "2022-01-23T09:59:52.912Z"
   },
   {
    "duration": 30,
    "start_time": "2022-01-23T09:59:52.933Z"
   },
   {
    "duration": 14,
    "start_time": "2022-01-23T09:59:52.965Z"
   },
   {
    "duration": 25,
    "start_time": "2022-01-23T09:59:52.981Z"
   },
   {
    "duration": 30,
    "start_time": "2022-01-23T09:59:53.007Z"
   },
   {
    "duration": 26,
    "start_time": "2022-01-23T09:59:53.038Z"
   },
   {
    "duration": 253,
    "start_time": "2022-01-23T09:59:53.065Z"
   },
   {
    "duration": 559,
    "start_time": "2022-01-23T09:59:53.320Z"
   },
   {
    "duration": 23,
    "start_time": "2022-01-23T09:59:53.882Z"
   },
   {
    "duration": 394,
    "start_time": "2022-01-23T09:59:53.907Z"
   },
   {
    "duration": 16,
    "start_time": "2022-01-23T09:59:54.303Z"
   },
   {
    "duration": 13,
    "start_time": "2022-01-23T09:59:54.320Z"
   },
   {
    "duration": 12,
    "start_time": "2022-01-23T09:59:54.335Z"
   },
   {
    "duration": 13,
    "start_time": "2022-01-23T09:59:54.349Z"
   },
   {
    "duration": 46,
    "start_time": "2022-01-23T09:59:54.363Z"
   },
   {
    "duration": 416,
    "start_time": "2022-01-23T09:59:54.410Z"
   },
   {
    "duration": 545,
    "start_time": "2022-01-23T09:59:54.827Z"
   },
   {
    "duration": 15,
    "start_time": "2022-01-23T10:00:18.133Z"
   },
   {
    "duration": 47,
    "start_time": "2022-01-23T10:16:24.825Z"
   },
   {
    "duration": 329,
    "start_time": "2022-01-23T10:21:44.481Z"
   },
   {
    "duration": 694,
    "start_time": "2022-01-23T10:29:34.444Z"
   },
   {
    "duration": 1525,
    "start_time": "2022-01-23T10:35:08.769Z"
   },
   {
    "duration": 51,
    "start_time": "2022-01-23T10:37:06.084Z"
   },
   {
    "duration": 41,
    "start_time": "2022-01-23T10:37:16.491Z"
   },
   {
    "duration": 54,
    "start_time": "2022-01-23T10:37:58.263Z"
   },
   {
    "duration": 1662,
    "start_time": "2022-01-23T10:38:07.318Z"
   },
   {
    "duration": 4,
    "start_time": "2022-01-23T10:39:15.314Z"
   },
   {
    "duration": 1515,
    "start_time": "2022-01-23T10:39:33.273Z"
   },
   {
    "duration": 1512,
    "start_time": "2022-01-23T10:40:05.035Z"
   },
   {
    "duration": 1706,
    "start_time": "2022-01-23T10:40:27.043Z"
   },
   {
    "duration": 1773,
    "start_time": "2022-01-23T10:40:36.732Z"
   },
   {
    "duration": 1896,
    "start_time": "2022-01-23T10:40:48.411Z"
   },
   {
    "duration": 1768,
    "start_time": "2022-01-23T10:44:24.146Z"
   },
   {
    "duration": 7,
    "start_time": "2022-01-23T12:56:24.578Z"
   },
   {
    "duration": 127,
    "start_time": "2022-01-23T12:59:14.499Z"
   },
   {
    "duration": 14,
    "start_time": "2022-01-23T12:59:21.439Z"
   },
   {
    "duration": 14,
    "start_time": "2022-01-23T13:00:33.609Z"
   },
   {
    "duration": 49,
    "start_time": "2022-01-23T14:12:32.766Z"
   },
   {
    "duration": 13,
    "start_time": "2022-01-23T14:12:44.089Z"
   },
   {
    "duration": 10,
    "start_time": "2022-01-23T14:13:34.893Z"
   },
   {
    "duration": 14,
    "start_time": "2022-01-23T14:13:41.986Z"
   },
   {
    "duration": 24,
    "start_time": "2022-01-23T14:14:11.254Z"
   },
   {
    "duration": 149,
    "start_time": "2022-01-23T14:18:56.989Z"
   },
   {
    "duration": 13,
    "start_time": "2022-01-23T14:19:07.859Z"
   },
   {
    "duration": 45,
    "start_time": "2022-01-23T14:19:25.189Z"
   },
   {
    "duration": 19,
    "start_time": "2022-01-23T14:20:07.133Z"
   },
   {
    "duration": 21,
    "start_time": "2022-01-23T14:22:56.544Z"
   },
   {
    "duration": 33,
    "start_time": "2022-01-23T14:23:18.849Z"
   },
   {
    "duration": 34,
    "start_time": "2022-01-23T14:25:43.800Z"
   },
   {
    "duration": 32,
    "start_time": "2022-01-23T14:26:10.504Z"
   },
   {
    "duration": 30,
    "start_time": "2022-01-23T14:27:29.208Z"
   },
   {
    "duration": 49,
    "start_time": "2022-01-23T14:27:34.401Z"
   },
   {
    "duration": 33,
    "start_time": "2022-01-23T14:27:42.977Z"
   },
   {
    "duration": 31,
    "start_time": "2022-01-23T14:36:24.911Z"
   },
   {
    "duration": 31,
    "start_time": "2022-01-23T14:52:24.787Z"
   },
   {
    "duration": 534,
    "start_time": "2022-01-23T14:59:48.001Z"
   },
   {
    "duration": 374,
    "start_time": "2022-01-23T15:00:30.569Z"
   },
   {
    "duration": 279,
    "start_time": "2022-01-23T15:00:45.394Z"
   },
   {
    "duration": 374,
    "start_time": "2022-01-23T15:01:03.266Z"
   },
   {
    "duration": 283,
    "start_time": "2022-01-23T15:01:16.394Z"
   },
   {
    "duration": 3,
    "start_time": "2022-01-23T15:02:06.106Z"
   },
   {
    "duration": 99,
    "start_time": "2022-01-23T15:02:06.111Z"
   },
   {
    "duration": 11,
    "start_time": "2022-01-23T15:02:06.213Z"
   },
   {
    "duration": 30,
    "start_time": "2022-01-23T15:02:06.227Z"
   },
   {
    "duration": 40,
    "start_time": "2022-01-23T15:02:06.259Z"
   },
   {
    "duration": 30,
    "start_time": "2022-01-23T15:02:06.301Z"
   },
   {
    "duration": 42,
    "start_time": "2022-01-23T15:02:06.334Z"
   },
   {
    "duration": 41,
    "start_time": "2022-01-23T15:02:06.379Z"
   },
   {
    "duration": 482,
    "start_time": "2022-01-23T15:02:06.422Z"
   },
   {
    "duration": 11,
    "start_time": "2022-01-23T15:02:06.906Z"
   },
   {
    "duration": 40,
    "start_time": "2022-01-23T15:02:06.918Z"
   },
   {
    "duration": 54,
    "start_time": "2022-01-23T15:02:06.960Z"
   },
   {
    "duration": 55,
    "start_time": "2022-01-23T15:02:07.016Z"
   },
   {
    "duration": 40,
    "start_time": "2022-01-23T15:02:07.073Z"
   },
   {
    "duration": 42,
    "start_time": "2022-01-23T15:02:07.115Z"
   },
   {
    "duration": 9,
    "start_time": "2022-01-23T15:02:07.159Z"
   },
   {
    "duration": 344,
    "start_time": "2022-01-23T15:02:07.170Z"
   },
   {
    "duration": 596,
    "start_time": "2022-01-23T15:02:07.516Z"
   },
   {
    "duration": 14,
    "start_time": "2022-01-23T15:02:08.115Z"
   },
   {
    "duration": 307,
    "start_time": "2022-01-23T15:02:08.131Z"
   },
   {
    "duration": 14,
    "start_time": "2022-01-23T15:02:08.440Z"
   },
   {
    "duration": 26,
    "start_time": "2022-01-23T15:02:08.455Z"
   },
   {
    "duration": 37,
    "start_time": "2022-01-23T15:02:08.483Z"
   },
   {
    "duration": 55,
    "start_time": "2022-01-23T15:02:08.522Z"
   },
   {
    "duration": 32,
    "start_time": "2022-01-23T15:02:08.579Z"
   },
   {
    "duration": 448,
    "start_time": "2022-01-23T15:02:08.613Z"
   },
   {
    "duration": 686,
    "start_time": "2022-01-23T15:02:09.062Z"
   },
   {
    "duration": 1764,
    "start_time": "2022-01-23T15:02:09.750Z"
   },
   {
    "duration": 6,
    "start_time": "2022-01-23T15:02:11.516Z"
   },
   {
    "duration": 15,
    "start_time": "2022-01-23T15:02:11.524Z"
   },
   {
    "duration": 62,
    "start_time": "2022-01-23T15:02:11.541Z"
   },
   {
    "duration": 34,
    "start_time": "2022-01-23T15:02:11.606Z"
   },
   {
    "duration": 67,
    "start_time": "2022-01-23T15:02:11.642Z"
   },
   {
    "duration": 293,
    "start_time": "2022-01-23T15:02:11.711Z"
   },
   {
    "duration": 275,
    "start_time": "2022-01-23T15:02:24.388Z"
   },
   {
    "duration": 284,
    "start_time": "2022-01-23T15:02:57.446Z"
   },
   {
    "duration": 300,
    "start_time": "2022-01-23T15:03:05.880Z"
   },
   {
    "duration": 396,
    "start_time": "2022-01-23T15:03:47.790Z"
   },
   {
    "duration": 903,
    "start_time": "2022-01-23T15:07:01.825Z"
   },
   {
    "duration": 924,
    "start_time": "2022-01-23T15:07:17.912Z"
   },
   {
    "duration": 884,
    "start_time": "2022-01-23T15:07:51.646Z"
   },
   {
    "duration": 1010,
    "start_time": "2022-01-23T15:07:57.590Z"
   },
   {
    "duration": 868,
    "start_time": "2022-01-23T15:08:03.317Z"
   },
   {
    "duration": 834,
    "start_time": "2022-01-23T15:08:08.791Z"
   },
   {
    "duration": 877,
    "start_time": "2022-01-23T15:08:26.184Z"
   },
   {
    "duration": 984,
    "start_time": "2022-01-23T15:08:35.385Z"
   },
   {
    "duration": 136,
    "start_time": "2022-01-23T16:51:58.301Z"
   },
   {
    "duration": 310,
    "start_time": "2022-01-23T16:52:38.125Z"
   },
   {
    "duration": 227,
    "start_time": "2022-01-23T16:52:42.694Z"
   },
   {
    "duration": 238,
    "start_time": "2022-01-23T16:53:07.299Z"
   },
   {
    "duration": 11,
    "start_time": "2022-01-23T16:55:21.570Z"
   },
   {
    "duration": 10,
    "start_time": "2022-01-23T16:56:21.325Z"
   },
   {
    "duration": 132,
    "start_time": "2022-01-23T16:58:44.800Z"
   },
   {
    "duration": 180,
    "start_time": "2022-01-23T17:01:39.798Z"
   },
   {
    "duration": 337,
    "start_time": "2022-01-23T17:02:13.951Z"
   },
   {
    "duration": 3,
    "start_time": "2022-01-23T17:02:30.973Z"
   },
   {
    "duration": 66,
    "start_time": "2022-01-23T17:02:30.978Z"
   },
   {
    "duration": 9,
    "start_time": "2022-01-23T17:02:31.046Z"
   },
   {
    "duration": 28,
    "start_time": "2022-01-23T17:02:31.057Z"
   },
   {
    "duration": 20,
    "start_time": "2022-01-23T17:02:31.086Z"
   },
   {
    "duration": 27,
    "start_time": "2022-01-23T17:02:31.107Z"
   },
   {
    "duration": 26,
    "start_time": "2022-01-23T17:02:31.136Z"
   },
   {
    "duration": 29,
    "start_time": "2022-01-23T17:02:31.164Z"
   },
   {
    "duration": 429,
    "start_time": "2022-01-23T17:02:31.195Z"
   },
   {
    "duration": 9,
    "start_time": "2022-01-23T17:02:31.626Z"
   },
   {
    "duration": 11,
    "start_time": "2022-01-23T17:02:31.637Z"
   },
   {
    "duration": 23,
    "start_time": "2022-01-23T17:02:31.650Z"
   },
   {
    "duration": 27,
    "start_time": "2022-01-23T17:02:31.675Z"
   },
   {
    "duration": 15,
    "start_time": "2022-01-23T17:02:31.704Z"
   },
   {
    "duration": 17,
    "start_time": "2022-01-23T17:02:31.721Z"
   },
   {
    "duration": 6,
    "start_time": "2022-01-23T17:02:31.740Z"
   },
   {
    "duration": 379,
    "start_time": "2022-01-23T17:02:31.748Z"
   },
   {
    "duration": 572,
    "start_time": "2022-01-23T17:02:32.129Z"
   },
   {
    "duration": 17,
    "start_time": "2022-01-23T17:02:32.705Z"
   },
   {
    "duration": 328,
    "start_time": "2022-01-23T17:02:32.724Z"
   },
   {
    "duration": 19,
    "start_time": "2022-01-23T17:02:33.054Z"
   },
   {
    "duration": 45,
    "start_time": "2022-01-23T17:02:33.075Z"
   },
   {
    "duration": 59,
    "start_time": "2022-01-23T17:02:33.122Z"
   },
   {
    "duration": 43,
    "start_time": "2022-01-23T17:02:33.182Z"
   },
   {
    "duration": 36,
    "start_time": "2022-01-23T17:02:33.227Z"
   },
   {
    "duration": 452,
    "start_time": "2022-01-23T17:02:33.265Z"
   },
   {
    "duration": 555,
    "start_time": "2022-01-23T17:02:33.719Z"
   },
   {
    "duration": 1996,
    "start_time": "2022-01-23T17:02:34.275Z"
   },
   {
    "duration": 7,
    "start_time": "2022-01-23T17:02:36.272Z"
   },
   {
    "duration": 27,
    "start_time": "2022-01-23T17:02:36.281Z"
   },
   {
    "duration": 36,
    "start_time": "2022-01-23T17:02:36.310Z"
   },
   {
    "duration": 61,
    "start_time": "2022-01-23T17:02:36.348Z"
   },
   {
    "duration": 31,
    "start_time": "2022-01-23T17:02:36.410Z"
   },
   {
    "duration": 903,
    "start_time": "2022-01-23T17:02:36.442Z"
   },
   {
    "duration": 249,
    "start_time": "2022-01-23T17:02:37.347Z"
   },
   {
    "duration": 12,
    "start_time": "2022-01-23T17:03:41.681Z"
   },
   {
    "duration": 143,
    "start_time": "2022-01-23T17:09:56.675Z"
   },
   {
    "duration": 3,
    "start_time": "2022-01-23T17:10:13.609Z"
   },
   {
    "duration": 52,
    "start_time": "2022-01-23T17:10:13.614Z"
   },
   {
    "duration": 10,
    "start_time": "2022-01-23T17:10:13.668Z"
   },
   {
    "duration": 17,
    "start_time": "2022-01-23T17:10:13.680Z"
   },
   {
    "duration": 10,
    "start_time": "2022-01-23T17:10:13.699Z"
   },
   {
    "duration": 8,
    "start_time": "2022-01-23T17:10:13.711Z"
   },
   {
    "duration": 12,
    "start_time": "2022-01-23T17:10:13.721Z"
   },
   {
    "duration": 9,
    "start_time": "2022-01-23T17:10:13.735Z"
   },
   {
    "duration": 439,
    "start_time": "2022-01-23T17:10:13.746Z"
   },
   {
    "duration": 16,
    "start_time": "2022-01-23T17:10:14.187Z"
   },
   {
    "duration": 10,
    "start_time": "2022-01-23T17:10:14.204Z"
   },
   {
    "duration": 16,
    "start_time": "2022-01-23T17:10:14.216Z"
   },
   {
    "duration": 10,
    "start_time": "2022-01-23T17:10:14.233Z"
   },
   {
    "duration": 14,
    "start_time": "2022-01-23T17:10:14.245Z"
   },
   {
    "duration": 51,
    "start_time": "2022-01-23T17:10:14.260Z"
   },
   {
    "duration": 6,
    "start_time": "2022-01-23T17:10:14.313Z"
   },
   {
    "duration": 280,
    "start_time": "2022-01-23T17:10:14.320Z"
   },
   {
    "duration": 598,
    "start_time": "2022-01-23T17:10:14.602Z"
   },
   {
    "duration": 17,
    "start_time": "2022-01-23T17:10:15.204Z"
   },
   {
    "duration": 441,
    "start_time": "2022-01-23T17:10:15.223Z"
   },
   {
    "duration": 18,
    "start_time": "2022-01-23T17:10:15.666Z"
   },
   {
    "duration": 16,
    "start_time": "2022-01-23T17:10:15.698Z"
   },
   {
    "duration": 10,
    "start_time": "2022-01-23T17:10:15.716Z"
   },
   {
    "duration": 14,
    "start_time": "2022-01-23T17:10:15.728Z"
   },
   {
    "duration": 17,
    "start_time": "2022-01-23T17:10:15.744Z"
   },
   {
    "duration": 432,
    "start_time": "2022-01-23T17:10:15.798Z"
   },
   {
    "duration": 570,
    "start_time": "2022-01-23T17:10:16.232Z"
   },
   {
    "duration": 1802,
    "start_time": "2022-01-23T17:10:16.803Z"
   },
   {
    "duration": 6,
    "start_time": "2022-01-23T17:10:18.607Z"
   },
   {
    "duration": 17,
    "start_time": "2022-01-23T17:10:18.614Z"
   },
   {
    "duration": 31,
    "start_time": "2022-01-23T17:10:18.632Z"
   },
   {
    "duration": 162,
    "start_time": "2022-01-23T17:10:18.664Z"
   },
   {
    "duration": 33,
    "start_time": "2022-01-23T17:10:18.828Z"
   },
   {
    "duration": 878,
    "start_time": "2022-01-23T17:10:18.862Z"
   },
   {
    "duration": 154,
    "start_time": "2022-01-23T17:10:19.743Z"
   },
   {
    "duration": 8,
    "start_time": "2022-01-23T17:11:06.565Z"
   },
   {
    "duration": 6,
    "start_time": "2022-01-23T17:11:18.294Z"
   },
   {
    "duration": 24,
    "start_time": "2022-01-23T17:11:20.805Z"
   },
   {
    "duration": 143,
    "start_time": "2022-01-23T17:11:29.245Z"
   },
   {
    "duration": 26,
    "start_time": "2022-01-23T17:11:42.149Z"
   },
   {
    "duration": 7,
    "start_time": "2022-01-23T17:11:48.854Z"
   },
   {
    "duration": 226,
    "start_time": "2022-01-23T17:13:25.153Z"
   },
   {
    "duration": 10,
    "start_time": "2022-01-23T17:13:49.593Z"
   },
   {
    "duration": 11,
    "start_time": "2022-01-23T17:20:21.859Z"
   },
   {
    "duration": 10,
    "start_time": "2022-01-23T17:20:55.341Z"
   },
   {
    "duration": 136,
    "start_time": "2022-01-23T17:26:04.966Z"
   },
   {
    "duration": 3,
    "start_time": "2022-01-23T17:26:32.639Z"
   },
   {
    "duration": 307,
    "start_time": "2022-01-23T17:26:37.054Z"
   },
   {
    "duration": 42,
    "start_time": "2022-01-23T17:30:46.687Z"
   },
   {
    "duration": 13,
    "start_time": "2022-01-23T17:32:59.395Z"
   },
   {
    "duration": 42,
    "start_time": "2022-01-23T17:34:53.639Z"
   },
   {
    "duration": 41,
    "start_time": "2022-01-23T17:35:25.087Z"
   },
   {
    "duration": 10,
    "start_time": "2022-01-23T17:37:10.306Z"
   },
   {
    "duration": 1113,
    "start_time": "2022-01-23T18:37:11.170Z"
   },
   {
    "duration": 49,
    "start_time": "2022-01-23T18:37:12.285Z"
   },
   {
    "duration": 10,
    "start_time": "2022-01-23T18:37:12.336Z"
   },
   {
    "duration": 11,
    "start_time": "2022-01-23T18:37:12.348Z"
   },
   {
    "duration": 16,
    "start_time": "2022-01-23T18:37:12.360Z"
   },
   {
    "duration": 25,
    "start_time": "2022-01-23T18:37:12.378Z"
   },
   {
    "duration": 13,
    "start_time": "2022-01-23T18:37:12.405Z"
   },
   {
    "duration": 8,
    "start_time": "2022-01-23T18:37:12.420Z"
   },
   {
    "duration": 432,
    "start_time": "2022-01-23T18:37:12.430Z"
   },
   {
    "duration": 8,
    "start_time": "2022-01-23T18:37:12.864Z"
   },
   {
    "duration": 16,
    "start_time": "2022-01-23T18:37:12.874Z"
   },
   {
    "duration": 42,
    "start_time": "2022-01-23T18:37:12.897Z"
   },
   {
    "duration": 32,
    "start_time": "2022-01-23T18:37:12.941Z"
   },
   {
    "duration": 38,
    "start_time": "2022-01-23T18:37:12.975Z"
   },
   {
    "duration": 38,
    "start_time": "2022-01-23T18:37:13.015Z"
   },
   {
    "duration": 29,
    "start_time": "2022-01-23T18:37:13.055Z"
   },
   {
    "duration": 268,
    "start_time": "2022-01-23T18:37:13.086Z"
   },
   {
    "duration": 565,
    "start_time": "2022-01-23T18:37:13.356Z"
   },
   {
    "duration": 17,
    "start_time": "2022-01-23T18:37:13.923Z"
   },
   {
    "duration": 311,
    "start_time": "2022-01-23T18:37:13.942Z"
   },
   {
    "duration": 17,
    "start_time": "2022-01-23T18:37:14.255Z"
   },
   {
    "duration": 31,
    "start_time": "2022-01-23T18:37:14.274Z"
   },
   {
    "duration": 15,
    "start_time": "2022-01-23T18:37:14.308Z"
   },
   {
    "duration": 21,
    "start_time": "2022-01-23T18:37:14.325Z"
   },
   {
    "duration": 22,
    "start_time": "2022-01-23T18:37:14.348Z"
   },
   {
    "duration": 417,
    "start_time": "2022-01-23T18:37:14.372Z"
   },
   {
    "duration": 640,
    "start_time": "2022-01-23T18:37:14.791Z"
   },
   {
    "duration": 1775,
    "start_time": "2022-01-23T18:37:15.433Z"
   },
   {
    "duration": 6,
    "start_time": "2022-01-23T18:37:17.209Z"
   },
   {
    "duration": 40,
    "start_time": "2022-01-23T18:37:17.216Z"
   },
   {
    "duration": 35,
    "start_time": "2022-01-23T18:37:17.257Z"
   },
   {
    "duration": 39,
    "start_time": "2022-01-23T18:37:17.294Z"
   },
   {
    "duration": 37,
    "start_time": "2022-01-23T18:37:17.334Z"
   },
   {
    "duration": 880,
    "start_time": "2022-01-23T18:37:17.373Z"
   },
   {
    "duration": 6,
    "start_time": "2022-01-23T18:37:18.255Z"
   },
   {
    "duration": 515,
    "start_time": "2022-01-23T18:37:18.262Z"
   },
   {
    "duration": 23,
    "start_time": "2022-01-23T18:37:18.779Z"
   },
   {
    "duration": 70,
    "start_time": "2022-01-23T18:37:18.804Z"
   },
   {
    "duration": 13,
    "start_time": "2022-01-23T18:37:18.876Z"
   },
   {
    "duration": 1092,
    "start_time": "2022-01-30T15:46:37.600Z"
   },
   {
    "duration": 49,
    "start_time": "2022-01-30T15:46:38.695Z"
   },
   {
    "duration": 14,
    "start_time": "2022-01-30T15:46:38.748Z"
   },
   {
    "duration": 10,
    "start_time": "2022-01-30T15:46:38.764Z"
   },
   {
    "duration": 13,
    "start_time": "2022-01-30T15:46:38.776Z"
   },
   {
    "duration": 8,
    "start_time": "2022-01-30T15:46:38.791Z"
   },
   {
    "duration": 15,
    "start_time": "2022-01-30T15:46:38.800Z"
   },
   {
    "duration": 9,
    "start_time": "2022-01-30T15:46:38.818Z"
   },
   {
    "duration": 452,
    "start_time": "2022-01-30T15:46:38.829Z"
   },
   {
    "duration": 8,
    "start_time": "2022-01-30T15:46:39.282Z"
   },
   {
    "duration": 9,
    "start_time": "2022-01-30T15:46:39.292Z"
   },
   {
    "duration": 16,
    "start_time": "2022-01-30T15:46:39.302Z"
   },
   {
    "duration": 9,
    "start_time": "2022-01-30T15:46:39.320Z"
   },
   {
    "duration": 15,
    "start_time": "2022-01-30T15:46:39.359Z"
   },
   {
    "duration": 16,
    "start_time": "2022-01-30T15:46:39.376Z"
   },
   {
    "duration": 6,
    "start_time": "2022-01-30T15:46:39.394Z"
   },
   {
    "duration": 293,
    "start_time": "2022-01-30T15:46:39.401Z"
   },
   {
    "duration": 578,
    "start_time": "2022-01-30T15:46:39.696Z"
   },
   {
    "duration": 14,
    "start_time": "2022-01-30T15:46:40.275Z"
   },
   {
    "duration": 318,
    "start_time": "2022-01-30T15:46:40.290Z"
   },
   {
    "duration": 16,
    "start_time": "2022-01-30T15:46:40.609Z"
   },
   {
    "duration": 33,
    "start_time": "2022-01-30T15:46:40.627Z"
   },
   {
    "duration": 9,
    "start_time": "2022-01-30T15:46:40.662Z"
   },
   {
    "duration": 15,
    "start_time": "2022-01-30T15:46:40.673Z"
   },
   {
    "duration": 16,
    "start_time": "2022-01-30T15:46:40.689Z"
   },
   {
    "duration": 454,
    "start_time": "2022-01-30T15:46:40.708Z"
   },
   {
    "duration": 663,
    "start_time": "2022-01-30T15:46:41.164Z"
   },
   {
    "duration": 1854,
    "start_time": "2022-01-30T15:46:41.828Z"
   },
   {
    "duration": 8,
    "start_time": "2022-01-30T15:46:43.684Z"
   },
   {
    "duration": 19,
    "start_time": "2022-01-30T15:46:43.693Z"
   },
   {
    "duration": 58,
    "start_time": "2022-01-30T15:46:43.714Z"
   },
   {
    "duration": 34,
    "start_time": "2022-01-30T15:46:43.774Z"
   },
   {
    "duration": 65,
    "start_time": "2022-01-30T15:46:43.810Z"
   },
   {
    "duration": 913,
    "start_time": "2022-01-30T15:46:43.877Z"
   },
   {
    "duration": 8,
    "start_time": "2022-01-30T15:46:44.792Z"
   },
   {
    "duration": 588,
    "start_time": "2022-01-30T15:46:44.801Z"
   },
   {
    "duration": 14,
    "start_time": "2022-01-30T15:46:45.391Z"
   },
   {
    "duration": 64,
    "start_time": "2022-01-30T15:46:45.407Z"
   },
   {
    "duration": 16,
    "start_time": "2022-01-30T15:46:45.474Z"
   },
   {
    "duration": 1472,
    "start_time": "2022-01-31T15:18:12.836Z"
   },
   {
    "duration": 78,
    "start_time": "2022-01-31T15:18:14.311Z"
   },
   {
    "duration": 15,
    "start_time": "2022-01-31T15:18:14.392Z"
   },
   {
    "duration": 16,
    "start_time": "2022-01-31T15:18:14.409Z"
   },
   {
    "duration": 53,
    "start_time": "2022-01-31T15:18:14.428Z"
   },
   {
    "duration": 13,
    "start_time": "2022-01-31T15:18:14.484Z"
   },
   {
    "duration": 21,
    "start_time": "2022-01-31T15:18:14.500Z"
   },
   {
    "duration": 16,
    "start_time": "2022-01-31T15:18:14.526Z"
   },
   {
    "duration": 690,
    "start_time": "2022-01-31T15:18:14.544Z"
   },
   {
    "duration": 12,
    "start_time": "2022-01-31T15:18:15.237Z"
   },
   {
    "duration": 19,
    "start_time": "2022-01-31T15:18:15.269Z"
   },
   {
    "duration": 21,
    "start_time": "2022-01-31T15:18:15.291Z"
   },
   {
    "duration": 16,
    "start_time": "2022-01-31T15:18:15.315Z"
   },
   {
    "duration": 25,
    "start_time": "2022-01-31T15:18:15.378Z"
   },
   {
    "duration": 25,
    "start_time": "2022-01-31T15:18:15.405Z"
   },
   {
    "duration": 721,
    "start_time": "2022-01-31T15:29:28.382Z"
   },
   {
    "duration": 419,
    "start_time": "2022-01-31T15:41:15.924Z"
   },
   {
    "duration": 4,
    "start_time": "2022-01-31T15:41:16.770Z"
   },
   {
    "duration": 1396,
    "start_time": "2022-01-31T15:43:20.082Z"
   },
   {
    "duration": 67,
    "start_time": "2022-01-31T15:43:21.481Z"
   },
   {
    "duration": 23,
    "start_time": "2022-01-31T15:43:21.551Z"
   },
   {
    "duration": 16,
    "start_time": "2022-01-31T15:43:21.578Z"
   },
   {
    "duration": 17,
    "start_time": "2022-01-31T15:43:21.597Z"
   },
   {
    "duration": 54,
    "start_time": "2022-01-31T15:43:21.617Z"
   },
   {
    "duration": 21,
    "start_time": "2022-01-31T15:43:21.673Z"
   },
   {
    "duration": 14,
    "start_time": "2022-01-31T15:43:21.699Z"
   },
   {
    "duration": 685,
    "start_time": "2022-01-31T15:43:21.716Z"
   },
   {
    "duration": 11,
    "start_time": "2022-01-31T15:43:22.403Z"
   },
   {
    "duration": 11,
    "start_time": "2022-01-31T15:43:22.417Z"
   },
   {
    "duration": 46,
    "start_time": "2022-01-31T15:43:22.430Z"
   },
   {
    "duration": 13,
    "start_time": "2022-01-31T15:43:22.478Z"
   },
   {
    "duration": 28,
    "start_time": "2022-01-31T15:43:22.493Z"
   },
   {
    "duration": 52,
    "start_time": "2022-01-31T15:43:22.523Z"
   },
   {
    "duration": 10,
    "start_time": "2022-01-31T15:43:22.577Z"
   },
   {
    "duration": 423,
    "start_time": "2022-01-31T15:43:22.590Z"
   },
   {
    "duration": 1392,
    "start_time": "2022-01-31T15:44:22.152Z"
   },
   {
    "duration": 65,
    "start_time": "2022-01-31T15:44:23.546Z"
   },
   {
    "duration": 14,
    "start_time": "2022-01-31T15:44:23.614Z"
   },
   {
    "duration": 38,
    "start_time": "2022-01-31T15:44:23.631Z"
   },
   {
    "duration": 14,
    "start_time": "2022-01-31T15:44:23.672Z"
   },
   {
    "duration": 13,
    "start_time": "2022-01-31T15:44:23.688Z"
   },
   {
    "duration": 22,
    "start_time": "2022-01-31T15:44:23.703Z"
   },
   {
    "duration": 46,
    "start_time": "2022-01-31T15:44:23.728Z"
   },
   {
    "duration": 729,
    "start_time": "2022-01-31T15:44:23.777Z"
   },
   {
    "duration": 11,
    "start_time": "2022-01-31T15:44:24.509Z"
   },
   {
    "duration": 12,
    "start_time": "2022-01-31T15:44:24.522Z"
   },
   {
    "duration": 47,
    "start_time": "2022-01-31T15:44:24.536Z"
   },
   {
    "duration": 13,
    "start_time": "2022-01-31T15:44:24.586Z"
   },
   {
    "duration": 23,
    "start_time": "2022-01-31T15:44:24.602Z"
   },
   {
    "duration": 63,
    "start_time": "2022-01-31T15:44:24.628Z"
   },
   {
    "duration": 8,
    "start_time": "2022-01-31T15:44:24.693Z"
   },
   {
    "duration": 461,
    "start_time": "2022-01-31T15:44:24.703Z"
   },
   {
    "duration": 869,
    "start_time": "2022-01-31T15:44:25.169Z"
   },
   {
    "duration": 37,
    "start_time": "2022-01-31T15:44:26.041Z"
   },
   {
    "duration": 453,
    "start_time": "2022-01-31T15:44:26.080Z"
   },
   {
    "duration": 38,
    "start_time": "2022-01-31T15:44:26.536Z"
   },
   {
    "duration": 21,
    "start_time": "2022-01-31T15:44:26.577Z"
   },
   {
    "duration": 14,
    "start_time": "2022-01-31T15:44:26.605Z"
   },
   {
    "duration": 58,
    "start_time": "2022-01-31T15:44:26.622Z"
   },
   {
    "duration": 22,
    "start_time": "2022-01-31T15:44:26.682Z"
   },
   {
    "duration": 658,
    "start_time": "2022-01-31T15:44:26.706Z"
   },
   {
    "duration": 994,
    "start_time": "2022-01-31T15:44:27.370Z"
   },
   {
    "duration": 2515,
    "start_time": "2022-01-31T15:44:28.366Z"
   },
   {
    "duration": 9,
    "start_time": "2022-01-31T15:44:30.884Z"
   },
   {
    "duration": 29,
    "start_time": "2022-01-31T15:44:30.895Z"
   },
   {
    "duration": 102,
    "start_time": "2022-01-31T15:44:30.927Z"
   },
   {
    "duration": 104,
    "start_time": "2022-01-31T15:44:31.033Z"
   },
   {
    "duration": 76,
    "start_time": "2022-01-31T15:44:31.140Z"
   },
   {
    "duration": 1457,
    "start_time": "2022-01-31T15:44:31.219Z"
   },
   {
    "duration": 9,
    "start_time": "2022-01-31T15:44:32.679Z"
   },
   {
    "duration": 790,
    "start_time": "2022-01-31T15:44:32.690Z"
   },
   {
    "duration": 18,
    "start_time": "2022-01-31T15:44:33.483Z"
   },
   {
    "duration": 84,
    "start_time": "2022-01-31T15:44:33.503Z"
   },
   {
    "duration": 15,
    "start_time": "2022-01-31T15:44:33.589Z"
   },
   {
    "duration": 451,
    "start_time": "2022-01-31T15:48:57.864Z"
   },
   {
    "duration": 342,
    "start_time": "2022-01-31T15:52:03.703Z"
   },
   {
    "duration": 758,
    "start_time": "2022-01-31T15:52:33.289Z"
   },
   {
    "duration": 109,
    "start_time": "2022-01-31T15:54:08.044Z"
   },
   {
    "duration": 107,
    "start_time": "2022-01-31T15:54:47.425Z"
   },
   {
    "duration": 652,
    "start_time": "2022-01-31T15:57:08.156Z"
   },
   {
    "duration": 622,
    "start_time": "2022-01-31T15:57:46.763Z"
   },
   {
    "duration": 610,
    "start_time": "2022-01-31T15:59:38.340Z"
   },
   {
    "duration": 5,
    "start_time": "2022-01-31T16:01:23.337Z"
   },
   {
    "duration": 67,
    "start_time": "2022-01-31T16:01:23.348Z"
   },
   {
    "duration": 14,
    "start_time": "2022-01-31T16:01:23.417Z"
   },
   {
    "duration": 37,
    "start_time": "2022-01-31T16:01:23.434Z"
   },
   {
    "duration": 14,
    "start_time": "2022-01-31T16:01:23.474Z"
   },
   {
    "duration": 12,
    "start_time": "2022-01-31T16:01:23.490Z"
   },
   {
    "duration": 24,
    "start_time": "2022-01-31T16:01:23.505Z"
   },
   {
    "duration": 46,
    "start_time": "2022-01-31T16:01:23.531Z"
   },
   {
    "duration": 659,
    "start_time": "2022-01-31T16:01:23.581Z"
   },
   {
    "duration": 25,
    "start_time": "2022-01-31T16:01:24.244Z"
   },
   {
    "duration": 12,
    "start_time": "2022-01-31T16:01:24.272Z"
   },
   {
    "duration": 25,
    "start_time": "2022-01-31T16:01:24.286Z"
   },
   {
    "duration": 15,
    "start_time": "2022-01-31T16:01:24.313Z"
   },
   {
    "duration": 54,
    "start_time": "2022-01-31T16:01:24.331Z"
   },
   {
    "duration": 23,
    "start_time": "2022-01-31T16:01:24.388Z"
   },
   {
    "duration": 11,
    "start_time": "2022-01-31T16:01:24.413Z"
   },
   {
    "duration": 737,
    "start_time": "2022-01-31T16:01:24.426Z"
   },
   {
    "duration": 1641,
    "start_time": "2022-01-31T16:01:36.871Z"
   },
   {
    "duration": 66,
    "start_time": "2022-01-31T16:01:38.515Z"
   },
   {
    "duration": 14,
    "start_time": "2022-01-31T16:01:38.587Z"
   },
   {
    "duration": 15,
    "start_time": "2022-01-31T16:01:38.603Z"
   },
   {
    "duration": 14,
    "start_time": "2022-01-31T16:01:38.620Z"
   },
   {
    "duration": 12,
    "start_time": "2022-01-31T16:01:38.669Z"
   },
   {
    "duration": 19,
    "start_time": "2022-01-31T16:01:38.685Z"
   },
   {
    "duration": 10,
    "start_time": "2022-01-31T16:01:38.707Z"
   },
   {
    "duration": 660,
    "start_time": "2022-01-31T16:01:38.720Z"
   },
   {
    "duration": 11,
    "start_time": "2022-01-31T16:01:39.383Z"
   },
   {
    "duration": 12,
    "start_time": "2022-01-31T16:01:39.397Z"
   },
   {
    "duration": 20,
    "start_time": "2022-01-31T16:01:39.411Z"
   },
   {
    "duration": 15,
    "start_time": "2022-01-31T16:01:39.470Z"
   },
   {
    "duration": 23,
    "start_time": "2022-01-31T16:01:39.487Z"
   },
   {
    "duration": 24,
    "start_time": "2022-01-31T16:01:39.513Z"
   },
   {
    "duration": 37,
    "start_time": "2022-01-31T16:01:39.539Z"
   },
   {
    "duration": 644,
    "start_time": "2022-01-31T16:01:39.578Z"
   },
   {
    "duration": 955,
    "start_time": "2022-01-31T16:01:40.224Z"
   },
   {
    "duration": 21,
    "start_time": "2022-01-31T16:01:41.181Z"
   },
   {
    "duration": 475,
    "start_time": "2022-01-31T16:01:41.204Z"
   },
   {
    "duration": 25,
    "start_time": "2022-01-31T16:01:41.681Z"
   },
   {
    "duration": 20,
    "start_time": "2022-01-31T16:01:41.711Z"
   },
   {
    "duration": 44,
    "start_time": "2022-01-31T16:01:41.733Z"
   },
   {
    "duration": 21,
    "start_time": "2022-01-31T16:01:41.780Z"
   },
   {
    "duration": 24,
    "start_time": "2022-01-31T16:01:41.803Z"
   },
   {
    "duration": 668,
    "start_time": "2022-01-31T16:01:41.829Z"
   },
   {
    "duration": 987,
    "start_time": "2022-01-31T16:01:42.500Z"
   },
   {
    "duration": 2483,
    "start_time": "2022-01-31T16:01:43.489Z"
   },
   {
    "duration": 9,
    "start_time": "2022-01-31T16:01:45.975Z"
   },
   {
    "duration": 22,
    "start_time": "2022-01-31T16:01:45.986Z"
   },
   {
    "duration": 87,
    "start_time": "2022-01-31T16:01:46.011Z"
   },
   {
    "duration": 70,
    "start_time": "2022-01-31T16:01:46.101Z"
   },
   {
    "duration": 55,
    "start_time": "2022-01-31T16:01:46.174Z"
   },
   {
    "duration": 1440,
    "start_time": "2022-01-31T16:01:46.232Z"
   },
   {
    "duration": 10,
    "start_time": "2022-01-31T16:01:47.676Z"
   },
   {
    "duration": 757,
    "start_time": "2022-01-31T16:01:47.689Z"
   },
   {
    "duration": 29,
    "start_time": "2022-01-31T16:01:48.448Z"
   },
   {
    "duration": 67,
    "start_time": "2022-01-31T16:01:48.480Z"
   },
   {
    "duration": 14,
    "start_time": "2022-01-31T16:01:48.570Z"
   },
   {
    "duration": 14,
    "start_time": "2022-01-31T16:17:08.276Z"
   },
   {
    "duration": 1349,
    "start_time": "2022-01-31T16:17:26.695Z"
   },
   {
    "duration": 66,
    "start_time": "2022-01-31T16:17:28.047Z"
   },
   {
    "duration": 17,
    "start_time": "2022-01-31T16:17:28.117Z"
   },
   {
    "duration": 38,
    "start_time": "2022-01-31T16:17:28.137Z"
   },
   {
    "duration": 13,
    "start_time": "2022-01-31T16:17:28.178Z"
   },
   {
    "duration": 11,
    "start_time": "2022-01-31T16:17:28.194Z"
   },
   {
    "duration": 19,
    "start_time": "2022-01-31T16:17:28.207Z"
   },
   {
    "duration": 47,
    "start_time": "2022-01-31T16:17:28.230Z"
   },
   {
    "duration": 645,
    "start_time": "2022-01-31T16:17:28.281Z"
   },
   {
    "duration": 12,
    "start_time": "2022-01-31T16:17:28.929Z"
   },
   {
    "duration": 32,
    "start_time": "2022-01-31T16:17:28.943Z"
   },
   {
    "duration": 21,
    "start_time": "2022-01-31T16:17:28.978Z"
   },
   {
    "duration": 14,
    "start_time": "2022-01-31T16:17:29.003Z"
   },
   {
    "duration": 59,
    "start_time": "2022-01-31T16:17:29.020Z"
   },
   {
    "duration": 24,
    "start_time": "2022-01-31T16:17:29.082Z"
   },
   {
    "duration": 8,
    "start_time": "2022-01-31T16:17:29.109Z"
   },
   {
    "duration": 654,
    "start_time": "2022-01-31T16:17:29.119Z"
   },
   {
    "duration": 850,
    "start_time": "2022-01-31T16:17:29.776Z"
   },
   {
    "duration": 20,
    "start_time": "2022-01-31T16:17:30.629Z"
   },
   {
    "duration": 460,
    "start_time": "2022-01-31T16:17:30.670Z"
   },
   {
    "duration": 38,
    "start_time": "2022-01-31T16:17:31.133Z"
   },
   {
    "duration": 22,
    "start_time": "2022-01-31T16:17:31.173Z"
   },
   {
    "duration": 15,
    "start_time": "2022-01-31T16:17:31.200Z"
   },
   {
    "duration": 59,
    "start_time": "2022-01-31T16:17:31.219Z"
   },
   {
    "duration": 25,
    "start_time": "2022-01-31T16:17:31.281Z"
   },
   {
    "duration": 621,
    "start_time": "2022-01-31T16:17:31.308Z"
   },
   {
    "duration": 841,
    "start_time": "2022-01-31T16:17:31.932Z"
   },
   {
    "duration": 2378,
    "start_time": "2022-01-31T16:17:32.775Z"
   },
   {
    "duration": 21,
    "start_time": "2022-01-31T16:17:35.155Z"
   },
   {
    "duration": 23,
    "start_time": "2022-01-31T16:17:35.179Z"
   },
   {
    "duration": 84,
    "start_time": "2022-01-31T16:17:35.205Z"
   },
   {
    "duration": 47,
    "start_time": "2022-01-31T16:17:35.291Z"
   },
   {
    "duration": 51,
    "start_time": "2022-01-31T16:17:35.370Z"
   },
   {
    "duration": 1295,
    "start_time": "2022-01-31T16:17:35.424Z"
   },
   {
    "duration": 7,
    "start_time": "2022-01-31T16:17:36.722Z"
   },
   {
    "duration": 837,
    "start_time": "2022-01-31T16:17:36.732Z"
   },
   {
    "duration": 18,
    "start_time": "2022-01-31T16:17:37.572Z"
   },
   {
    "duration": 87,
    "start_time": "2022-01-31T16:17:37.592Z"
   },
   {
    "duration": 14,
    "start_time": "2022-01-31T16:17:37.682Z"
   },
   {
    "duration": 22,
    "start_time": "2022-01-31T16:23:48.970Z"
   },
   {
    "duration": 26,
    "start_time": "2022-01-31T16:24:01.130Z"
   },
   {
    "duration": 24,
    "start_time": "2022-01-31T16:27:45.201Z"
   },
   {
    "duration": 23,
    "start_time": "2022-01-31T16:27:53.737Z"
   },
   {
    "duration": 1452,
    "start_time": "2022-01-31T16:28:07.614Z"
   },
   {
    "duration": 68,
    "start_time": "2022-01-31T16:28:09.069Z"
   },
   {
    "duration": 13,
    "start_time": "2022-01-31T16:28:09.140Z"
   },
   {
    "duration": 26,
    "start_time": "2022-01-31T16:28:09.156Z"
   },
   {
    "duration": 15,
    "start_time": "2022-01-31T16:28:09.185Z"
   },
   {
    "duration": 17,
    "start_time": "2022-01-31T16:28:09.202Z"
   },
   {
    "duration": 55,
    "start_time": "2022-01-31T16:28:09.221Z"
   },
   {
    "duration": 15,
    "start_time": "2022-01-31T16:28:09.282Z"
   },
   {
    "duration": 763,
    "start_time": "2022-01-31T16:28:09.302Z"
   },
   {
    "duration": 13,
    "start_time": "2022-01-31T16:28:10.069Z"
   },
   {
    "duration": 14,
    "start_time": "2022-01-31T16:28:10.084Z"
   },
   {
    "duration": 22,
    "start_time": "2022-01-31T16:28:10.100Z"
   },
   {
    "duration": 54,
    "start_time": "2022-01-31T16:28:10.124Z"
   },
   {
    "duration": 25,
    "start_time": "2022-01-31T16:28:10.181Z"
   },
   {
    "duration": 26,
    "start_time": "2022-01-31T16:28:10.209Z"
   },
   {
    "duration": 10,
    "start_time": "2022-01-31T16:28:10.271Z"
   },
   {
    "duration": 697,
    "start_time": "2022-01-31T16:28:10.284Z"
   },
   {
    "duration": 862,
    "start_time": "2022-01-31T16:28:10.984Z"
   },
   {
    "duration": 37,
    "start_time": "2022-01-31T16:28:11.850Z"
   },
   {
    "duration": 482,
    "start_time": "2022-01-31T16:28:11.891Z"
   },
   {
    "duration": 27,
    "start_time": "2022-01-31T16:28:12.376Z"
   },
   {
    "duration": 22,
    "start_time": "2022-01-31T16:28:12.406Z"
   },
   {
    "duration": 45,
    "start_time": "2022-01-31T16:28:12.434Z"
   },
   {
    "duration": 20,
    "start_time": "2022-01-31T16:28:12.482Z"
   },
   {
    "duration": 34,
    "start_time": "2022-01-31T16:28:12.504Z"
   },
   {
    "duration": 638,
    "start_time": "2022-01-31T16:28:12.540Z"
   },
   {
    "duration": 972,
    "start_time": "2022-01-31T16:28:13.180Z"
   },
   {
    "duration": 2518,
    "start_time": "2022-01-31T16:28:14.154Z"
   },
   {
    "duration": 8,
    "start_time": "2022-01-31T16:28:16.675Z"
   },
   {
    "duration": 21,
    "start_time": "2022-01-31T16:28:16.685Z"
   },
   {
    "duration": 85,
    "start_time": "2022-01-31T16:28:16.709Z"
   },
   {
    "duration": 81,
    "start_time": "2022-01-31T16:28:16.797Z"
   },
   {
    "duration": 51,
    "start_time": "2022-01-31T16:28:16.881Z"
   },
   {
    "duration": 1822,
    "start_time": "2022-01-31T16:28:16.968Z"
   },
   {
    "duration": 11,
    "start_time": "2022-01-31T16:28:18.793Z"
   },
   {
    "duration": 970,
    "start_time": "2022-01-31T16:28:18.807Z"
   },
   {
    "duration": 18,
    "start_time": "2022-01-31T16:28:19.780Z"
   },
   {
    "duration": 89,
    "start_time": "2022-01-31T16:28:19.800Z"
   },
   {
    "duration": 13,
    "start_time": "2022-01-31T16:28:19.892Z"
   },
   {
    "duration": 24,
    "start_time": "2022-01-31T16:56:01.766Z"
   },
   {
    "duration": 20,
    "start_time": "2022-01-31T16:57:23.635Z"
   },
   {
    "duration": 26,
    "start_time": "2022-01-31T16:57:27.968Z"
   },
   {
    "duration": 20,
    "start_time": "2022-01-31T16:58:43.196Z"
   },
   {
    "duration": 76,
    "start_time": "2022-01-31T17:06:50.951Z"
   },
   {
    "duration": 50,
    "start_time": "2022-01-31T17:17:27.192Z"
   },
   {
    "duration": 52,
    "start_time": "2022-01-31T17:18:40.906Z"
   },
   {
    "duration": 56,
    "start_time": "2022-01-31T17:30:13.457Z"
   },
   {
    "duration": 105,
    "start_time": "2022-01-31T17:30:33.212Z"
   },
   {
    "duration": 199,
    "start_time": "2022-01-31T17:30:44.740Z"
   },
   {
    "duration": 50,
    "start_time": "2022-01-31T17:31:26.659Z"
   },
   {
    "duration": 9,
    "start_time": "2022-01-31T17:38:03.405Z"
   },
   {
    "duration": 14,
    "start_time": "2022-01-31T17:38:16.106Z"
   },
   {
    "duration": 26,
    "start_time": "2022-01-31T17:38:32.965Z"
   },
   {
    "duration": 22,
    "start_time": "2022-01-31T17:39:12.906Z"
   },
   {
    "duration": 9,
    "start_time": "2022-01-31T17:39:53.257Z"
   },
   {
    "duration": 15,
    "start_time": "2022-01-31T17:39:55.440Z"
   },
   {
    "duration": 8,
    "start_time": "2022-01-31T17:41:02.392Z"
   },
   {
    "duration": 1304,
    "start_time": "2022-01-31T17:44:44.297Z"
   },
   {
    "duration": 4,
    "start_time": "2022-01-31T17:46:02.852Z"
   },
   {
    "duration": 68,
    "start_time": "2022-01-31T17:46:02.859Z"
   },
   {
    "duration": 14,
    "start_time": "2022-01-31T17:46:02.930Z"
   },
   {
    "duration": 35,
    "start_time": "2022-01-31T17:46:02.947Z"
   },
   {
    "duration": 19,
    "start_time": "2022-01-31T17:46:02.985Z"
   },
   {
    "duration": 13,
    "start_time": "2022-01-31T17:46:03.006Z"
   },
   {
    "duration": 60,
    "start_time": "2022-01-31T17:46:03.022Z"
   },
   {
    "duration": 12,
    "start_time": "2022-01-31T17:46:03.085Z"
   },
   {
    "duration": 656,
    "start_time": "2022-01-31T17:46:03.100Z"
   },
   {
    "duration": 15,
    "start_time": "2022-01-31T17:46:03.759Z"
   },
   {
    "duration": 13,
    "start_time": "2022-01-31T17:46:03.776Z"
   },
   {
    "duration": 457,
    "start_time": "2022-01-31T17:46:03.791Z"
   },
   {
    "duration": 21,
    "start_time": "2022-01-31T17:46:04.230Z"
   },
   {
    "duration": 16,
    "start_time": "2022-01-31T17:46:04.236Z"
   },
   {
    "duration": 13,
    "start_time": "2022-01-31T17:46:04.241Z"
   },
   {
    "duration": 8,
    "start_time": "2022-01-31T17:46:04.247Z"
   },
   {
    "duration": 3,
    "start_time": "2022-01-31T17:46:04.253Z"
   },
   {
    "duration": -1,
    "start_time": "2022-01-31T17:46:04.259Z"
   },
   {
    "duration": -5,
    "start_time": "2022-01-31T17:46:04.264Z"
   },
   {
    "duration": -8,
    "start_time": "2022-01-31T17:46:04.269Z"
   },
   {
    "duration": -21,
    "start_time": "2022-01-31T17:46:04.283Z"
   },
   {
    "duration": -26,
    "start_time": "2022-01-31T17:46:04.289Z"
   },
   {
    "duration": -29,
    "start_time": "2022-01-31T17:46:04.294Z"
   },
   {
    "duration": -34,
    "start_time": "2022-01-31T17:46:04.301Z"
   },
   {
    "duration": -37,
    "start_time": "2022-01-31T17:46:04.305Z"
   },
   {
    "duration": -42,
    "start_time": "2022-01-31T17:46:04.311Z"
   },
   {
    "duration": -44,
    "start_time": "2022-01-31T17:46:04.315Z"
   },
   {
    "duration": -48,
    "start_time": "2022-01-31T17:46:04.321Z"
   },
   {
    "duration": -51,
    "start_time": "2022-01-31T17:46:04.325Z"
   },
   {
    "duration": -55,
    "start_time": "2022-01-31T17:46:04.332Z"
   },
   {
    "duration": -59,
    "start_time": "2022-01-31T17:46:04.337Z"
   },
   {
    "duration": -63,
    "start_time": "2022-01-31T17:46:04.342Z"
   },
   {
    "duration": -66,
    "start_time": "2022-01-31T17:46:04.347Z"
   },
   {
    "duration": -70,
    "start_time": "2022-01-31T17:46:04.352Z"
   },
   {
    "duration": -73,
    "start_time": "2022-01-31T17:46:04.356Z"
   },
   {
    "duration": 1351,
    "start_time": "2022-01-31T17:46:10.194Z"
   },
   {
    "duration": 4,
    "start_time": "2022-01-31T17:47:12.731Z"
   },
   {
    "duration": 1368,
    "start_time": "2022-01-31T17:47:20.777Z"
   },
   {
    "duration": 69,
    "start_time": "2022-01-31T17:47:22.148Z"
   },
   {
    "duration": 14,
    "start_time": "2022-01-31T17:47:22.220Z"
   },
   {
    "duration": 35,
    "start_time": "2022-01-31T17:47:22.237Z"
   },
   {
    "duration": 15,
    "start_time": "2022-01-31T17:47:22.274Z"
   },
   {
    "duration": 12,
    "start_time": "2022-01-31T17:47:22.291Z"
   },
   {
    "duration": 20,
    "start_time": "2022-01-31T17:47:22.305Z"
   },
   {
    "duration": 47,
    "start_time": "2022-01-31T17:47:22.329Z"
   },
   {
    "duration": 645,
    "start_time": "2022-01-31T17:47:22.380Z"
   },
   {
    "duration": 13,
    "start_time": "2022-01-31T17:47:23.027Z"
   },
   {
    "duration": 29,
    "start_time": "2022-01-31T17:47:23.042Z"
   },
   {
    "duration": 453,
    "start_time": "2022-01-31T17:47:23.073Z"
   },
   {
    "duration": 28,
    "start_time": "2022-01-31T17:47:23.502Z"
   },
   {
    "duration": 25,
    "start_time": "2022-01-31T17:47:23.507Z"
   },
   {
    "duration": 21,
    "start_time": "2022-01-31T17:47:23.512Z"
   },
   {
    "duration": 18,
    "start_time": "2022-01-31T17:47:23.517Z"
   },
   {
    "duration": 12,
    "start_time": "2022-01-31T17:47:23.524Z"
   },
   {
    "duration": 9,
    "start_time": "2022-01-31T17:47:23.529Z"
   },
   {
    "duration": 4,
    "start_time": "2022-01-31T17:47:23.535Z"
   },
   {
    "duration": 0,
    "start_time": "2022-01-31T17:47:23.541Z"
   },
   {
    "duration": -4,
    "start_time": "2022-01-31T17:47:23.546Z"
   },
   {
    "duration": -7,
    "start_time": "2022-01-31T17:47:23.551Z"
   },
   {
    "duration": -12,
    "start_time": "2022-01-31T17:47:23.557Z"
   },
   {
    "duration": -15,
    "start_time": "2022-01-31T17:47:23.562Z"
   },
   {
    "duration": -20,
    "start_time": "2022-01-31T17:47:23.568Z"
   },
   {
    "duration": -24,
    "start_time": "2022-01-31T17:47:23.574Z"
   },
   {
    "duration": -29,
    "start_time": "2022-01-31T17:47:23.580Z"
   },
   {
    "duration": -32,
    "start_time": "2022-01-31T17:47:23.584Z"
   },
   {
    "duration": -36,
    "start_time": "2022-01-31T17:47:23.590Z"
   },
   {
    "duration": -39,
    "start_time": "2022-01-31T17:47:23.594Z"
   },
   {
    "duration": -43,
    "start_time": "2022-01-31T17:47:23.600Z"
   },
   {
    "duration": -58,
    "start_time": "2022-01-31T17:47:23.616Z"
   },
   {
    "duration": -63,
    "start_time": "2022-01-31T17:47:23.623Z"
   },
   {
    "duration": -67,
    "start_time": "2022-01-31T17:47:23.628Z"
   },
   {
    "duration": -73,
    "start_time": "2022-01-31T17:47:23.635Z"
   },
   {
    "duration": -78,
    "start_time": "2022-01-31T17:47:23.641Z"
   },
   {
    "duration": -78,
    "start_time": "2022-01-31T17:47:23.647Z"
   },
   {
    "duration": -81,
    "start_time": "2022-01-31T17:47:23.651Z"
   },
   {
    "duration": -84,
    "start_time": "2022-01-31T17:47:23.656Z"
   },
   {
    "duration": -88,
    "start_time": "2022-01-31T17:47:23.661Z"
   },
   {
    "duration": -92,
    "start_time": "2022-01-31T17:47:23.666Z"
   },
   {
    "duration": 316,
    "start_time": "2022-01-31T17:48:14.619Z"
   },
   {
    "duration": 330,
    "start_time": "2022-01-31T17:48:19.709Z"
   },
   {
    "duration": 1372,
    "start_time": "2022-01-31T17:49:10.210Z"
   },
   {
    "duration": 66,
    "start_time": "2022-01-31T17:49:11.585Z"
   },
   {
    "duration": 19,
    "start_time": "2022-01-31T17:49:11.653Z"
   },
   {
    "duration": 13,
    "start_time": "2022-01-31T17:49:11.674Z"
   },
   {
    "duration": 13,
    "start_time": "2022-01-31T17:49:11.690Z"
   },
   {
    "duration": 11,
    "start_time": "2022-01-31T17:49:11.706Z"
   },
   {
    "duration": 59,
    "start_time": "2022-01-31T17:49:11.719Z"
   },
   {
    "duration": 14,
    "start_time": "2022-01-31T17:49:11.782Z"
   },
   {
    "duration": 662,
    "start_time": "2022-01-31T17:49:11.799Z"
   },
   {
    "duration": 15,
    "start_time": "2022-01-31T17:49:12.464Z"
   },
   {
    "duration": 14,
    "start_time": "2022-01-31T17:49:12.482Z"
   },
   {
    "duration": 20,
    "start_time": "2022-01-31T17:49:12.498Z"
   },
   {
    "duration": 49,
    "start_time": "2022-01-31T17:49:12.520Z"
   },
   {
    "duration": 14,
    "start_time": "2022-01-31T17:49:12.572Z"
   },
   {
    "duration": 22,
    "start_time": "2022-01-31T17:49:12.589Z"
   },
   {
    "duration": 55,
    "start_time": "2022-01-31T17:49:12.614Z"
   },
   {
    "duration": 8,
    "start_time": "2022-01-31T17:49:12.672Z"
   },
   {
    "duration": 657,
    "start_time": "2022-01-31T17:49:12.683Z"
   },
   {
    "duration": 867,
    "start_time": "2022-01-31T17:49:13.342Z"
   },
   {
    "duration": 20,
    "start_time": "2022-01-31T17:49:14.211Z"
   },
   {
    "duration": 614,
    "start_time": "2022-01-31T17:49:14.233Z"
   },
   {
    "duration": 34,
    "start_time": "2022-01-31T17:49:14.850Z"
   },
   {
    "duration": 20,
    "start_time": "2022-01-31T17:49:14.889Z"
   },
   {
    "duration": 12,
    "start_time": "2022-01-31T17:49:14.912Z"
   },
   {
    "duration": 54,
    "start_time": "2022-01-31T17:49:14.926Z"
   },
   {
    "duration": 22,
    "start_time": "2022-01-31T17:49:14.982Z"
   },
   {
    "duration": 624,
    "start_time": "2022-01-31T17:49:15.007Z"
   },
   {
    "duration": 856,
    "start_time": "2022-01-31T17:49:15.633Z"
   },
   {
    "duration": 2386,
    "start_time": "2022-01-31T17:49:16.492Z"
   },
   {
    "duration": 10,
    "start_time": "2022-01-31T17:49:18.880Z"
   },
   {
    "duration": 21,
    "start_time": "2022-01-31T17:49:18.892Z"
   },
   {
    "duration": 83,
    "start_time": "2022-01-31T17:49:18.916Z"
   },
   {
    "duration": 70,
    "start_time": "2022-01-31T17:49:19.001Z"
   },
   {
    "duration": 47,
    "start_time": "2022-01-31T17:49:19.073Z"
   },
   {
    "duration": 76,
    "start_time": "2022-01-31T17:49:19.122Z"
   },
   {
    "duration": 1381,
    "start_time": "2022-01-31T17:49:19.200Z"
   },
   {
    "duration": 8,
    "start_time": "2022-01-31T17:49:20.584Z"
   },
   {
    "duration": 893,
    "start_time": "2022-01-31T17:49:20.594Z"
   },
   {
    "duration": 17,
    "start_time": "2022-01-31T17:49:21.490Z"
   },
   {
    "duration": 89,
    "start_time": "2022-01-31T17:49:21.509Z"
   },
   {
    "duration": 12,
    "start_time": "2022-01-31T17:49:21.601Z"
   },
   {
    "duration": 1418,
    "start_time": "2022-01-31T18:09:15.063Z"
   },
   {
    "duration": 69,
    "start_time": "2022-01-31T18:09:16.484Z"
   },
   {
    "duration": 24,
    "start_time": "2022-01-31T18:09:16.557Z"
   },
   {
    "duration": 16,
    "start_time": "2022-01-31T18:09:16.584Z"
   },
   {
    "duration": 17,
    "start_time": "2022-01-31T18:09:16.603Z"
   },
   {
    "duration": 53,
    "start_time": "2022-01-31T18:09:16.623Z"
   },
   {
    "duration": 19,
    "start_time": "2022-01-31T18:09:16.678Z"
   },
   {
    "duration": 13,
    "start_time": "2022-01-31T18:09:16.701Z"
   },
   {
    "duration": 661,
    "start_time": "2022-01-31T18:09:16.717Z"
   },
   {
    "duration": 11,
    "start_time": "2022-01-31T18:09:17.381Z"
   },
   {
    "duration": 13,
    "start_time": "2022-01-31T18:09:17.394Z"
   },
   {
    "duration": 21,
    "start_time": "2022-01-31T18:09:17.409Z"
   },
   {
    "duration": 43,
    "start_time": "2022-01-31T18:09:17.432Z"
   },
   {
    "duration": 14,
    "start_time": "2022-01-31T18:09:17.477Z"
   },
   {
    "duration": 24,
    "start_time": "2022-01-31T18:09:17.493Z"
   },
   {
    "duration": 59,
    "start_time": "2022-01-31T18:09:17.519Z"
   },
   {
    "duration": 7,
    "start_time": "2022-01-31T18:09:17.581Z"
   },
   {
    "duration": 652,
    "start_time": "2022-01-31T18:09:17.590Z"
   },
   {
    "duration": 847,
    "start_time": "2022-01-31T18:09:18.244Z"
   },
   {
    "duration": 20,
    "start_time": "2022-01-31T18:09:19.093Z"
   },
   {
    "duration": 471,
    "start_time": "2022-01-31T18:09:19.116Z"
   },
   {
    "duration": 22,
    "start_time": "2022-01-31T18:09:19.589Z"
   },
   {
    "duration": 20,
    "start_time": "2022-01-31T18:09:19.616Z"
   },
   {
    "duration": 37,
    "start_time": "2022-01-31T18:09:19.638Z"
   },
   {
    "duration": 22,
    "start_time": "2022-01-31T18:09:19.679Z"
   },
   {
    "duration": 39,
    "start_time": "2022-01-31T18:09:19.703Z"
   },
   {
    "duration": 602,
    "start_time": "2022-01-31T18:09:19.745Z"
   },
   {
    "duration": 905,
    "start_time": "2022-01-31T18:09:20.350Z"
   },
   {
    "duration": 2533,
    "start_time": "2022-01-31T18:09:21.258Z"
   },
   {
    "duration": 9,
    "start_time": "2022-01-31T18:09:23.795Z"
   },
   {
    "duration": 30,
    "start_time": "2022-01-31T18:09:23.807Z"
   },
   {
    "duration": 76,
    "start_time": "2022-01-31T18:09:23.840Z"
   },
   {
    "duration": 83,
    "start_time": "2022-01-31T18:09:23.919Z"
   },
   {
    "duration": 73,
    "start_time": "2022-01-31T18:09:24.004Z"
   },
   {
    "duration": 46,
    "start_time": "2022-01-31T18:09:24.080Z"
   },
   {
    "duration": 1467,
    "start_time": "2022-01-31T18:09:24.129Z"
   },
   {
    "duration": 9,
    "start_time": "2022-01-31T18:09:25.598Z"
   },
   {
    "duration": 746,
    "start_time": "2022-01-31T18:09:25.609Z"
   },
   {
    "duration": 20,
    "start_time": "2022-01-31T18:09:26.358Z"
   },
   {
    "duration": 89,
    "start_time": "2022-01-31T18:09:26.380Z"
   },
   {
    "duration": 13,
    "start_time": "2022-01-31T18:09:26.472Z"
   },
   {
    "duration": 1411,
    "start_time": "2022-01-31T18:43:41.674Z"
   },
   {
    "duration": 66,
    "start_time": "2022-01-31T18:43:43.088Z"
   },
   {
    "duration": 24,
    "start_time": "2022-01-31T18:43:43.157Z"
   },
   {
    "duration": 14,
    "start_time": "2022-01-31T18:43:43.184Z"
   },
   {
    "duration": 21,
    "start_time": "2022-01-31T18:43:43.201Z"
   },
   {
    "duration": 51,
    "start_time": "2022-01-31T18:43:43.225Z"
   },
   {
    "duration": 27,
    "start_time": "2022-01-31T18:43:43.278Z"
   },
   {
    "duration": 12,
    "start_time": "2022-01-31T18:43:43.309Z"
   },
   {
    "duration": 665,
    "start_time": "2022-01-31T18:43:43.325Z"
   },
   {
    "duration": 14,
    "start_time": "2022-01-31T18:43:43.994Z"
   },
   {
    "duration": 16,
    "start_time": "2022-01-31T18:43:44.012Z"
   },
   {
    "duration": 54,
    "start_time": "2022-01-31T18:43:44.031Z"
   },
   {
    "duration": 10,
    "start_time": "2022-01-31T18:43:44.087Z"
   },
   {
    "duration": 13,
    "start_time": "2022-01-31T18:43:44.100Z"
   },
   {
    "duration": 59,
    "start_time": "2022-01-31T18:43:44.116Z"
   },
   {
    "duration": 25,
    "start_time": "2022-01-31T18:43:44.177Z"
   },
   {
    "duration": 11,
    "start_time": "2022-01-31T18:43:44.204Z"
   },
   {
    "duration": 698,
    "start_time": "2022-01-31T18:43:44.217Z"
   },
   {
    "duration": 858,
    "start_time": "2022-01-31T18:43:44.917Z"
   },
   {
    "duration": 29,
    "start_time": "2022-01-31T18:43:45.777Z"
   },
   {
    "duration": 590,
    "start_time": "2022-01-31T18:43:45.808Z"
   },
   {
    "duration": 24,
    "start_time": "2022-01-31T18:43:46.401Z"
   },
   {
    "duration": 43,
    "start_time": "2022-01-31T18:43:46.430Z"
   },
   {
    "duration": 12,
    "start_time": "2022-01-31T18:43:46.476Z"
   },
   {
    "duration": 19,
    "start_time": "2022-01-31T18:43:46.490Z"
   },
   {
    "duration": 66,
    "start_time": "2022-01-31T18:43:46.511Z"
   },
   {
    "duration": 800,
    "start_time": "2022-01-31T18:43:46.580Z"
   },
   {
    "duration": 841,
    "start_time": "2022-01-31T18:43:47.383Z"
   },
   {
    "duration": 2735,
    "start_time": "2022-01-31T18:43:48.227Z"
   },
   {
    "duration": 9,
    "start_time": "2022-01-31T18:43:50.964Z"
   },
   {
    "duration": 21,
    "start_time": "2022-01-31T18:43:50.976Z"
   },
   {
    "duration": 93,
    "start_time": "2022-01-31T18:43:51.000Z"
   },
   {
    "duration": 73,
    "start_time": "2022-01-31T18:43:51.096Z"
   },
   {
    "duration": 61,
    "start_time": "2022-01-31T18:43:51.171Z"
   },
   {
    "duration": 62,
    "start_time": "2022-01-31T18:43:51.234Z"
   },
   {
    "duration": 1574,
    "start_time": "2022-01-31T18:43:51.298Z"
   },
   {
    "duration": 8,
    "start_time": "2022-01-31T18:43:52.875Z"
   },
   {
    "duration": 740,
    "start_time": "2022-01-31T18:43:52.885Z"
   },
   {
    "duration": 17,
    "start_time": "2022-01-31T18:43:53.628Z"
   },
   {
    "duration": 80,
    "start_time": "2022-01-31T18:43:53.648Z"
   },
   {
    "duration": 13,
    "start_time": "2022-01-31T18:43:53.731Z"
   },
   {
    "duration": 1410,
    "start_time": "2022-01-31T18:48:36.026Z"
   },
   {
    "duration": 69,
    "start_time": "2022-01-31T18:48:37.440Z"
   },
   {
    "duration": 19,
    "start_time": "2022-01-31T18:48:37.513Z"
   },
   {
    "duration": 35,
    "start_time": "2022-01-31T18:48:37.535Z"
   },
   {
    "duration": 14,
    "start_time": "2022-01-31T18:48:37.573Z"
   },
   {
    "duration": 11,
    "start_time": "2022-01-31T18:48:37.589Z"
   },
   {
    "duration": 21,
    "start_time": "2022-01-31T18:48:37.602Z"
   },
   {
    "duration": 56,
    "start_time": "2022-01-31T18:48:37.626Z"
   },
   {
    "duration": 1034,
    "start_time": "2022-01-31T18:48:37.688Z"
   },
   {
    "duration": 17,
    "start_time": "2022-01-31T18:48:38.726Z"
   },
   {
    "duration": 33,
    "start_time": "2022-01-31T18:48:38.746Z"
   },
   {
    "duration": 28,
    "start_time": "2022-01-31T18:48:38.783Z"
   },
   {
    "duration": 13,
    "start_time": "2022-01-31T18:48:38.815Z"
   },
   {
    "duration": 53,
    "start_time": "2022-01-31T18:48:38.831Z"
   },
   {
    "duration": 33,
    "start_time": "2022-01-31T18:48:38.887Z"
   },
   {
    "duration": 62,
    "start_time": "2022-01-31T18:48:38.923Z"
   },
   {
    "duration": 11,
    "start_time": "2022-01-31T18:48:38.989Z"
   },
   {
    "duration": 1022,
    "start_time": "2022-01-31T18:48:39.003Z"
   },
   {
    "duration": 1349,
    "start_time": "2022-01-31T18:48:40.028Z"
   },
   {
    "duration": 31,
    "start_time": "2022-01-31T18:48:41.380Z"
   },
   {
    "duration": 477,
    "start_time": "2022-01-31T18:48:41.414Z"
   },
   {
    "duration": 25,
    "start_time": "2022-01-31T18:48:41.894Z"
   },
   {
    "duration": 52,
    "start_time": "2022-01-31T18:48:41.922Z"
   },
   {
    "duration": 15,
    "start_time": "2022-01-31T18:48:41.977Z"
   },
   {
    "duration": 22,
    "start_time": "2022-01-31T18:48:41.995Z"
   },
   {
    "duration": 63,
    "start_time": "2022-01-31T18:48:42.020Z"
   },
   {
    "duration": 686,
    "start_time": "2022-01-31T18:48:42.091Z"
   },
   {
    "duration": 859,
    "start_time": "2022-01-31T18:48:42.779Z"
   },
   {
    "duration": 2573,
    "start_time": "2022-01-31T18:48:43.640Z"
   },
   {
    "duration": 8,
    "start_time": "2022-01-31T18:48:46.216Z"
   },
   {
    "duration": 47,
    "start_time": "2022-01-31T18:48:46.226Z"
   },
   {
    "duration": 48,
    "start_time": "2022-01-31T18:48:46.276Z"
   },
   {
    "duration": 78,
    "start_time": "2022-01-31T18:48:46.327Z"
   },
   {
    "duration": 76,
    "start_time": "2022-01-31T18:48:46.408Z"
   },
   {
    "duration": 45,
    "start_time": "2022-01-31T18:48:46.486Z"
   },
   {
    "duration": 1376,
    "start_time": "2022-01-31T18:48:46.533Z"
   },
   {
    "duration": 8,
    "start_time": "2022-01-31T18:48:47.911Z"
   },
   {
    "duration": 889,
    "start_time": "2022-01-31T18:48:47.921Z"
   },
   {
    "duration": 17,
    "start_time": "2022-01-31T18:48:48.813Z"
   },
   {
    "duration": 94,
    "start_time": "2022-01-31T18:48:48.833Z"
   },
   {
    "duration": 12,
    "start_time": "2022-01-31T18:48:48.929Z"
   }
  ],
  "kernelspec": {
   "display_name": "Python 3 (ipykernel)",
   "language": "python",
   "name": "python3"
  },
  "language_info": {
   "codemirror_mode": {
    "name": "ipython",
    "version": 3
   },
   "file_extension": ".py",
   "mimetype": "text/x-python",
   "name": "python",
   "nbconvert_exporter": "python",
   "pygments_lexer": "ipython3",
   "version": "3.9.7"
  },
  "toc": {
   "base_numbering": 1,
   "nav_menu": {},
   "number_sections": false,
   "sideBar": true,
   "skip_h1_title": false,
   "title_cell": "Содержание",
   "title_sidebar": "Contents",
   "toc_cell": false,
   "toc_position": {
    "height": "calc(100% - 180px)",
    "left": "10px",
    "top": "150px",
    "width": "307.784px"
   },
   "toc_section_display": true,
   "toc_window_display": false
  }
 },
 "nbformat": 4,
 "nbformat_minor": 2
}
